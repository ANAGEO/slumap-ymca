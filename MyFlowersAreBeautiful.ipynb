{
 "cells": [
  {
   "cell_type": "code",
   "execution_count": 2,
   "id": "73ef8441-cd58-47ae-803c-88c795b5e510",
   "metadata": {},
   "outputs": [],
   "source": [
    "import numpy as np\n",
    "import matplotlib.pyplot as plt"
   ]
  },
  {
   "cell_type": "code",
   "execution_count": 52,
   "id": "20f730ea-fbbd-4d90-b9dc-e49363c9521d",
   "metadata": {},
   "outputs": [],
   "source": [
    "input_shapex = (5, 5, 4)\n",
    "input_shapey = (5, 5, 3)"
   ]
  },
  {
   "cell_type": "code",
   "execution_count": 53,
   "id": "05465d83-7e50-4b26-a1f9-b7062838f652",
   "metadata": {
    "scrolled": true,
    "tags": []
   },
   "outputs": [
    {
     "name": "stdout",
     "output_type": "stream",
     "text": [
      "[[[ 0  1  2  3]\n",
      "  [ 4  5  6  7]\n",
      "  [ 8  9 10 11]\n",
      "  [12 13 14 15]\n",
      "  [16 17 18 19]]\n",
      "\n",
      " [[20 21 22 23]\n",
      "  [24 25 26 27]\n",
      "  [28 29 30 31]\n",
      "  [32 33 34 35]\n",
      "  [36 37 38 39]]\n",
      "\n",
      " [[40 41 42 43]\n",
      "  [44 45 46 47]\n",
      "  [48 49 50 51]\n",
      "  [52 53 54 55]\n",
      "  [56 57 58 59]]\n",
      "\n",
      " [[60 61 62 63]\n",
      "  [64 65 66 67]\n",
      "  [68 69 70 71]\n",
      "  [72 73 74 75]\n",
      "  [76 77 78 79]]\n",
      "\n",
      " [[80 81 82 83]\n",
      "  [84 85 86 87]\n",
      "  [88 89 90 91]\n",
      "  [92 93 94 95]\n",
      "  [96 97 98 99]]]\n",
      "[[[ 0  1  2]\n",
      "  [ 3  4  5]\n",
      "  [ 6  7  8]\n",
      "  [ 9 10 11]\n",
      "  [12 13 14]]\n",
      "\n",
      " [[15 16 17]\n",
      "  [18 19 20]\n",
      "  [21 22 23]\n",
      "  [24 25 26]\n",
      "  [27 28 29]]\n",
      "\n",
      " [[30 31 32]\n",
      "  [33 34 35]\n",
      "  [36 37 38]\n",
      "  [39 40 41]\n",
      "  [42 43 44]]\n",
      "\n",
      " [[45 46 47]\n",
      "  [48 49 50]\n",
      "  [51 52 53]\n",
      "  [54 55 56]\n",
      "  [57 58 59]]\n",
      "\n",
      " [[60 61 62]\n",
      "  [63 64 65]\n",
      "  [66 67 68]\n",
      "  [69 70 71]\n",
      "  [72 73 74]]]\n"
     ]
    }
   ],
   "source": [
    "x = np.arange(np.prod(input_shapex)).reshape(input_shapex)\n",
    "y = np.arange(np.prod(input_shapey)).reshape(input_shapey)\n",
    "print(x)\n",
    "print(y)"
   ]
  },
  {
   "cell_type": "code",
   "execution_count": 54,
   "id": "282718eb-f0d6-4303-a09a-4ca430822b60",
   "metadata": {},
   "outputs": [
    {
     "name": "stdout",
     "output_type": "stream",
     "text": [
      "(5, 5, 7)\n"
     ]
    }
   ],
   "source": [
    "conc = tf.keras.layers.Concatenate()([x,y])\n",
    "print(conc.shape)"
   ]
  },
  {
   "cell_type": "code",
   "execution_count": 61,
   "id": "b37e8687-957e-4372-8bf9-41413f357a3e",
   "metadata": {},
   "outputs": [],
   "source": [
    "x0 = tf.keras.layers.Lambda(lambda x : x[:,:,0:4])(conc)\n",
    "y0 = tf.keras.layers.Lambda(lambda x : x[:,:,4:8])(conc)"
   ]
  },
  {
   "cell_type": "code",
   "execution_count": 62,
   "id": "363ad33e-631e-4fc1-80a3-f1323ceb42a5",
   "metadata": {},
   "outputs": [
    {
     "name": "stdout",
     "output_type": "stream",
     "text": [
      "tf.Tensor(\n",
      "[[[ 0  1  2  3]\n",
      "  [ 4  5  6  7]\n",
      "  [ 8  9 10 11]\n",
      "  [12 13 14 15]\n",
      "  [16 17 18 19]]\n",
      "\n",
      " [[20 21 22 23]\n",
      "  [24 25 26 27]\n",
      "  [28 29 30 31]\n",
      "  [32 33 34 35]\n",
      "  [36 37 38 39]]\n",
      "\n",
      " [[40 41 42 43]\n",
      "  [44 45 46 47]\n",
      "  [48 49 50 51]\n",
      "  [52 53 54 55]\n",
      "  [56 57 58 59]]\n",
      "\n",
      " [[60 61 62 63]\n",
      "  [64 65 66 67]\n",
      "  [68 69 70 71]\n",
      "  [72 73 74 75]\n",
      "  [76 77 78 79]]\n",
      "\n",
      " [[80 81 82 83]\n",
      "  [84 85 86 87]\n",
      "  [88 89 90 91]\n",
      "  [92 93 94 95]\n",
      "  [96 97 98 99]]], shape=(5, 5, 4), dtype=int64)\n"
     ]
    }
   ],
   "source": [
    "print(x0)"
   ]
  },
  {
   "cell_type": "code",
   "execution_count": 63,
   "id": "db1bdc7c-7e6b-4113-b01c-63177b3b047b",
   "metadata": {},
   "outputs": [
    {
     "name": "stdout",
     "output_type": "stream",
     "text": [
      "tf.Tensor(\n",
      "[[[ 0  1  2]\n",
      "  [ 3  4  5]\n",
      "  [ 6  7  8]\n",
      "  [ 9 10 11]\n",
      "  [12 13 14]]\n",
      "\n",
      " [[15 16 17]\n",
      "  [18 19 20]\n",
      "  [21 22 23]\n",
      "  [24 25 26]\n",
      "  [27 28 29]]\n",
      "\n",
      " [[30 31 32]\n",
      "  [33 34 35]\n",
      "  [36 37 38]\n",
      "  [39 40 41]\n",
      "  [42 43 44]]\n",
      "\n",
      " [[45 46 47]\n",
      "  [48 49 50]\n",
      "  [51 52 53]\n",
      "  [54 55 56]\n",
      "  [57 58 59]]\n",
      "\n",
      " [[60 61 62]\n",
      "  [63 64 65]\n",
      "  [66 67 68]\n",
      "  [69 70 71]\n",
      "  [72 73 74]]], shape=(5, 5, 3), dtype=int64)\n"
     ]
    }
   ],
   "source": [
    "print(y0)"
   ]
  },
  {
   "cell_type": "code",
   "execution_count": null,
   "id": "d073fa7e-fdab-4d86-9014-e9a12ad134cf",
   "metadata": {},
   "outputs": [],
   "source": []
  }
 ],
 "metadata": {
  "kernelspec": {
   "display_name": "Python 3",
   "language": "python",
   "name": "python3"
  },
  "language_info": {
   "codemirror_mode": {
    "name": "ipython",
    "version": 3
   },
   "file_extension": ".py",
   "mimetype": "text/x-python",
   "name": "python",
   "nbconvert_exporter": "python",
   "pygments_lexer": "ipython3",
   "version": "3.8.10"
  }
 },
 "nbformat": 4,
 "nbformat_minor": 5
}
