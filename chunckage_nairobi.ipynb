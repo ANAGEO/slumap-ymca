{
 "cells": [
  {
   "cell_type": "code",
   "execution_count": 2,
   "id": "07b5dfc1-82c0-42cf-a9df-165b5de8652c",
   "metadata": {},
   "outputs": [
    {
     "name": "stdout",
     "output_type": "stream",
     "text": [
      "690\n",
      "660\n",
      "fini\n"
     ]
    }
   ],
   "source": [
    "from osgeo import gdal \n",
    "import os, sys\n",
    "import subprocess\n",
    "\n",
    "in_path = \"Images/S1/\"\n",
    "input_filename = \"s1_vv_small.tif\"\n",
    "\n",
    "out_path = \"Images/S1/decoup/\"\n",
    "output_filename = 'S1_VV_SMALL_'\n",
    "\n",
    "dset = gdal.Open(in_path+input_filename) #importation de la matrice\n",
    "\n",
    "size_X = dset.RasterXSize #taille du raster importer selon X\n",
    "size_Y = dset.RasterYSize #selon Y\n",
    "\n",
    "chunck_size = 10 #définition de la taille des chucnks qui dans le cas de base 10x10\n",
    "\n",
    "print(size_X)\n",
    "print(size_Y)\n",
    "\n",
    "k=0\n",
    "\n",
    "for i in range(0, size_X, chunck_size):\n",
    "    for j in range(0, size_Y, chunck_size):\n",
    "        k+=1\n",
    "        com_string = \"gdal_translate -of GTIFF -srcwin \" + str(i)+ \", \" + str(j) + \", \" + str(chunck_size) + \", \" + str(chunck_size) + \" \" + str(in_path) + str(input_filename) + \" \" + str(out_path) + str(output_filename) + str(k) + \".tif\"\n",
    "        os.system(com_string)\n",
    "\n",
    "print('fini')"
   ]
  },
  {
   "cell_type": "code",
   "execution_count": null,
   "id": "abc8ef75-27a4-4e72-8443-598d7d5d1de1",
   "metadata": {},
   "outputs": [],
   "source": []
  }
 ],
 "metadata": {
  "kernelspec": {
   "display_name": "Python 3",
   "language": "python",
   "name": "python3"
  },
  "language_info": {
   "codemirror_mode": {
    "name": "ipython",
    "version": 3
   },
   "file_extension": ".py",
   "mimetype": "text/x-python",
   "name": "python",
   "nbconvert_exporter": "python",
   "pygments_lexer": "ipython3",
   "version": "3.8.10"
  }
 },
 "nbformat": 4,
 "nbformat_minor": 5
}
