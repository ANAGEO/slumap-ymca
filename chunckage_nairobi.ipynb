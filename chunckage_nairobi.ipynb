{
 "cells": [
  {
   "cell_type": "code",
   "execution_count": 8,
   "id": "07b5dfc1-82c0-42cf-a9df-165b5de8652c",
   "metadata": {},
   "outputs": [
    {
     "ename": "AttributeError",
     "evalue": "'NoneType' object has no attribute 'RasterXSize'",
     "output_type": "error",
     "traceback": [
      "\u001b[0;31m---------------------------------------------------------------------------\u001b[0m",
      "\u001b[0;31mAttributeError\u001b[0m                            Traceback (most recent call last)",
      "Input \u001b[0;32mIn [8]\u001b[0m, in \u001b[0;36m<cell line: 13>\u001b[0;34m()\u001b[0m\n\u001b[1;32m      9\u001b[0m output_filename \u001b[38;5;241m=\u001b[39m \u001b[38;5;124m'\u001b[39m\u001b[38;5;124mtesttile_\u001b[39m\u001b[38;5;124m'\u001b[39m\n\u001b[1;32m     11\u001b[0m dset \u001b[38;5;241m=\u001b[39m gdal\u001b[38;5;241m.\u001b[39mOpen(in_path\u001b[38;5;241m+\u001b[39minput_filename) \u001b[38;5;66;03m#importation de la matrice\u001b[39;00m\n\u001b[0;32m---> 13\u001b[0m size_X \u001b[38;5;241m=\u001b[39m \u001b[43mdset\u001b[49m\u001b[38;5;241;43m.\u001b[39;49m\u001b[43mRasterXSize\u001b[49m \u001b[38;5;66;03m#taille du raster importer selon X\u001b[39;00m\n\u001b[1;32m     14\u001b[0m size_Y \u001b[38;5;241m=\u001b[39m dset\u001b[38;5;241m.\u001b[39mRasterYSize \u001b[38;5;66;03m#selon Y\u001b[39;00m\n\u001b[1;32m     16\u001b[0m chunck_size \u001b[38;5;241m=\u001b[39m \u001b[38;5;241m100\u001b[39m \u001b[38;5;66;03m#définition de la taille des chucnks qui dans le cas de base 10x10\u001b[39;00m\n",
      "\u001b[0;31mAttributeError\u001b[0m: 'NoneType' object has no attribute 'RasterXSize'"
     ]
    }
   ],
   "source": [
    "from osgeo import gdal \n",
    "import os, sys\n",
    "import subprocess\n",
    "\n",
    "in_path = \"/media/student/data/docker-jupyter/Images/S1/\"\n",
    "input_filename = \"s1_vv_small.tif\"\n",
    "\n",
    "out_path = \"/media/student/data/docker-jupyter/Images/S1/decoup/\"\n",
    "output_filename = 'testtile_'\n",
    "\n",
    "dset = gdal.Open(in_path+input_filename) #importation de la matrice\n",
    "\n",
    "size_X = dset.RasterXSize #taille du raster importer selon X\n",
    "size_Y = dset.RasterYSize #selon Y\n",
    "\n",
    "chunck_size = 100 #définition de la taille des chucnks qui dans le cas de base 10x10\n",
    "\n",
    "print(size_X)\n",
    "print(size_Y)\n",
    "\n",
    "for i in range(0, size_X, chunck_size):\n",
    "    for j in range(0, size_Y, chunck_size):\n",
    "        com_string = \"gdal_translate -of GTIFF -srcwin \" + str(i)+ \", \" + str(j) + \", \" + str(chunck_size) + \", \" + str(chunck_size) + \" \" + str(in_path) + str(input_filename) + \" \" + str(out_path) + str(output_filename) + str(i) + \"_\" + str(j) + \".tif\"\n",
    "        os.system(com_string)\n",
    "\n",
    "print('fini')"
   ]
  },
  {
   "cell_type": "code",
   "execution_count": null,
   "id": "abc8ef75-27a4-4e72-8443-598d7d5d1de1",
   "metadata": {},
   "outputs": [],
   "source": []
  }
 ],
 "metadata": {
  "kernelspec": {
   "display_name": "Python 3",
   "language": "python",
   "name": "python3"
  },
  "language_info": {
   "codemirror_mode": {
    "name": "ipython",
    "version": 3
   },
   "file_extension": ".py",
   "mimetype": "text/x-python",
   "name": "python",
   "nbconvert_exporter": "python",
   "pygments_lexer": "ipython3",
   "version": "3.8.10"
  }
 },
 "nbformat": 4,
 "nbformat_minor": 5
}
