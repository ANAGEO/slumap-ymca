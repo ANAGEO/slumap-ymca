{
 "cells": [
  {
   "cell_type": "markdown",
   "id": "cf5a9371-4136-4c3a-95d8-2e48ce9f110a",
   "metadata": {
    "tags": []
   },
   "source": [
    "## Import libraries"
   ]
  },
  {
   "cell_type": "code",
   "execution_count": 2,
   "id": "6f3fa269-1ce5-4c2c-a328-4b2379a06811",
   "metadata": {},
   "outputs": [],
   "source": [
    "import tensorflow as tf"
   ]
  },
  {
   "cell_type": "code",
   "execution_count": 3,
   "id": "a701ed1e-8da7-4f39-b2c1-200299fa63f7",
   "metadata": {},
   "outputs": [],
   "source": [
    "from assimilation import assimilation\n",
    "from stackage import stackage"
   ]
  },
  {
   "cell_type": "code",
   "execution_count": 4,
   "id": "6e6d475e-9bf2-49bb-b7ba-25835f970e68",
   "metadata": {},
   "outputs": [],
   "source": [
    "import numpy as np"
   ]
  },
  {
   "cell_type": "code",
   "execution_count": 5,
   "id": "1932859e-5718-441e-9f13-b50157d1d624",
   "metadata": {},
   "outputs": [],
   "source": [
    "from sklearn.model_selection import train_test_split"
   ]
  },
  {
   "cell_type": "markdown",
   "id": "c0f7d538-19ef-4b5d-b947-1e8f145752e5",
   "metadata": {
    "tags": []
   },
   "source": [
    "## Functions"
   ]
  },
  {
   "cell_type": "code",
   "execution_count": 6,
   "id": "6b1eb9a2-022c-401a-9c61-c617bec54234",
   "metadata": {},
   "outputs": [],
   "source": [
    "def reshaping(list_input):\n",
    "    L = np.array(list_input)\n",
    "    L = L.reshape(L.size,-1)\n",
    "    \n",
    "    return L"
   ]
  },
  {
   "cell_type": "code",
   "execution_count": 7,
   "id": "a36523f3-cc06-44af-a284-a5c0e97feb74",
   "metadata": {},
   "outputs": [],
   "source": [
    "def normalise_01(image_data):\n",
    "    stack = image_data\n",
    "    image_data -= np.min(stack, axis=0)\n",
    "    image_data /= (np.max(stack, axis=0) - np.min(stack, axis=0))\n",
    "    return image_data"
   ]
  },
  {
   "cell_type": "markdown",
   "id": "0affa628-f7e9-4a20-893d-9f137e2f1e73",
   "metadata": {},
   "source": [
    "## Data preprocessing"
   ]
  },
  {
   "cell_type": "code",
   "execution_count": 8,
   "id": "cdd21fc5-07ff-4fdb-b968-e00e97a2a1c8",
   "metadata": {},
   "outputs": [],
   "source": [
    "import h5py\n",
    "\n",
    "f = h5py.File('Images/big_raster/tr_ALLS1_patch/tr_Ymodel.hdf5', 'r')\n",
    "S1_patch_id = np.array(f[\"id_sar\"])\n",
    "S2_patch_id = np.array(f[\"id_rgb\"])\n",
    "S1_patch_lulc = np.array(f[\"lulc_sar\"])\n",
    "S2_patch_lulc = np.array(f[\"lulc_rgb\"])\n",
    "S1_patch_path = f[\"patch_sar_path\"]\n",
    "S2_patch_path = f[\"patch_rgb_path\"]\n",
    "                         \n",
    "f = h5py.File('Images/big_raster/g_ALLS1_patch/g_Ymodel.hdf5', 'r')\n",
    "S1_grid_id = np.array(f[\"id_sar\"])          \n",
    "S2_grid_id = np.array(f[\"id_rgb\"])                     \n",
    "S1_grid_path = f[\"patch_sar_path\"]\n",
    "S2_grid_path = f[\"patch_rgb_path\"]"
   ]
  },
  {
   "cell_type": "code",
   "execution_count": 9,
   "id": "dc3a8d32-bddb-4be1-92db-83b662f5fda8",
   "metadata": {},
   "outputs": [],
   "source": [
    "stack = stackage(S2_grid_path)\n",
    "S2_stack_grid = normalise_01(stack)"
   ]
  },
  {
   "cell_type": "code",
   "execution_count": 10,
   "id": "2784f5bb-3251-4725-8d0c-ed1b59a70aad",
   "metadata": {},
   "outputs": [],
   "source": [
    "S2_patch_id = S2_patch_id.reshape(S2_patch_id.size,1)\n",
    "\n",
    "S2_patch_lulc = S2_patch_lulc.reshape(S2_patch_lulc.size,1)\n",
    "\n",
    "S2_grid_id = S2_grid_id.reshape(S2_grid_id.size,1)"
   ]
  },
  {
   "cell_type": "markdown",
   "id": "5797c918-483c-4245-bf85-3f11e98bb737",
   "metadata": {},
   "source": [
    "### Dividing train and test patches"
   ]
  },
  {
   "cell_type": "code",
   "execution_count": 11,
   "id": "0433ca0f-5931-47ce-b2e3-3e34c74c8e58",
   "metadata": {},
   "outputs": [],
   "source": [
    "patch_id_train, patch_id_test, patch_lulc_train, patch_lulc_test = train_test_split(S2_patch_id,S2_patch_lulc, test_size=0.2, random_state=100)\n",
    "patch_id_train = reshaping(patch_id_train)\n",
    "patch_id_test = reshaping(patch_id_test)\n",
    "patch_lulc_train = reshaping(patch_lulc_train)\n",
    "patch_lulc_test = reshaping(patch_lulc_test)  "
   ]
  },
  {
   "cell_type": "code",
   "execution_count": 12,
   "id": "05325455-cdd2-49d3-8bf0-9967dd1de4ba",
   "metadata": {},
   "outputs": [
    {
     "name": "stderr",
     "output_type": "stream",
     "text": [
      "Clipping input data to the valid range for imshow with RGB data ([0..1] for floats or [0..255] for integers).\n",
      "Clipping input data to the valid range for imshow with RGB data ([0..1] for floats or [0..255] for integers).\n",
      "Clipping input data to the valid range for imshow with RGB data ([0..1] for floats or [0..255] for integers).\n"
     ]
    },
    {
     "name": "stdout",
     "output_type": "stream",
     "text": [
      "[ 714.  544.  346. 1952.]\n",
      "b'Images/big_raster/tr_RBGNIR_patch/tr_RBGNIR_14054_0.tif'\n",
      "[14054]\n",
      "[ 304.  456.  223. 2378.]\n",
      "b'Images/big_raster/tr_RBGNIR_patch/tr_RBGNIR_23446_0.tif'\n",
      "[23446]\n",
      "[ 855.  719.  492. 2412.]\n",
      "b'Images/big_raster/tr_RBGNIR_patch/tr_RBGNIR_104605_0.tif'\n",
      "[104605]\n"
     ]
    },
    {
     "name": "stderr",
     "output_type": "stream",
     "text": [
      "Clipping input data to the valid range for imshow with RGB data ([0..1] for floats or [0..255] for integers).\n",
      "Clipping input data to the valid range for imshow with RGB data ([0..1] for floats or [0..255] for integers).\n",
      "Clipping input data to the valid range for imshow with RGB data ([0..1] for floats or [0..255] for integers).\n"
     ]
    },
    {
     "name": "stdout",
     "output_type": "stream",
     "text": [
      "[1452. 1236.  951. 1761.]\n",
      "b'Images/big_raster/tr_RBGNIR_patch/tr_RBGNIR_63863_1.tif'\n",
      "[63863]\n",
      "[ 869.  693.  466. 1571.]\n",
      "b'Images/big_raster/tr_RBGNIR_patch/tr_RBGNIR_62858_0.tif'\n",
      "[62858]\n",
      "[1290.  925.  632. 2426.]\n",
      "b'Images/big_raster/tr_RBGNIR_patch/tr_RBGNIR_87427_0.tif'\n",
      "[87427]\n"
     ]
    }
   ],
   "source": [
    "stack_train = assimilation(patch_id_train, patch_id_test, patch_lulc_test,S2_patch_path)[0]\n",
    "stack_test = assimilation(patch_id_train, patch_id_test, patch_lulc_test,S2_patch_path)[1]"
   ]
  },
  {
   "cell_type": "markdown",
   "id": "d8fb02cc-7f63-479a-a0c9-bf8627c6cbb6",
   "metadata": {},
   "source": [
    "## Model"
   ]
  },
  {
   "cell_type": "markdown",
   "id": "d4c8bd9c-4239-4bba-bbe2-d96103b3b78e",
   "metadata": {},
   "source": [
    "https://becominghuman.ai/understanding-and-coding-inception-module-in-keras-eb56e9056b4b\n",
    "\n",
    "https://faroit.com/keras-docs/1.1.1/applications/#inceptionv3"
   ]
  },
  {
   "cell_type": "code",
   "execution_count": null,
   "id": "bec8efbe-7bc6-44ce-b3ab-a8345455ede3",
   "metadata": {},
   "outputs": [],
   "source": [
    "\n",
    "inputs =tf.keras.Input(shape=(10,10,3))\n",
    "\n",
    "\n",
    "base_model = tf.keras.applications.inception_v3.InceptionV3(include_top=True, weights='imagenet', input_tensor=None)\n",
    "\n",
    "\n",
    "\n",
    "# first: train only the top layers (which were randomly initialized)\n",
    "# i.e. freeze all convolutional InceptionV3 layers\n",
    "for layer in base_model.layers:\n",
    "    layer.trainable = False\n",
    "    \n",
    "# compile the model (should be done *after* setting layers to non-trainable)\n",
    "model.compile(optimizer='rmsprop', loss='categorical_crossentropy')\n",
    "\n",
    "\n",
    "history = model.fit(stack_train,\n",
    "          patch_lulc_train, \n",
    "          validation_data=(stack_test, patch_lulc_test),\n",
    "          epochs=100,\n",
    "          batch_size=batch_size)"
   ]
  },
  {
   "cell_type": "code",
   "execution_count": null,
   "id": "d747fc7d-9c36-42ff-bbe9-b75e33d2054d",
   "metadata": {},
   "outputs": [],
   "source": [
    "predict = model.predict(S2_stack_grid)"
   ]
  },
  {
   "cell_type": "code",
   "execution_count": null,
   "id": "8eaf6682-4178-45c5-ada0-26a14ce42de8",
   "metadata": {},
   "outputs": [],
   "source": [
    "import os, signal\n",
    "\n",
    "os.kill(os.getpid() , signal.SIGKILL)"
   ]
  },
  {
   "cell_type": "code",
   "execution_count": null,
   "id": "d033a3e5-c49e-49d5-95f4-480be7989753",
   "metadata": {},
   "outputs": [],
   "source": []
  }
 ],
 "metadata": {
  "kernelspec": {
   "display_name": "Python 3",
   "language": "python",
   "name": "python3"
  },
  "language_info": {
   "codemirror_mode": {
    "name": "ipython",
    "version": 3
   },
   "file_extension": ".py",
   "mimetype": "text/x-python",
   "name": "python",
   "nbconvert_exporter": "python",
   "pygments_lexer": "ipython3",
   "version": "3.8.10"
  }
 },
 "nbformat": 4,
 "nbformat_minor": 5
}
