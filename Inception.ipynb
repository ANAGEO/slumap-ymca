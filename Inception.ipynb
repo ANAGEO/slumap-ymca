{
 "cells": [
  {
   "cell_type": "markdown",
   "id": "cf5a9371-4136-4c3a-95d8-2e48ce9f110a",
   "metadata": {
    "tags": []
   },
   "source": [
    "## Import libraries"
   ]
  },
  {
   "cell_type": "code",
   "execution_count": 1,
   "id": "6f3fa269-1ce5-4c2c-a328-4b2379a06811",
   "metadata": {},
   "outputs": [],
   "source": [
    "import tensorflow as tf"
   ]
  },
  {
   "cell_type": "code",
   "execution_count": 2,
   "id": "a701ed1e-8da7-4f39-b2c1-200299fa63f7",
   "metadata": {},
   "outputs": [],
   "source": [
    "from assimilation import assimilation\n",
    "from stackage import stackage\n",
    "from chunckage import chunckage"
   ]
  },
  {
   "cell_type": "code",
   "execution_count": 3,
   "id": "6e6d475e-9bf2-49bb-b7ba-25835f970e68",
   "metadata": {},
   "outputs": [],
   "source": [
    "import numpy as np"
   ]
  },
  {
   "cell_type": "code",
   "execution_count": 4,
   "id": "1932859e-5718-441e-9f13-b50157d1d624",
   "metadata": {},
   "outputs": [],
   "source": [
    "from sklearn.model_selection import train_test_split"
   ]
  },
  {
   "cell_type": "code",
   "execution_count": 5,
   "id": "6b8e23d6-a85c-4e45-9186-aa835a9a8d5b",
   "metadata": {},
   "outputs": [],
   "source": [
    "import h5py\n",
    "import os, sys"
   ]
  },
  {
   "cell_type": "code",
   "execution_count": 6,
   "id": "f6dcdd99-d75f-40c0-b88f-f1d149b028be",
   "metadata": {},
   "outputs": [],
   "source": [
    "from CircleMaker import circle"
   ]
  },
  {
   "cell_type": "code",
   "execution_count": 7,
   "id": "10bc9021-22c0-4a7c-931b-ee6754af7b60",
   "metadata": {},
   "outputs": [],
   "source": [
    "import inception"
   ]
  },
  {
   "cell_type": "markdown",
   "id": "c0f7d538-19ef-4b5d-b947-1e8f145752e5",
   "metadata": {
    "tags": []
   },
   "source": [
    "## Functions"
   ]
  },
  {
   "cell_type": "code",
   "execution_count": null,
   "id": "6b1eb9a2-022c-401a-9c61-c617bec54234",
   "metadata": {},
   "outputs": [],
   "source": [
    "def reshaping(list_input):\n",
    "    L = np.array(list_input)\n",
    "    L = L.reshape(L.size,-1)\n",
    "    \n",
    "    return L"
   ]
  },
  {
   "cell_type": "code",
   "execution_count": null,
   "id": "a36523f3-cc06-44af-a284-a5c0e97feb74",
   "metadata": {},
   "outputs": [],
   "source": [
    "def normalise_01(image_data):\n",
    "    stack = image_data\n",
    "    image_data -= np.min(stack, axis=0)\n",
    "    image_data /= (np.max(stack, axis=0) - np.min(stack, axis=0))\n",
    "    return image_data"
   ]
  },
  {
   "cell_type": "markdown",
   "id": "f18923d6-c146-4ee7-a834-7a91f50b9c42",
   "metadata": {
    "jp-MarkdownHeadingCollapsed": true,
    "tags": []
   },
   "source": [
    "## Image processing"
   ]
  },
  {
   "cell_type": "code",
   "execution_count": 8,
   "id": "e8b15e08-195d-4f4e-ba4f-cef5cd786e55",
   "metadata": {},
   "outputs": [
    {
     "name": "stdout",
     "output_type": "stream",
     "text": [
      "(238890.0, 288990.0, 9846480.0, 9871580.0)\n",
      "(238890.0, 289090.0, 9846380.0, 9871680.0)\n"
     ]
    }
   ],
   "source": [
    "S2_patch_path, S2_patch_id, S2_patch_lulc = chunckage(\"Images/big_raster/\",\"RGB\",\".tif\",'Images/big_sample/','sample.gpkg','tr_RGB',1)\n",
    "\n",
    "S2_grid_path, S2_grid_id = chunckage(\"Images/big_raster/\",\"BNIR\",\".tif\",'Images/big_grid/','grid.gpkg','g_RGB',0)"
   ]
  },
  {
   "cell_type": "code",
   "execution_count": 11,
   "id": "8a055196-1d36-4cff-8925-445c83cdbaca",
   "metadata": {},
   "outputs": [
    {
     "name": "stdout",
     "output_type": "stream",
     "text": [
      "Data exported in Images/big_raster/tr_RGB_patch/\n",
      "Data exported in Images/big_raster/g_RGB_patch/\n"
     ]
    }
   ],
   "source": [
    "data_path = 'Images/big_raster/tr_RGB_patch/'\n",
    "with h5py.File(os.path.join(data_path,\"tr_Inception_RGB.hdf5\"), mode=\"a\") as f:              \n",
    "    f[\"id_rgb\"] = S2_patch_id                          \n",
    "    f[\"lulc_rgb\"] = S2_patch_lulc        \n",
    "    f[\"patch_rgb_path\"] = S2_patch_path\n",
    "\n",
    "print(\"Data exported in %s\"%(data_path))\n",
    "\n",
    "data_path = 'Images/big_raster/g_RGB_patch/'\n",
    "with h5py.File(os.path.join(data_path,\"g_Inception_RGB.hdf5\"), mode=\"a\") as f:              \n",
    "    f[\"id_rgb\"] = S2_grid_id                        \n",
    "    f[\"patch_rgb_path\"] = S2_grid_path\n",
    "\n",
    "print(\"Data exported in %s\"%(data_path))"
   ]
  },
  {
   "cell_type": "markdown",
   "id": "0affa628-f7e9-4a20-893d-9f137e2f1e73",
   "metadata": {},
   "source": [
    "## Data preprocessing"
   ]
  },
  {
   "cell_type": "code",
   "execution_count": null,
   "id": "cdd21fc5-07ff-4fdb-b968-e00e97a2a1c8",
   "metadata": {},
   "outputs": [],
   "source": [
    "f = h5py.File('Images/big_raster/tr_RGB_patch/tr_Inception_RGB.hdf5', 'r')\n",
    "S2_patch_id = np.array(f[\"id_rgb\"])\n",
    "S2_patch_lulc = np.array(f[\"lulc_rgb\"])\n",
    "S2_patch_path = f[\"patch_rgb_path\"]\n",
    "                         \n",
    "f = h5py.File('Images/big_raster/g_RGB_patch/g_Inception_RGB.hdf5', 'r')         \n",
    "S2_grid_id = np.array(f[\"id_rgb\"])                     \n",
    "S2_grid_path = f[\"patch_rgb_path\"]"
   ]
  },
  {
   "cell_type": "code",
   "execution_count": null,
   "id": "dc3a8d32-bddb-4be1-92db-83b662f5fda8",
   "metadata": {},
   "outputs": [],
   "source": [
    "stack = stackage(S2_grid_path)\n",
    "S2_stack_grid = normalise_01(stack)"
   ]
  },
  {
   "cell_type": "code",
   "execution_count": null,
   "id": "2784f5bb-3251-4725-8d0c-ed1b59a70aad",
   "metadata": {},
   "outputs": [],
   "source": [
    "S2_patch_id = S2_patch_id.reshape(S2_patch_id.size,1)\n",
    "\n",
    "S2_patch_lulc = S2_patch_lulc.reshape(S2_patch_lulc.size,1)\n",
    "\n",
    "S2_grid_id = S2_grid_id.reshape(S2_grid_id.size,1)"
   ]
  },
  {
   "cell_type": "markdown",
   "id": "5797c918-483c-4245-bf85-3f11e98bb737",
   "metadata": {},
   "source": [
    "### Dividing train and test patches"
   ]
  },
  {
   "cell_type": "code",
   "execution_count": null,
   "id": "0433ca0f-5931-47ce-b2e3-3e34c74c8e58",
   "metadata": {},
   "outputs": [],
   "source": [
    "patch_id_train, patch_id_test, patch_lulc_train, patch_lulc_test = train_test_split(S2_patch_id,S2_patch_lulc, test_size=0.2, random_state=100)\n",
    "patch_id_train = reshaping(patch_id_train)\n",
    "patch_id_test = reshaping(patch_id_test)\n",
    "patch_lulc_train = reshaping(patch_lulc_train)\n",
    "patch_lulc_test = reshaping(patch_lulc_test)  "
   ]
  },
  {
   "cell_type": "code",
   "execution_count": null,
   "id": "710dfaa8-8cbd-4544-be0a-157d8dcb856c",
   "metadata": {},
   "outputs": [],
   "source": [
    "circle(patch_lulc_train,patch_lulc_test,'Repartition des données entrainements et de tests')"
   ]
  },
  {
   "cell_type": "code",
   "execution_count": 8,
   "id": "05325455-cdd2-49d3-8bf0-9967dd1de4ba",
   "metadata": {},
   "outputs": [
    {
     "ename": "NameError",
     "evalue": "name 'patch_id_train' is not defined",
     "output_type": "error",
     "traceback": [
      "\u001b[0;31m---------------------------------------------------------------------------\u001b[0m",
      "\u001b[0;31mNameError\u001b[0m                                 Traceback (most recent call last)",
      "Input \u001b[0;32mIn [8]\u001b[0m, in \u001b[0;36m<cell line: 1>\u001b[0;34m()\u001b[0m\n\u001b[0;32m----> 1\u001b[0m stack_train \u001b[38;5;241m=\u001b[39m assimilation(\u001b[43mpatch_id_train\u001b[49m, patch_id_test, patch_lulc_test,S2_patch_path)[\u001b[38;5;241m0\u001b[39m]\n\u001b[1;32m      2\u001b[0m stack_test \u001b[38;5;241m=\u001b[39m assimilation(patch_id_train, patch_id_test, patch_lulc_test,S2_patch_path)[\u001b[38;5;241m1\u001b[39m]\n",
      "\u001b[0;31mNameError\u001b[0m: name 'patch_id_train' is not defined"
     ]
    }
   ],
   "source": [
    "stack_train = assimilation(patch_id_train, patch_id_test, patch_lulc_test,S2_patch_path)[0]\n",
    "stack_test = assimilation(patch_id_train, patch_id_test, patch_lulc_test,S2_patch_path)[1]"
   ]
  },
  {
   "cell_type": "markdown",
   "id": "d8fb02cc-7f63-479a-a0c9-bf8627c6cbb6",
   "metadata": {},
   "source": [
    "## Model"
   ]
  },
  {
   "cell_type": "code",
   "execution_count": 8,
   "id": "3d73234e-3182-4ea7-9932-9a89ec8ecc7e",
   "metadata": {},
   "outputs": [
    {
     "data": {
      "text/plain": [
       "'2.9.1'"
      ]
     },
     "execution_count": 8,
     "metadata": {},
     "output_type": "execute_result"
    }
   ],
   "source": [
    "tf.__version__"
   ]
  },
  {
   "cell_type": "code",
   "execution_count": null,
   "id": "99bd398c-c070-4076-9aab-7116b1aaf86c",
   "metadata": {},
   "outputs": [],
   "source": [
    "tf.keras.applications.InceptionV3(\n",
    "    include_top=False,\n",
    "    weights='imagenet',\n",
    "    input_shape=(75,75,3),\n",
    "    classes=1000\n",
    ")"
   ]
  },
  {
   "cell_type": "code",
   "execution_count": null,
   "id": "c7c45b99-f750-4f34-9701-e235df43c13a",
   "metadata": {},
   "outputs": [],
   "source": [
    "\n",
    "\n",
    "model = InceptionV3(input_shape=(224,224,3), weights='imagenet', include_top=False)"
   ]
  },
  {
   "cell_type": "code",
   "execution_count": null,
   "id": "bec8efbe-7bc6-44ce-b3ab-a8345455ede3",
   "metadata": {},
   "outputs": [],
   "source": [
    "\n",
    "\n",
    "\n",
    "# first: train only the top layers (which were randomly initialized)\n",
    "# i.e. freeze all convolutional InceptionV3 layers\n",
    "for layer in base_model.layers:\n",
    "    layer.trainable = False\n",
    "    \n",
    "# compile the model (should be done *after* setting layers to non-trainable)\n",
    "model.compile(optimizer='rmsprop', loss='categorical_crossentropy')\n",
    "\n",
    "\n",
    "history = model.fit(stack_train,\n",
    "          patch_lulc_train, \n",
    "          validation_data=(stack_test, patch_lulc_test),\n",
    "          epochs=100,\n",
    "          batch_size=batch_size)"
   ]
  },
  {
   "cell_type": "code",
   "execution_count": null,
   "id": "d747fc7d-9c36-42ff-bbe9-b75e33d2054d",
   "metadata": {},
   "outputs": [],
   "source": [
    "predict = model.predict(S2_stack_grid)"
   ]
  },
  {
   "cell_type": "code",
   "execution_count": null,
   "id": "8eaf6682-4178-45c5-ada0-26a14ce42de8",
   "metadata": {},
   "outputs": [],
   "source": [
    "import os, signal\n",
    "\n",
    "os.kill(os.getpid() , signal.SIGKILL)"
   ]
  },
  {
   "cell_type": "code",
   "execution_count": null,
   "id": "d033a3e5-c49e-49d5-95f4-480be7989753",
   "metadata": {},
   "outputs": [],
   "source": []
  }
 ],
 "metadata": {
  "kernelspec": {
   "display_name": "Python 3",
   "language": "python",
   "name": "python3"
  },
  "language_info": {
   "codemirror_mode": {
    "name": "ipython",
    "version": 3
   },
   "file_extension": ".py",
   "mimetype": "text/x-python",
   "name": "python",
   "nbconvert_exporter": "python",
   "pygments_lexer": "ipython3",
   "version": "3.8.10"
  }
 },
 "nbformat": 4,
 "nbformat_minor": 5
}
