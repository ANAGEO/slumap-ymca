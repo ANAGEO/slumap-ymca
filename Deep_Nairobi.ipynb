{
 "cells": [
  {
   "cell_type": "markdown",
   "id": "53c304fc-2dc5-42cf-a1b8-dbca26a0ea00",
   "metadata": {},
   "source": [
    "# **Deep Learning applied on Nairobi slum**"
   ]
  },
  {
   "cell_type": "markdown",
   "id": "33534aff-987a-45ac-b6cc-d4b194aa9960",
   "metadata": {
    "tags": []
   },
   "source": [
    "## Import libraries"
   ]
  },
  {
   "cell_type": "code",
   "execution_count": 1,
   "id": "5d8e8bc3-a938-4b5b-8e4c-5e5403b6a340",
   "metadata": {},
   "outputs": [],
   "source": [
    "import tensorflow as tf\n",
    "import os, sys\n",
    "import numpy as np\n",
    "import h5py"
   ]
  },
  {
   "cell_type": "code",
   "execution_count": 2,
   "id": "2e82263f-4eea-4650-815e-eda39a901e64",
   "metadata": {},
   "outputs": [],
   "source": [
    "#from stackage import stackage"
   ]
  },
  {
   "cell_type": "code",
   "execution_count": 3,
   "id": "1717bb73-12cb-4a82-9112-30bfc8f9547a",
   "metadata": {},
   "outputs": [],
   "source": [
    "def import_hf5(data_path, data_name, get_name):\n",
    "    hf = h5py.File(os.path.join(data_path, data_name), mode=\"r\")\n",
    "    data = hf.get(get_name)\n",
    "    stack = np.array(data)\n",
    "    hf.close()\n",
    "    return stack"
   ]
  },
  {
   "cell_type": "code",
   "execution_count": 4,
   "id": "6cdf2594-88a8-4c74-a8dc-70af28158cbb",
   "metadata": {},
   "outputs": [],
   "source": [
    "#code from https://github.com/tgrippa/Partimap/blob/cd72ecd2f3e32794eb3e0ee70399de1811b5399e/Notebooks/Data_preprocessing.ipynb\n",
    "def normalise_01(image_data):\n",
    "    image_data -= np.min(stack, axis=0)\n",
    "    image_data /= (np.max(stack, axis=0) - np.min(stack, axis=0))\n",
    "    return image_data"
   ]
  },
  {
   "cell_type": "markdown",
   "id": "9abc9e79-8b5c-433f-8e9e-7e3c475e3554",
   "metadata": {},
   "source": [
    "## Importing data RGB"
   ]
  },
  {
   "cell_type": "code",
   "execution_count": 5,
   "id": "4d1af95c-b01a-481c-961a-b60c524e4e42",
   "metadata": {
    "scrolled": true,
    "tags": []
   },
   "outputs": [],
   "source": [
    "data_path = 'Images/small_raster/tr_RGBNIR_patch/'\n",
    "data_name = \"RGBNIR.hdf5\"\n",
    "path_raster = import_hf5(data_path,data_name,'raster')\n",
    "\n",
    "patch_id_train = import_hf5(data_path,data_name,'id_train')\n",
    "patch_id_test = import_hf5(data_path,data_name,'id_test')\n",
    "\n",
    "patch_lulc_train = import_hf5(data_path,data_name,\"lulc_train\")\n",
    "patch_lulc_test = import_hf5(data_path,data_name,\"lulc_test\")\n",
    "\n",
    "patch_id = import_hf5(data_path,data_name,\"patch_id\")"
   ]
  },
  {
   "cell_type": "code",
   "execution_count": 6,
   "id": "872fcb2d-fa1f-48de-93a1-f4652013cacf",
   "metadata": {},
   "outputs": [
    {
     "name": "stdout",
     "output_type": "stream",
     "text": [
      "(2074, 1)\n"
     ]
    }
   ],
   "source": [
    "print(patch_id_train.shape)"
   ]
  },
  {
   "cell_type": "markdown",
   "id": "b4810c3a-1e81-4acf-9ae6-8fd390a7738a",
   "metadata": {},
   "source": [
    "### Separate train patchs to test patchs"
   ]
  },
  {
   "cell_type": "code",
   "execution_count": 7,
   "id": "e4465da8-7684-4fb0-9b9d-b34ebee58634",
   "metadata": {
    "scrolled": true,
    "tags": []
   },
   "outputs": [],
   "source": [
    "train_path = []\n",
    "test_path = []\n",
    "\n",
    "patch_id_train_re = patch_id_train.reshape(1,patch_id_train.size)\n",
    "patch_id_train_list = patch_id_train_re.tolist()[0]\n",
    "patch_id_test_re = patch_id_test.reshape(1,patch_id_test.size)\n",
    "patch_id_test_list = patch_id_test_re.tolist()[0]\n",
    "\n",
    "for path in path_raster : #récupération des id des images\n",
    "    image = path.split(b'/')[-1]\n",
    "    image_id = int(image.split(b'_')[-2])\n",
    "    if image_id in patch_id_train_list :\n",
    "        index = patch_id_train_list.index(image_id)\n",
    "        train_path.insert(index,path)\n",
    "    elif image_id in patch_id_test_list :\n",
    "        index = patch_id_test_list.index(image_id)\n",
    "        test_path.insert(index,path)"
   ]
  },
  {
   "cell_type": "code",
   "execution_count": 8,
   "id": "00590afc-37f1-45b1-aaef-99e0cec86c34",
   "metadata": {},
   "outputs": [],
   "source": [
    "from osgeo import gdal\n",
    "import numpy as np\n",
    "\n",
    "#code inspired from https://github.com/tgrippa/Partimap/blob/cd72ecd2f3e32794eb3e0ee70399de1811b5399e/Notebooks/Data_preprocessing.ipynb\n",
    "def stackage(list_raster):\n",
    "    stack = []\n",
    "    for patch in list_raster :\n",
    "        pat = gdal.Open(patch.decode('ascii'))\n",
    "        data_rast = pat.ReadAsArray().astype(np.float32)\n",
    "        data_rast = np.transpose(data_rast,(1,2,0))\n",
    "        stack.append(data_rast)\n",
    "\n",
    "    stack= np.array(stack)\n",
    "    \n",
    "    return stack\n"
   ]
  },
  {
   "cell_type": "code",
   "execution_count": 9,
   "id": "42ba4677-3a51-4d3d-9709-91e696aab775",
   "metadata": {
    "scrolled": true,
    "tags": []
   },
   "outputs": [
    {
     "name": "stdout",
     "output_type": "stream",
     "text": [
      "[1472. 1128.  962. 1698.]\n",
      "[68449]\n",
      "68449\n",
      "(2074, 10, 10, 4)\n",
      "(2074, 1)\n"
     ]
    }
   ],
   "source": [
    "stack = stackage(train_path)\n",
    "stack_train = normalise_01(stack)\n",
    "stack = stackage(test_path)\n",
    "stack_test = normalise_01(stack)"
   ]
  },
  {
   "cell_type": "markdown",
   "id": "61877353-5e2f-4c4a-9782-bb429eb1043e",
   "metadata": {},
   "source": [
    "## Importing data SAR"
   ]
  },
  {
   "cell_type": "code",
   "execution_count": null,
   "id": "ec2c0a20-6876-45f8-abae-8e39f66d9f5c",
   "metadata": {},
   "outputs": [],
   "source": [
    "data_path = 'Images/small_raster/tr_SAR_patch/'\n",
    "data_name = \"RGBNIR.hdf5\"\n",
    "path_raster = import_hf5(data_path,data_name,'raster')\n",
    "\n",
    "sar_id_train = import_hf5(data_path,data_name,'id_train')\n",
    "sar_id_test = import_hf5(data_path,data_name,'id_test')\n",
    "\n",
    "sar_lulc_train = import_hf5(data_path,data_name,\"lulc_train\")\n",
    "sar_lulc_test = import_hf5(data_path,data_name,\"lulc_test\")\n",
    "\n",
    "sar_id = import_hf5(data_path,data_name,\"patch_id\")"
   ]
  },
  {
   "cell_type": "markdown",
   "id": "e565367c-388b-443e-bdfe-b0e51f4e2121",
   "metadata": {
    "tags": []
   },
   "source": [
    "# **Starting deep learning**\n"
   ]
  },
  {
   "cell_type": "markdown",
   "id": "7e88400a-825b-4913-803e-d478f149391d",
   "metadata": {
    "jp-MarkdownHeadingCollapsed": true,
    "tags": []
   },
   "source": [
    "## **Model based on the tutorial**"
   ]
  },
  {
   "cell_type": "markdown",
   "id": "e3629f6d-c55d-4533-ab6e-c33310137757",
   "metadata": {
    "tags": []
   },
   "source": [
    "### Creating model"
   ]
  },
  {
   "cell_type": "code",
   "execution_count": 67,
   "id": "8a135d3c-2771-4a2b-be9a-5e73336ffc59",
   "metadata": {},
   "outputs": [],
   "source": [
    "model = tf.keras.models.Sequential([\n",
    "  tf.keras.layers.Conv2D(16, (3,3), activation='relu', input_shape=(10, 10, 4)),\n",
    "  tf.keras.layers.MaxPooling2D(2, 2),\n",
    "  tf.keras.layers.Conv2D(32, (3,3), activation='relu'),\n",
    "  tf.keras.layers.MaxPooling2D(2, 2),\n",
    "  tf.keras.layers.Flatten(),\n",
    "  tf.keras.layers.Dense(64, activation='relu'),\n",
    "  tf.keras.layers.Dense(1, activation='sigmoid'),\n",
    "  tf.keras.layers.Dropout(0.4, name = 'fc1_drop', seed=3)\n",
    "])\n"
   ]
  },
  {
   "cell_type": "code",
   "execution_count": 68,
   "id": "97deee9e-b033-4531-8a9b-fdb1e56250e6",
   "metadata": {},
   "outputs": [
    {
     "name": "stdout",
     "output_type": "stream",
     "text": [
      "Model: \"sequential_5\"\n",
      "_________________________________________________________________\n",
      " Layer (type)                Output Shape              Param #   \n",
      "=================================================================\n",
      " conv2d_10 (Conv2D)          (None, 8, 8, 16)          592       \n",
      "                                                                 \n",
      " max_pooling2d_10 (MaxPoolin  (None, 4, 4, 16)         0         \n",
      " g2D)                                                            \n",
      "                                                                 \n",
      " conv2d_11 (Conv2D)          (None, 2, 2, 32)          4640      \n",
      "                                                                 \n",
      " max_pooling2d_11 (MaxPoolin  (None, 1, 1, 32)         0         \n",
      " g2D)                                                            \n",
      "                                                                 \n",
      " flatten_5 (Flatten)         (None, 32)                0         \n",
      "                                                                 \n",
      " dense_10 (Dense)            (None, 64)                2112      \n",
      "                                                                 \n",
      " dense_11 (Dense)            (None, 1)                 65        \n",
      "                                                                 \n",
      " fc1_drop (Dropout)          (None, 1)                 0         \n",
      "                                                                 \n",
      "=================================================================\n",
      "Total params: 7,409\n",
      "Trainable params: 7,409\n",
      "Non-trainable params: 0\n",
      "_________________________________________________________________\n"
     ]
    }
   ],
   "source": [
    "model.summary()"
   ]
  },
  {
   "cell_type": "code",
   "execution_count": 69,
   "id": "c1651b46-2c3f-45bb-b04f-d2882730a6b1",
   "metadata": {},
   "outputs": [],
   "source": [
    "from tensorflow.keras.optimizers import RMSprop\n",
    "\n",
    "model.compile(optimizer=RMSprop(learning_rate=0.001),\n",
    "              loss='binary_crossentropy',\n",
    "              metrics = ['accuracy'])"
   ]
  },
  {
   "cell_type": "code",
   "execution_count": 70,
   "id": "78583d7f-a057-4dcc-a6e6-1fd28372f351",
   "metadata": {},
   "outputs": [],
   "source": [
    "class myCallback(tf.keras.callbacks.Callback):\n",
    "  def on_epoch_end(self, epoch, logs = {}):\n",
    "    if logs.get('accuracy') > 0.798:\n",
    "      print(\"\\n Enough accuracy\")\n",
    "      self.model.stop_training = True\n",
    "        \n",
    "callbacks = myCallback()"
   ]
  },
  {
   "cell_type": "markdown",
   "id": "f15d02de-2909-436b-853e-36597a935924",
   "metadata": {},
   "source": [
    "### Training model"
   ]
  },
  {
   "cell_type": "code",
   "execution_count": 71,
   "id": "3710052a-e177-4bef-97c3-44212e2251af",
   "metadata": {
    "scrolled": true,
    "tags": []
   },
   "outputs": [
    {
     "name": "stdout",
     "output_type": "stream",
     "text": [
      "Epoch 1/20\n",
      "208/208 [==============================] - 3s 12ms/step - loss: 5.1657 - accuracy: 0.5728\n",
      "Epoch 2/20\n",
      "208/208 [==============================] - 2s 12ms/step - loss: 5.1685 - accuracy: 0.5661\n",
      "Epoch 3/20\n",
      "208/208 [==============================] - 2s 10ms/step - loss: 5.3418 - accuracy: 0.5554\n",
      "Epoch 4/20\n",
      "208/208 [==============================] - 2s 11ms/step - loss: 5.4504 - accuracy: 0.5482\n",
      "Epoch 5/20\n",
      "208/208 [==============================] - 2s 11ms/step - loss: 5.1561 - accuracy: 0.5646\n",
      "Epoch 6/20\n",
      "208/208 [==============================] - 2s 11ms/step - loss: 5.3879 - accuracy: 0.5550\n",
      "Epoch 7/20\n",
      "208/208 [==============================] - 2s 11ms/step - loss: 5.2775 - accuracy: 0.5598\n",
      "Epoch 8/20\n",
      "208/208 [==============================] - 2s 12ms/step - loss: 5.0330 - accuracy: 0.5767\n",
      "Epoch 9/20\n",
      "208/208 [==============================] - 3s 12ms/step - loss: 5.0780 - accuracy: 0.5714\n",
      "Epoch 10/20\n",
      "208/208 [==============================] - 2s 12ms/step - loss: 5.4926 - accuracy: 0.5473\n",
      "Epoch 11/20\n",
      "208/208 [==============================] - 2s 12ms/step - loss: 5.0709 - accuracy: 0.5685\n",
      "Epoch 12/20\n",
      "208/208 [==============================] - 2s 12ms/step - loss: 5.2309 - accuracy: 0.5733\n",
      "Epoch 13/20\n",
      "208/208 [==============================] - 2s 12ms/step - loss: 6.3659 - accuracy: 0.5569\n",
      "Epoch 14/20\n",
      "208/208 [==============================] - 2s 12ms/step - loss: 6.5393 - accuracy: 0.5747\n",
      "Epoch 15/20\n",
      "208/208 [==============================] - 2s 11ms/step - loss: 7.2229 - accuracy: 0.5304\n",
      "Epoch 16/20\n",
      "208/208 [==============================] - 2s 12ms/step - loss: 6.7695 - accuracy: 0.5598\n",
      "Epoch 17/20\n",
      "208/208 [==============================] - 2s 11ms/step - loss: 6.8511 - accuracy: 0.5545\n",
      "Epoch 18/20\n",
      "208/208 [==============================] - 3s 12ms/step - loss: 6.3615 - accuracy: 0.5863\n",
      "Epoch 19/20\n",
      "208/208 [==============================] - 2s 11ms/step - loss: 6.7472 - accuracy: 0.5612\n",
      "Epoch 20/20\n",
      "208/208 [==============================] - 2s 12ms/step - loss: 6.7034 - accuracy: 0.5641\n"
     ]
    }
   ],
   "source": [
    "history = model.fit(stack_train, patch_lulc_train, epochs=20, batch_size=10, callbacks=[callbacks])"
   ]
  },
  {
   "cell_type": "markdown",
   "id": "18f3e961-8e54-4b2e-830d-c23297bae4b1",
   "metadata": {},
   "source": [
    "**L'accuracy** : ![alt text](data:image/jpeg;base64,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)"
   ]
  },
  {
   "cell_type": "markdown",
   "id": "93f0d358-0b5c-4cd5-b8ac-0c807442ab8b",
   "metadata": {},
   "source": [
    "### Evaluating model"
   ]
  },
  {
   "cell_type": "code",
   "execution_count": 72,
   "id": "b6236e94-093c-433e-b115-bae177e42e6d",
   "metadata": {},
   "outputs": [
    {
     "name": "stdout",
     "output_type": "stream",
     "text": [
      "17/17 [==============================] - 0s 3ms/step - loss: 0.5222 - accuracy: 0.8247\n"
     ]
    },
    {
     "data": {
      "text/plain": [
       "[0.5221656560897827, 0.8246628046035767]"
      ]
     },
     "execution_count": 72,
     "metadata": {},
     "output_type": "execute_result"
    }
   ],
   "source": [
    "model.evaluate(stack_test,patch_lulc_test)"
   ]
  },
  {
   "cell_type": "code",
   "execution_count": 73,
   "id": "3adb6f83-f869-4140-bc38-0532e0a1a665",
   "metadata": {},
   "outputs": [],
   "source": [
    "data_path = 'Images/small_raster/g_RGBNIR_patch/'\n",
    "data_name = \"grid.hdf5\"\n",
    "path_grid_raster = import_hf5(data_path,data_name,'raster')\n",
    "patch_id_raster = import_hf5(data_path,data_name,'patch_id')"
   ]
  },
  {
   "cell_type": "code",
   "execution_count": 74,
   "id": "a76bb494-7f90-4dc2-9e02-879e5ae03649",
   "metadata": {
    "scrolled": true,
    "tags": []
   },
   "outputs": [],
   "source": [
    "stack = stackage(path_grid_raster)"
   ]
  },
  {
   "cell_type": "code",
   "execution_count": 75,
   "id": "6e4df43d-17a6-4d98-8812-8156a3e6b369",
   "metadata": {},
   "outputs": [],
   "source": [
    "stack_grid = normalise_01(stack)"
   ]
  },
  {
   "cell_type": "code",
   "execution_count": 76,
   "id": "f95241a3-e52f-4115-9150-c76c79cd6226",
   "metadata": {},
   "outputs": [
    {
     "name": "stdout",
     "output_type": "stream",
     "text": [
      "382/382 [==============================] - 2s 4ms/step\n"
     ]
    }
   ],
   "source": [
    "predict = model.predict(stack_grid)"
   ]
  },
  {
   "cell_type": "code",
   "execution_count": 77,
   "id": "2dae285f-3fa5-4970-a8f9-1c41e40ff1bb",
   "metadata": {},
   "outputs": [
    {
     "name": "stdout",
     "output_type": "stream",
     "text": [
      "[[0.52432287]\n",
      " [0.52198595]\n",
      " [0.53152114]\n",
      " ...\n",
      " [0.5065742 ]\n",
      " [0.5089235 ]\n",
      " [0.50644106]]\n"
     ]
    }
   ],
   "source": [
    "print(predict)"
   ]
  },
  {
   "cell_type": "code",
   "execution_count": 78,
   "id": "f7683a66-6e59-4e0e-9237-77b2bd712031",
   "metadata": {},
   "outputs": [],
   "source": [
    "#patch_id_raster = np.array(patch_id_raster.reshape(patch_id_raster.size,1))"
   ]
  },
  {
   "cell_type": "code",
   "execution_count": 79,
   "id": "570d807c-bcd4-4af9-b59f-7771cfb6cecc",
   "metadata": {
    "scrolled": true,
    "tags": []
   },
   "outputs": [],
   "source": [
    "#patch_id_raster = patch_id_raster.tolist()"
   ]
  },
  {
   "cell_type": "code",
   "execution_count": 80,
   "id": "aa4c7d33-63e5-4886-80c2-37430f415771",
   "metadata": {},
   "outputs": [
    {
     "name": "stdout",
     "output_type": "stream",
     "text": [
      "[0.48939207]\n"
     ]
    }
   ],
   "source": [
    "print(min(predict))"
   ]
  },
  {
   "cell_type": "code",
   "execution_count": 81,
   "id": "b5984c2e-16a6-4512-bf53-e60efb3be67e",
   "metadata": {},
   "outputs": [],
   "source": [
    "import csv\n",
    "\n",
    "predict = predict.reshape(1,predict.size).tolist()[0]\n",
    "\n",
    "header = ['prob_slum','id']\n",
    "cont = []\n",
    "cont.append(header)\n",
    "for x,y in zip(predict,patch_id_raster):\n",
    "    current_row = [x,y]\n",
    "    cont.append(current_row)\n",
    "    \n",
    "cont\n",
    "\n",
    "with open('prob_slum.csv','w') as file :\n",
    "    write = csv.writer(file)\n",
    "    write.writerows(cont)"
   ]
  },
  {
   "cell_type": "markdown",
   "id": "c1470ec4-a8be-4766-b4fe-2d74edcee4c1",
   "metadata": {
    "jp-MarkdownHeadingCollapsed": true,
    "tags": []
   },
   "source": [
    "## **VGG**"
   ]
  },
  {
   "cell_type": "markdown",
   "id": "88952d3b-1f96-4a38-bd76-8ec9d0d1f55d",
   "metadata": {
    "jp-MarkdownHeadingCollapsed": true,
    "tags": []
   },
   "source": [
    "### Import libraries"
   ]
  },
  {
   "cell_type": "code",
   "execution_count": 58,
   "id": "fadec447-a87c-4b10-a7fe-c867cc6996fb",
   "metadata": {},
   "outputs": [],
   "source": [
    "import numpy as np\n",
    "import os, sys\n",
    "import pandas as pd\n",
    "import glob\n",
    "import re\n",
    "from tensorflow import keras\n",
    "import natsort\n",
    "import sklearn\n",
    "import tensorflow as tf\n",
    "import datetime\n",
    "import cv2\n",
    "import shutil\n",
    "import time\n",
    "import tempfile\n",
    "import h5py\n",
    "\n",
    "\n",
    "\n",
    "from IPython.display import clear_output\n",
    "\n",
    "\n",
    "\n",
    "import matplotlib.pyplot as plt\n",
    "import matplotlib.image as mpimg\n",
    "%matplotlib inline\n",
    "\n",
    "from sklearn.metrics import r2_score, mean_squared_error, mean_absolute_error\n",
    "from osgeo import gdal\n",
    "from osgeo import gdal_array\n",
    "from natsort import natsorted\n",
    "from keras.utils import np_utils\n",
    "from keras.constraints import max_norm\n",
    "from tensorflow.keras import layers\n",
    "from tensorflow.keras.models import Sequential\n",
    "from tensorflow.keras.utils import plot_model\n",
    "from tensorflow.keras.layers import Dense, Dropout, Activation, Flatten, Input\n",
    "from tensorflow.keras.layers import Conv2D, MaxPooling2D, BatchNormalization\n",
    "from tensorflow.keras.optimizers import SGD, Adam\n",
    "from tensorflow.keras.callbacks import ModelCheckpoint\n",
    "from tensorflow.keras.callbacks import ReduceLROnPlateau, EarlyStopping\n",
    "from tensorflow.keras.preprocessing.image import ImageDataGenerator\n"
   ]
  },
  {
   "cell_type": "code",
   "execution_count": 59,
   "id": "c67c1e49-6c1b-4a4a-b703-362a2139c861",
   "metadata": {},
   "outputs": [
    {
     "name": "stdout",
     "output_type": "stream",
     "text": [
      "2.9.1\n"
     ]
    }
   ],
   "source": [
    "print(tf.__version__)"
   ]
  },
  {
   "cell_type": "code",
   "execution_count": 60,
   "id": "48b5e640-be17-444c-a101-07ce4b9fbb02",
   "metadata": {},
   "outputs": [
    {
     "name": "stdout",
     "output_type": "stream",
     "text": [
      "Mon Jul 18 13:27:38 2022       \n",
      "+-----------------------------------------------------------------------------+\n",
      "| NVIDIA-SMI 515.48.07    Driver Version: 515.48.07    CUDA Version: 11.7     |\n",
      "|-------------------------------+----------------------+----------------------+\n",
      "| GPU  Name        Persistence-M| Bus-Id        Disp.A | Volatile Uncorr. ECC |\n",
      "| Fan  Temp  Perf  Pwr:Usage/Cap|         Memory-Usage | GPU-Util  Compute M. |\n",
      "|                               |                      |               MIG M. |\n",
      "|===============================+======================+======================|\n",
      "|   0  NVIDIA GeForce ...  On   | 00000000:05:00.0  On |                  N/A |\n",
      "|  0%   47C    P8    10W / 200W |   7889MiB /  8192MiB |      0%      Default |\n",
      "|                               |                      |                  N/A |\n",
      "+-------------------------------+----------------------+----------------------+\n",
      "                                                                               \n",
      "+-----------------------------------------------------------------------------+\n",
      "| Processes:                                                                  |\n",
      "|  GPU   GI   CI        PID   Type   Process name                  GPU Memory |\n",
      "|        ID   ID                                                   Usage      |\n",
      "|=============================================================================|\n",
      "+-----------------------------------------------------------------------------+\n"
     ]
    }
   ],
   "source": [
    "! nvidia-smi"
   ]
  },
  {
   "cell_type": "code",
   "execution_count": 61,
   "id": "c49b1b39-8972-4c74-9efa-9304fafd8c8f",
   "metadata": {},
   "outputs": [],
   "source": [
    "import random as python_random\n",
    "SEED = 101\n",
    "np.random.seed(SEED)\n",
    "python_random.seed(SEED)\n",
    "tf.random.set_seed(SEED)\n",
    "tf.config.experimental.enable_op_determinism()\n"
   ]
  },
  {
   "cell_type": "code",
   "execution_count": 62,
   "id": "a9a23bd1-befb-498a-96f8-28d5b69dbc22",
   "metadata": {},
   "outputs": [],
   "source": [
    "# Add local module to the path\n",
    "src = os.path.abspath('SRC/')\n",
    "if src not in sys.path:\n",
    "    sys.path.append(src)\n"
   ]
  },
  {
   "cell_type": "code",
   "execution_count": 63,
   "id": "e9a35322-39be-4db6-a233-3a14d3772c62",
   "metadata": {},
   "outputs": [],
   "source": [
    "# Import functions for processing time information\n",
    "from processing_time import start_processing, print_processing_time\n",
    "# Import function that checks and creates folder\n",
    "from mkdir import check_create_dir\n",
    "# Import functions for plots\n",
    "from plots import plot_loss, plot_pred_test, plot_pred_train, plot_loss_multirun\n",
    "# Import functions for metrics to monitoring accuracy\n",
    "from metrics import coeff_determination\n",
    "# Import functions for display\n",
    "from display import Norma_Xpercentile\n",
    "# Import functions for exportation of results\n",
    "from export_results import save_predictions, write_run_metrics_file\n",
    "# Import LRFinder function\n",
    "from LRFinder import LRFinder"
   ]
  },
  {
   "cell_type": "code",
   "execution_count": 91,
   "id": "66dd6e0b-a694-4e55-b8eb-062f895a9170",
   "metadata": {},
   "outputs": [
    {
     "name": "stderr",
     "output_type": "stream",
     "text": [
      "Clipping input data to the valid range for imshow with RGB data ([0..1] for floats or [0..255] for integers).\n",
      "Clipping input data to the valid range for imshow with RGB data ([0..1] for floats or [0..255] for integers).\n",
      "Clipping input data to the valid range for imshow with RGB data ([0..1] for floats or [0..255] for integers).\n"
     ]
    },
    {
     "data": {
      "image/png": "[encoded data removed]",
      "text/plain": [
       "<Figure size 1080x1080 with 3 Axes>"
      ]
     },
     "metadata": {},
     "output_type": "display_data"
    }
   ],
   "source": [
    "# Random selection\n",
    "plt.rcParams[\"figure.facecolor\"] = 'w'\n",
    "plt.figure(figsize=(15, 15))\n",
    "for i in range(3):\n",
    "    rd_img = np.random.randint(1,500)\n",
    "    ax = plt.subplot(1, 3, i + 1)\n",
    "    plt.imshow(Norma_Xpercentile(stack_test[rd_img,:,:,:]))\n",
    "    plt.axis(\"off\")\n",
    "    plt.title(\"Random indx: %s\\nID: %s\\nlulc: %0.3f\" %(rd_img,patch_id_train[rd_img],patch_lulc_train[rd_img]))\n",
    "#plt.subplots_adjust(hspace=0.001)\n",
    "plt.tight_layout() "
   ]
  },
  {
   "cell_type": "code",
   "execution_count": 89,
   "id": "4a27e8a5-68a5-4712-9643-6f2d16aa363f",
   "metadata": {},
   "outputs": [
    {
     "name": "stdout",
     "output_type": "stream",
     "text": [
      "[0.212701   0.20289855 0.24676089 0.14758027]\n",
      "[0.3368614  0.3718141  0.39634866 0.25251558]\n",
      "[0.24486057 0.18890555 0.17314488 0.27359846]\n"
     ]
    }
   ],
   "source": [
    "print(stack_train[352,0,0,:])\n",
    "print(stack_train[12,0,0,:])\n",
    "print(stack_train[338,0,0,:])"
   ]
  },
  {
   "cell_type": "markdown",
   "id": "ae96afab-450d-4b2b-a8de-fbf859e6a3fd",
   "metadata": {},
   "source": [
    "# **Y-Model : RGBNIR AND SAR**"
   ]
  },
  {
   "cell_type": "markdown",
   "id": "8d4c8402-6c69-47e3-a15f-57587f1bcdfd",
   "metadata": {},
   "source": [
    "## Import Libraries"
   ]
  },
  {
   "cell_type": "code",
   "execution_count": 82,
   "id": "f7c2de81-03dc-48df-a23c-62660bcb3bcc",
   "metadata": {},
   "outputs": [],
   "source": [
    "from tensorflow.keras.layers import Dense, Dropout, Input\n",
    "from tensorflow.keras.layers import Conv2D, MaxPooling2D\n",
    "from tensorflow.keras.layers import Flatten, concatenate\n",
    "from tensorflow.keras.models import Model\n",
    "from tensorflow.keras.datasets import mnist\n",
    "from tensorflow.keras.utils import to_categorical\n",
    "from tensorflow.keras.utils import plot_model"
   ]
  },
  {
   "cell_type": "code",
   "execution_count": 83,
   "id": "48810c9e-9a65-4a70-959b-cac4048a919f",
   "metadata": {},
   "outputs": [],
   "source": [
    "left_input_shape = (10,10,4)\n",
    "right_input_shape = (10,10,3)\n",
    "batch_sizer = 32\n",
    "kernel_size = 3\n",
    "dropout = 0.4\n",
    "n_filters = 32"
   ]
  },
  {
   "cell_type": "code",
   "execution_count": null,
   "id": "a880834c-7764-4465-bc74-a7128e10e76a",
   "metadata": {},
   "outputs": [],
   "source": [
    "left_inputs = Input(shape=input_shape)\n",
    "x = left_inputs\n",
    "filters = n_filters\n",
    "\n",
    "# 1 layer of Conv2D-Dropout-MaxPooling2D\n",
    "\n",
    "for i in range(1):\n",
    "    x = Conv2D(filters=filters,\n",
    "               kernel_size=kernel_size,\n",
    "               padding='same',\n",
    "               activation='relu')(x)\n",
    "    x = Dropout(dropout)(x)\n",
    "    x = MaxPooling2D()(x)\n",
    "    filters *= 2\n"
   ]
  },
  {
   "cell_type": "code",
   "execution_count": null,
   "id": "27efad17-c233-4890-b6b2-8e4c05bf72c7",
   "metadata": {},
   "outputs": [],
   "source": [
    "right_inputs = Input(shape=input_shape)\n",
    "y = right_inputs\n",
    "filters = n_filters\n",
    "\n",
    "# 1 layer of Conv2D-Dropout-MaxPooling2D\n",
    "\n",
    "for i in range(1):\n",
    "    y = Conv2D(filters=filters,\n",
    "               kernel_size=kernel_size,\n",
    "               padding='same',\n",
    "               activation='relu',\n",
    "               dilation_rate=2)(y)\n",
    "    y = Dropout(dropout)(y)\n",
    "    y = MaxPooling2D()(y)\n",
    "    filters *= 2\n"
   ]
  },
  {
   "cell_type": "code",
   "execution_count": null,
   "id": "d057bc48-9ff9-4e4d-9f5e-90e40fd90dc2",
   "metadata": {},
   "outputs": [],
   "source": [
    "# merge left and right branches outputs\n",
    "y = concatenate([x, y])"
   ]
  },
  {
   "cell_type": "code",
   "execution_count": null,
   "id": "05d42c47-072c-4e29-af19-247e2f30b583",
   "metadata": {},
   "outputs": [],
   "source": [
    "# feature maps to vector before connecting to Dense \n",
    "num_labels = [0,1]\n",
    "y = Flatten()(y)\n",
    "y = Dropout(dropout)(y)\n",
    "outputs = Dense(num_labels, activation='softmax')(y)\n"
   ]
  },
  {
   "cell_type": "code",
   "execution_count": null,
   "id": "504d7d40-e50c-44ef-aa4a-113694955e43",
   "metadata": {},
   "outputs": [],
   "source": [
    "model = Model([left_inputs, right_inputs], outputs)"
   ]
  },
  {
   "cell_type": "code",
   "execution_count": null,
   "id": "5e38b2e6-3898-4fac-a0aa-eac0457919cd",
   "metadata": {},
   "outputs": [],
   "source": [
    "model.summary()\n"
   ]
  },
  {
   "cell_type": "code",
   "execution_count": null,
   "id": "957313ab-3b50-417a-838d-57201ab2a83a",
   "metadata": {},
   "outputs": [],
   "source": [
    "model.compile(loss='categorical_crossentropy',\n",
    "              optimizer='adam',\n",
    "              metrics=['accuracy'])"
   ]
  },
  {
   "cell_type": "code",
   "execution_count": null,
   "id": "3aa998b3-8803-4d7b-94a3-7eab6a13ef0b",
   "metadata": {},
   "outputs": [],
   "source": [
    "model.fit([stack_train, stack_sar_train],\n",
    "          patch_lulc_train, \n",
    "          validation_data=([stack_test, stack_sar_test], patch_lulc_test),\n",
    "          epochs=20,\n",
    "          batch_size=batch_size)"
   ]
  },
  {
   "cell_type": "markdown",
   "id": "d6a1ffd5-ffd6-480d-9dcf-6852e9143c4e",
   "metadata": {
    "tags": []
   },
   "source": [
    "# **Garbage**"
   ]
  },
  {
   "cell_type": "code",
   "execution_count": 60,
   "id": "ce07ad2d-60bb-4f15-b546-a84e47018982",
   "metadata": {},
   "outputs": [],
   "source": [
    "import csv\n",
    "\n",
    "#predict = predict.reshape(1,predict.size).tolist()[0]\n",
    "\n",
    "header = ['prob_slum','id']\n",
    "cont = []\n",
    "cont.append(header)\n",
    "for x,y in zip(predict,patch_id_raster):\n",
    "    current_row = [x,y]\n",
    "    cont.append(current_row)\n",
    "    \n",
    "cont\n",
    "\n",
    "with open('prob_slum.csv','w') as file :\n",
    "    write = csv.writer(file)\n",
    "    write.writerows(cont)"
   ]
  },
  {
   "cell_type": "code",
   "execution_count": null,
   "id": "ffa5dde0-cb04-48e5-a8c1-7f061b497911",
   "metadata": {},
   "outputs": [],
   "source": []
  },
  {
   "cell_type": "code",
   "execution_count": null,
   "id": "e73fb158-a943-4273-87ab-1c57aa33398c",
   "metadata": {},
   "outputs": [],
   "source": []
  },
  {
   "cell_type": "code",
   "execution_count": 93,
   "id": "59326a8a-1418-47c2-8ef6-ed181ae3e6c6",
   "metadata": {},
   "outputs": [],
   "source": [
    "a = ['a','b','c']\n",
    "b = [1,2,3]\n",
    "content = []\n",
    "header = [\"col1\", \"col2\"]\n",
    "content.append(header)\n",
    "for x,y in zip(a,b):\n",
    "    current_row = [x,y]\n",
    "    content.append(current_row)\n",
    "    \n",
    "content\n",
    "\n",
    "import csv\n",
    "with open('example.csv', 'w') as file:\n",
    "    writer = csv.writer(file)\n",
    "    writer.writerows(content)"
   ]
  },
  {
   "cell_type": "code",
   "execution_count": 86,
   "id": "d7d08ca8-641b-4fa4-b6bd-f97cb16287ab",
   "metadata": {},
   "outputs": [
    {
     "data": {
      "text/plain": [
       "<zip at 0x7f40e4679b40>"
      ]
     },
     "execution_count": 86,
     "metadata": {},
     "output_type": "execute_result"
    }
   ],
   "source": [
    "tuple_"
   ]
  },
  {
   "cell_type": "code",
   "execution_count": null,
   "id": "a770e789-b44a-4bf2-ad53-9f7f63b68f9f",
   "metadata": {},
   "outputs": [],
   "source": [
    "import os, signal\n",
    "\n",
    "os.kill(os.getpid() , signal.SIGKILL)"
   ]
  },
  {
   "cell_type": "code",
   "execution_count": null,
   "id": "43a8253a-4eea-4955-837d-d201fe0779a5",
   "metadata": {},
   "outputs": [],
   "source": []
  },
  {
   "cell_type": "code",
   "execution_count": null,
   "id": "c8633472-2758-492a-bff1-9f02ba1d3737",
   "metadata": {},
   "outputs": [],
   "source": []
  },
  {
   "cell_type": "code",
   "execution_count": null,
   "id": "a72e6b88-d44b-4ee7-8887-fa174fe3132a",
   "metadata": {},
   "outputs": [],
   "source": []
  },
  {
   "cell_type": "code",
   "execution_count": 79,
   "id": "7f2af317-1359-4a1b-b1f4-61a4b002511f",
   "metadata": {},
   "outputs": [],
   "source": [
    "a = np.array([[1, 2, 3], [3, 4, 5]])"
   ]
  },
  {
   "cell_type": "code",
   "execution_count": 81,
   "id": "4b5491a1-bcd9-4e31-9cef-a841c0a2ac95",
   "metadata": {},
   "outputs": [
    {
     "name": "stdout",
     "output_type": "stream",
     "text": [
      "[[1 2 3]\n",
      " [3 4 5]]\n",
      "(2, 3)\n"
     ]
    }
   ],
   "source": [
    "print(a)\n",
    "print(a.shape)"
   ]
  },
  {
   "cell_type": "code",
   "execution_count": 84,
   "id": "b53a643b-9e83-4062-b733-9582f75de6e8",
   "metadata": {},
   "outputs": [
    {
     "name": "stdout",
     "output_type": "stream",
     "text": [
      "[[1 2 3]\n",
      " [3 4 5]]\n"
     ]
    }
   ],
   "source": [
    "print(a.transpose(0,1))"
   ]
  },
  {
   "cell_type": "code",
   "execution_count": null,
   "id": "b289fcd5-52ba-42ab-8559-f0a4e4ef6303",
   "metadata": {},
   "outputs": [],
   "source": []
  }
 ],
 "metadata": {
  "kernelspec": {
   "display_name": "Python 3",
   "language": "python",
   "name": "python3"
  },
  "language_info": {
   "codemirror_mode": {
    "name": "ipython",
    "version": 3
   },
   "file_extension": ".py",
   "mimetype": "text/x-python",
   "name": "python",
   "nbconvert_exporter": "python",
   "pygments_lexer": "ipython3",
   "version": "3.8.10"
  }
 },
 "nbformat": 4,
 "nbformat_minor": 5
}
