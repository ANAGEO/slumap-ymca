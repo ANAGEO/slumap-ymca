{
 "cells": [
  {
   "cell_type": "code",
   "execution_count": 98,
   "id": "e26092af-32cd-4ed2-85c3-a9a6d104e031",
   "metadata": {},
   "outputs": [],
   "source": [
    "from osgeo import gdal\n",
    "from osgeo import ogr\n",
    "import os, sys\n",
    "import numpy as np\n",
    "import json"
   ]
  },
  {
   "cell_type": "code",
   "execution_count": 99,
   "id": "e777c445-cc74-4f08-9f86-1b47ee5a34e3",
   "metadata": {},
   "outputs": [],
   "source": [
    "def extract_coord(output_poly): #fonction pour extraire les coordonnées géographiques à partir d'un fichier json\n",
    "    \n",
    "    extract_json = json.loads(output_poly)\n",
    "    coordinates = extract_json['coordinates']\n",
    "    xmin = coordinates[0][0][0][0]\n",
    "    xmax = coordinates[0][0][1][0]\n",
    "    ymin = coordinates[0][0][0][1]\n",
    "    ymax = coordinates[0][0][2][1]\n",
    "    \n",
    "    return xmin,ymin,xmax,ymax"
   ]
  },
  {
   "cell_type": "code",
   "execution_count": 100,
   "id": "6a8a233e-74de-4564-831c-e47ebfdf4c62",
   "metadata": {},
   "outputs": [],
   "source": [
    "#code from https://github.com/tgrippa/Partimap/blob/cd72ecd2f3e32794eb3e0ee70399de1811b5399e/Notebooks/Data_preprocessing.ipynb\n",
    "def normalise_01(image_data):\n",
    "    image_data -= np.min(stack, axis=0, dtype=np.float32)\n",
    "    image_data /= (np.max(stack, axis=0, dtype=np.float32) - np.min(stack, axis=0, dtype=np.float32))\n",
    "    return image_data"
   ]
  },
  {
   "cell_type": "code",
   "execution_count": 110,
   "id": "73585de0-d96d-4172-8087-827c13a22552",
   "metadata": {
    "tags": []
   },
   "outputs": [
    {
     "name": "stdout",
     "output_type": "stream",
     "text": [
      "(259690.0, 266590.0, 9853680.0, 9860280.0)\n",
      "(259690.0, 9860280.0, 259790.0, 9860180.0)\n",
      "(259690.0, 9860180.0, 259790.0, 9860080.0)\n",
      "(259690.0, 9860080.0, 259790.0, 9859980.0)\n",
      "(259690.0, 9859980.0, 259790.0, 9859880.0)\n",
      "(259690.0, 9859880.0, 259790.0, 9859780.0)\n",
      "(259690.0, 9859780.0, 259790.0, 9859680.0)\n",
      "(259690.0, 9859680.0, 259790.0, 9859580.0)\n",
      "(259690.0, 9859580.0, 259790.0, 9859480.0)\n",
      "(259690.0, 9859480.0, 259790.0, 9859380.0)\n",
      "(259690.0, 9859380.0, 259790.0, 9859280.0)\n",
      "(259690.0, 9859280.0, 259790.0, 9859180.0)\n"
     ]
    }
   ],
   "source": [
    "rast = gdal.Open(\"Images/S1/s1_vv_small.tif\") #ouverture du raster\n",
    "\n",
    "vector = ogr.Open('Images/smaller/sample/sample_grid.gpkg') #ouverture de la fichier gkpg\n",
    "\n",
    "layer = vector.GetLayer() #extraction des couches dans le gkpg dans ce cas-ci il n'y en a qu'une seule (sinon spécifier)\n",
    "\n",
    "print(layer.GetExtent()) #affiche de l'emprise de la couche vectorielle\n",
    "\n",
    "listvrt = []\n",
    "i=0\n",
    "\n",
    "for feat in layer: #une boucle sur les polygones dans la couche vectorielle\n",
    "    if i <= 10 : \n",
    "        polygone = feat.GetGeometryRef().ExportToJson() #extraire les données géométriques et exporter en format JSON\n",
    "        list_coord = extract_coord(polygone) #extraction des coordonnées des polygones\n",
    "        print(list_coord)\n",
    "        poly_id = feat.GetField(\"id\") #extraire le id de l'object\n",
    "        lulc = feat.GetField(\"lulc\") #extraire le lulc (si slum ou pas slum) de l'object\n",
    "        name_file='s2_b02_'+str(poly_id)+'_'+str(lulc)+'.tif' #création du nom du fichier de sortie\n",
    "        filename = 'Images/s2_small_cut/B02/'+str(name_file)\n",
    "        gdal.Warp(str(filename),rast, outputBounds = list_coord) #division en petite tuile correspondante aux polygone dans le shpfile\n",
    "        listvrt.append(filename)\n",
    "        i +=1\n",
    "    \n",
    "              \n"
   ]
  },
  {
   "cell_type": "code",
   "execution_count": 111,
   "id": "3990bb33-93b6-4d8b-95f2-7159a30a68ec",
   "metadata": {},
   "outputs": [
    {
     "name": "stdout",
     "output_type": "stream",
     "text": [
      "[[ -3.1803706  -4.1433983  -6.6385584  -9.118368  -10.022296   -8.631668\n",
      "   -6.4746575  -5.917351   -7.022896   -6.3585486]\n",
      " [ -6.231778   -6.60423    -7.513828   -7.9901505  -7.6136155  -6.091342\n",
      "   -4.8407702  -5.130327   -6.979833   -7.684854 ]\n",
      " [ -7.7216554  -7.895165   -8.70667    -7.2578697  -5.5923777  -4.1218195\n",
      "   -3.5167878  -3.9842045  -5.515399   -6.7865934]\n",
      " [ -8.446246   -8.452781   -9.358833   -6.7285504  -4.3277855  -3.0610738\n",
      "   -2.7796342  -3.1016464  -4.016515   -5.533632 ]\n",
      " [ -8.436233   -8.160825   -8.857988   -6.4021754  -4.305549   -3.4454105\n",
      "   -3.0018084  -2.8723052  -3.0874527  -4.609898 ]\n",
      " [ -8.111731   -7.560599   -7.416033   -6.3661227  -5.5622582  -5.321836\n",
      "   -4.8544064  -4.477586   -4.23302    -4.783431 ]\n",
      " [ -8.610285   -7.6678967  -6.7834272  -6.9550624  -7.29164    -7.6300206\n",
      "   -7.292251   -6.8599706  -6.370966   -5.985206 ]\n",
      " [-10.249941   -8.762363   -7.3769345  -8.323401   -9.436078  -10.264026\n",
      "  -10.23629    -9.968861   -9.480829   -8.367252 ]\n",
      " [-10.897689   -9.507921   -8.125853   -8.295412   -8.793415   -9.419636\n",
      "   -9.7440195  -9.956463  -10.057798   -9.787178 ]\n",
      " [-11.639537  -10.701148   -9.35118    -8.746076   -8.606726   -8.978189\n",
      "   -9.377066   -9.554769   -9.506061   -9.668492 ]]\n"
     ]
    }
   ],
   "source": [
    "rast = gdal.Open('Images/s2_small_cut/B02/s2_b02_52739_0.tif')\n",
    "band = rast.ReadAsArray()\n",
    "print(band)"
   ]
  },
  {
   "cell_type": "code",
   "execution_count": null,
   "id": "0689e6d6-48bd-462f-aa73-c3c0c3fe4406",
   "metadata": {},
   "outputs": [],
   "source": []
  }
 ],
 "metadata": {
  "kernelspec": {
   "display_name": "Python 3",
   "language": "python",
   "name": "python3"
  },
  "language_info": {
   "codemirror_mode": {
    "name": "ipython",
    "version": 3
   },
   "file_extension": ".py",
   "mimetype": "text/x-python",
   "name": "python",
   "nbconvert_exporter": "python",
   "pygments_lexer": "ipython3",
   "version": "3.8.10"
  }
 },
 "nbformat": 4,
 "nbformat_minor": 5
}
