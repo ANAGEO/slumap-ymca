{
 "cells": [
  {
   "cell_type": "code",
   "execution_count": 90,
   "id": "73585de0-d96d-4172-8087-827c13a22552",
   "metadata": {
    "tags": []
   },
   "outputs": [
    {
     "name": "stdout",
     "output_type": "stream",
     "text": [
      "(259690.0, 266590.0, 9853680.0, 9860280.0)\n",
      "(259690.0, 9860280.0, 259790.0, 9860180.0)\n",
      "(259690.0, 9860180.0, 259790.0, 9860080.0)\n",
      "(259690.0, 9860080.0, 259790.0, 9859980.0)\n",
      "(259690.0, 9859980.0, 259790.0, 9859880.0)\n",
      "(259690.0, 9859880.0, 259790.0, 9859780.0)\n",
      "(259690.0, 9859780.0, 259790.0, 9859680.0)\n",
      "(259690.0, 9859680.0, 259790.0, 9859580.0)\n",
      "(259690.0, 9859580.0, 259790.0, 9859480.0)\n",
      "(259690.0, 9859480.0, 259790.0, 9859380.0)\n",
      "(259690.0, 9859380.0, 259790.0, 9859280.0)\n",
      "(259690.0, 9859280.0, 259790.0, 9859180.0)\n"
     ]
    }
   ],
   "source": [
    "from osgeo import gdal\n",
    "from osgeo import ogr\n",
    "import os, sys\n",
    "import geopandas\n",
    "import json\n",
    "\n",
    "def extract_coord(output_poly): #fonction pour extraire les coordonnées géographiques à partir d'un fichier json\n",
    "    \n",
    "    extract_json = json.loads(output_poly)\n",
    "    coordinates = extract_json['coordinates']\n",
    "    xmin = coordinates[0][0][0][0]\n",
    "    xmax = coordinates[0][0][1][0]\n",
    "    ymin = coordinates[0][0][0][1]\n",
    "    ymax = coordinates[0][0][2][1]\n",
    "    \n",
    "    return xmin,ymin,xmax,ymax\n",
    "    \n",
    "rast = gdal.Open(\"Images/S1/s1_vv_small.tif\") #ouverture du raster\n",
    "\n",
    "vector = ogr.Open('Images/smaller/sample/sample_grid.gpkg') #ouverture de la fichier gkpg\n",
    "\n",
    "layer = vector.GetLayer() #extraction des couches dans le gkpg dans ce cas-ci il n'y en a qu'une seule (sinon spécifier)\n",
    "\n",
    "print(layer.GetExtent()) #affiche de l'emprise de la couche vectorielle\n",
    "\n",
    "listvrt = []\n",
    "i=0\n",
    "\n",
    "for feat in layer: #une boucle sur les polygones dans la couche vectorielle\n",
    "    if i <= 10 : \n",
    "        polygone = feat.GetGeometryRef().ExportToJson() #extraire les données géométriques et exporter en format JSON\n",
    "        list_coord = extract_coord(polygone) #extraction des coordonnées des polygones\n",
    "        print(list_coord)\n",
    "        poly_id = feat.GetField(\"id\") #extraire le id de l'object\n",
    "        lulc = feat.GetField(\"lulc\") #extraire le lulc (si slum ou pas slum) de l'object\n",
    "        name_file='s1_vv_small_'+str(poly_id)+'_'+str(lulc)+'.tif' #création du nom du fichier de sortie\n",
    "        filename = 'Images/s1_vv_small_cut/'+str(name_file)\n",
    "        gdal.Warp(str(filename),rast, outputBounds = list_coord) #division en petite tuile correspondante aux polygone dans le shpfile\n",
    "        listvrt.append(filename)\n",
    "        i +=1\n",
    "    \n",
    "              \n"
   ]
  },
  {
   "cell_type": "code",
   "execution_count": null,
   "id": "e26092af-32cd-4ed2-85c3-a9a6d104e031",
   "metadata": {},
   "outputs": [],
   "source": []
  },
  {
   "cell_type": "code",
   "execution_count": 87,
   "id": "3990bb33-93b6-4d8b-95f2-7159a30a68ec",
   "metadata": {},
   "outputs": [
    {
     "name": "stdout",
     "output_type": "stream",
     "text": [
      "['Images/s1_vv_small_cut/s1_vv_small_52739_0.tif', 'Images/s1_vv_small_cut/s1_vv_small_52740_0.tif', 'Images/s1_vv_small_cut/s1_vv_small_52741_0.tif', 'Images/s1_vv_small_cut/s1_vv_small_52742_0.tif', 'Images/s1_vv_small_cut/s1_vv_small_52743_0.tif', 'Images/s1_vv_small_cut/s1_vv_small_52744_0.tif', 'Images/s1_vv_small_cut/s1_vv_small_52745_0.tif', 'Images/s1_vv_small_cut/s1_vv_small_52746_0.tif', 'Images/s1_vv_small_cut/s1_vv_small_52747_0.tif', 'Images/s1_vv_small_cut/s1_vv_small_52748_0.tif', 'Images/s1_vv_small_cut/s1_vv_small_52749_0.tif']\n"
     ]
    }
   ],
   "source": [
    "print(listvrt)"
   ]
  }
 ],
 "metadata": {
  "kernelspec": {
   "display_name": "Python 3",
   "language": "python",
   "name": "python3"
  },
  "language_info": {
   "codemirror_mode": {
    "name": "ipython",
    "version": 3
   },
   "file_extension": ".py",
   "mimetype": "text/x-python",
   "name": "python",
   "nbconvert_exporter": "python",
   "pygments_lexer": "ipython3",
   "version": "3.8.10"
  }
 },
 "nbformat": 4,
 "nbformat_minor": 5
}
