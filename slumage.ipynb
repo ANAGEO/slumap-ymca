{
 "cells": [
  {
   "cell_type": "code",
   "execution_count": 1,
   "id": "e26092af-32cd-4ed2-85c3-a9a6d104e031",
   "metadata": {},
   "outputs": [],
   "source": [
    "from osgeo import gdal\n",
    "from osgeo import ogr\n",
    "import os, sys\n",
    "import numpy as np\n",
    "import json"
   ]
  },
  {
   "cell_type": "code",
   "execution_count": 71,
   "id": "67e50841-a5f8-4f22-90d6-b0b6e38a485e",
   "metadata": {},
   "outputs": [],
   "source": [
    "import matplotlib.pyplot as plt\n",
    "%matplotlib inline"
   ]
  },
  {
   "cell_type": "code",
   "execution_count": 72,
   "id": "10a35290-6407-472b-a07d-f09cb09ec395",
   "metadata": {},
   "outputs": [],
   "source": [
    "import numpy as np \n",
    "from cv2 import cvtColor, COLOR_BGR2RGB\n",
    "\t\n",
    "def Norma_Xpercentile(image_data, prct:int = 2, BGR2RGB=True):\n",
    "\t'''\n",
    "\tFunction that perform x percent histogram equalization of RGB images display\n",
    "\t'''\n",
    "\n",
    "\ta = np.ndarray(image_data.shape, dtype='float32')  \n",
    "\ta[:,:,0] = (image_data[:,:,0] - np.nanpercentile(image_data[:,:,0],prct))/(np.nanpercentile(image_data[:,:,0],100-prct) - np.nanpercentile(image_data[:,:,0],prct))\n",
    "\ta[:,:,1] = (image_data[:,:,1] - np.nanpercentile(image_data[:,:,1],prct))/(np.nanpercentile(image_data[:,:,1],100-prct) - np.nanpercentile(image_data[:,:,1],prct))\n",
    "\ta[:,:,2] = (image_data[:,:,2] - np.nanpercentile(image_data[:,:,2],prct))/(np.nanpercentile(image_data[:,:,2],100-prct) - np.nanpercentile(image_data[:,:,2],prct))\n",
    "\tif BGR2RGB: \n",
    "\t\ta = cvtColor(a, COLOR_BGR2RGB)\n",
    "\treturn a"
   ]
  },
  {
   "cell_type": "code",
   "execution_count": 2,
   "id": "e777c445-cc74-4f08-9f86-1b47ee5a34e3",
   "metadata": {},
   "outputs": [],
   "source": [
    "def extract_coord(output_poly): #fonction pour extraire les coordonnées géographiques à partir d'un fichier json\n",
    "    \n",
    "    extract_json = json.loads(output_poly)\n",
    "    coordinates = extract_json['coordinates']\n",
    "    xmin = coordinates[0][0][0][0]\n",
    "    xmax = coordinates[0][0][1][0]\n",
    "    ymin = coordinates[0][0][0][1]\n",
    "    ymax = coordinates[0][0][2][1]\n",
    "    \n",
    "    return xmin,ymin,xmax,ymax"
   ]
  },
  {
   "cell_type": "code",
   "execution_count": 22,
   "id": "f48a1fcd-6497-4d66-b4b4-f16814589eca",
   "metadata": {},
   "outputs": [],
   "source": [
    "def merge_RGBNIR(listRGBNIR,output_dir):\n",
    "    gdal.BuildVRT(\"Images/RGBNIR.vrt\",listRGBNIR, separate=True)\n",
    "    output = output_dir+'merge_RGBNIR.tif'\n",
    "    gdal.Translate(output_dir+merge_RGBNIR+'.tif',\"Images/RGBNIR.vrt\", format='GTiff')\n",
    "    \n",
    "merge_RGBNIR([\"Images/S2/S2_B04_2019_Q1_small.tif\",\"Images/S2/S2_B03_2019_Q1_small.tif\",\"Images/S2/S2_B02_2019_Q1_small.tif\",\"Images/S2/S2_B08_2019_Q1_small.tif\"],'Images/S2/')\n",
    "    "
   ]
  },
  {
   "cell_type": "code",
   "execution_count": 56,
   "id": "6a8a233e-74de-4564-831c-e47ebfdf4c62",
   "metadata": {},
   "outputs": [],
   "source": [
    "#code from https://github.com/tgrippa/Partimap/blob/cd72ecd2f3e32794eb3e0ee70399de1811b5399e/Notebooks/Data_preprocessing.ipynb\n",
    "def normalise_01(image_data):\n",
    "    image_data -= np.min(stack, axis=0)\n",
    "    image_data /= (np.max(stack, axis=0) - np.min(stack, axis=0))\n",
    "    return image_data"
   ]
  },
  {
   "cell_type": "code",
   "execution_count": 104,
   "id": "73585de0-d96d-4172-8087-827c13a22552",
   "metadata": {
    "scrolled": true,
    "tags": []
   },
   "outputs": [
    {
     "name": "stdout",
     "output_type": "stream",
     "text": [
      "(259690.0, 266590.0, 9853680.0, 9860280.0)\n",
      "(259690.0, 9860280.0, 259790.0, 9860180.0)\n",
      "(259690.0, 9860180.0, 259790.0, 9860080.0)\n",
      "(259690.0, 9860080.0, 259790.0, 9859980.0)\n",
      "(259690.0, 9859980.0, 259790.0, 9859880.0)\n",
      "(259690.0, 9859880.0, 259790.0, 9859780.0)\n",
      "(259690.0, 9859780.0, 259790.0, 9859680.0)\n",
      "(259690.0, 9859680.0, 259790.0, 9859580.0)\n",
      "(259690.0, 9859580.0, 259790.0, 9859480.0)\n",
      "(259690.0, 9859480.0, 259790.0, 9859380.0)\n",
      "(259690.0, 9859380.0, 259790.0, 9859280.0)\n",
      "(259690.0, 9859280.0, 259790.0, 9859180.0)\n"
     ]
    }
   ],
   "source": [
    "def chunckage(folder_raster,filename_raster,format_rast,folder_vector, filename_vector):\n",
    "    \n",
    "    rast = gdal.Open(folder_raster+filename_raster+format_rast) #ouverture du raster\n",
    "\n",
    "    vector = ogr.Open(folder_vector+filename_vector) #ouverture de la fichier gkpg\n",
    "\n",
    "    layer = vector.GetLayer() #extraction des couches dans le gkpg dans ce cas-ci il n'y en a qu'une seule (sinon spécifier)\n",
    "\n",
    "    print(layer.GetExtent()) #affiche de l'emprise de la couche vectorielle\n",
    "\n",
    "    listvrt = []\n",
    "    i=0\n",
    "    \n",
    "    os.system('mkdir ./'+folder_raster+filename_raster+'_patch')\n",
    "\n",
    "    for feat in layer: #une boucle sur les polygones dans la couche vectorielle\n",
    "        if i <= 10 : \n",
    "            polygone = feat.GetGeometryRef().ExportToJson() #extraire les données géométriques et exporter en format JSON\n",
    "            list_coord = extract_coord(polygone) #extraction des coordonnées des polygones\n",
    "            print(list_coord)\n",
    "            poly_id = feat.GetField(\"id\") #extraire le id de l'object\n",
    "            lulc = feat.GetField(\"lulc\") #extraire le lulc (si slum ou pas slum) de l'object\n",
    "            name_file= filename_raster+'_'+str(poly_id)+'_'+str(lulc)+'.tif' #création du nom du fichier de sortie\n",
    "            filename = folder_raster+filename_raster+'_patch/'+str(name_file)\n",
    "            gdal.Warp(str(filename),rast, outputBounds = list_coord) #division en petite tuile correspondante aux polygone dans le shpfile\n",
    "            listvrt.append(filename)\n",
    "            i +=1\n",
    "            \n",
    "    return listvrt\n",
    "              \n",
    "merge_rbgnir_list = chunckage(\"Images/S2/\",\"merge_RGBNIR\",\".tif\",'Images/smaller/sample/','sample_grid.gpkg')\n"
   ]
  },
  {
   "cell_type": "code",
   "execution_count": 68,
   "id": "3990bb33-93b6-4d8b-95f2-7159a30a68ec",
   "metadata": {
    "scrolled": true,
    "tags": []
   },
   "outputs": [
    {
     "name": "stdout",
     "output_type": "stream",
     "text": [
      "[[[[1136.  749.  490. 1743.]\n",
      "   [1408. 1034.  720. 2520.]\n",
      "   [1272. 1110.  801. 2480.]\n",
      "   ...\n",
      "   [1488. 1418. 1272. 1992.]\n",
      "   [1090. 1042.  817. 2546.]\n",
      "   [ 710.  692.  433. 2802.]]\n",
      "\n",
      "  [[1134.  973.  666. 2604.]\n",
      "   [1196. 1064.  772. 2878.]\n",
      "   [ 985.  940.  661. 2778.]\n",
      "   ...\n",
      "   [1434. 1318. 1150. 2400.]\n",
      "   [1034.  875.  599. 2394.]\n",
      "   [ 869.  858.  576. 2540.]]\n",
      "\n",
      "  [[ 641.  672.  405. 2731.]\n",
      "   [ 561.  601.  351. 2698.]\n",
      "   [ 597.  608.  333. 2677.]\n",
      "   ...\n",
      "   [1304. 1011.  810. 2084.]\n",
      "   [1152.  978.  684. 2472.]\n",
      "   [1332. 1074.  725. 2574.]]\n",
      "\n",
      "  ...\n",
      "\n",
      "  [[ 970.  805.  501. 2364.]\n",
      "   [ 953.  788.  502. 2376.]\n",
      "   [ 878.  760.  471. 2314.]\n",
      "   ...\n",
      "   [1100.  877.  668. 1772.]\n",
      "   [ 761.  699.  465. 1266.]\n",
      "   [ 971.  833.  720. 1110.]]\n",
      "\n",
      "  [[1052.  886.  539. 2359.]\n",
      "   [ 999.  824.  490. 2385.]\n",
      "   [ 830.  767.  485. 2216.]\n",
      "   ...\n",
      "   [ 987.  785.  555. 1665.]\n",
      "   [ 733.  686.  523. 1183.]\n",
      "   [ 834.  684.  520. 1038.]]\n",
      "\n",
      "  [[1358. 1062.  694. 2311.]\n",
      "   [1216.  958.  623. 2310.]\n",
      "   [ 862.  785.  496. 2108.]\n",
      "   ...\n",
      "   [ 913.  712.  488. 1826.]\n",
      "   [ 747.  731.  479. 1684.]\n",
      "   [1058.  619.  503. 1238.]]]\n",
      "\n",
      "\n",
      " [[[1280. 1134.  811. 1775.]\n",
      "   [1066.  949.  809. 1873.]\n",
      "   [1132. 1194. 1198. 1760.]\n",
      "   ...\n",
      "   [1376. 1106.  967. 1646.]\n",
      "   [1654. 1486. 1310. 1871.]\n",
      "   [1850. 1642. 1368. 2204.]]\n",
      "\n",
      "  [[1384. 1126.  813. 1710.]\n",
      "   [1060.  821.  626. 1756.]\n",
      "   [ 914.  801.  700. 1862.]\n",
      "   ...\n",
      "   [1412. 1036.  794. 1698.]\n",
      "   [1842. 1640. 1554. 1934.]\n",
      "   [1814. 1600. 1598. 2322.]]\n",
      "\n",
      "  [[1484. 1140.  951. 1859.]\n",
      "   [1188.  982.  647. 1711.]\n",
      "   [ 879.  698.  473. 1810.]\n",
      "   ...\n",
      "   [1412. 1094.  789. 1677.]\n",
      "   [1472. 1252.  874. 1739.]\n",
      "   [1428. 1116.  905. 1734.]]\n",
      "\n",
      "  ...\n",
      "\n",
      "  [[1792. 1388. 1144. 2094.]\n",
      "   [1462. 1252.  968. 2096.]\n",
      "   [1334. 1172.  855. 2190.]\n",
      "   ...\n",
      "   [1334. 1202.  849. 1638.]\n",
      "   [1624. 1334. 1036. 2116.]\n",
      "   [2008. 1584. 1242. 2576.]]\n",
      "\n",
      "  [[1388. 1020.  775. 1691.]\n",
      "   [1172.  844.  619. 1765.]\n",
      "   [1216. 1046.  816. 1947.]\n",
      "   ...\n",
      "   [1346. 1120.  998. 1522.]\n",
      "   [1482. 1270. 1056. 2174.]\n",
      "   [1514. 1236.  944. 2398.]]\n",
      "\n",
      "  [[1162.  832.  565. 1566.]\n",
      "   [1144.  774.  541. 1975.]\n",
      "   [1070.  833.  565. 1968.]\n",
      "   ...\n",
      "   [1342. 1226. 1054. 1788.]\n",
      "   [1250. 1232.  975. 2444.]\n",
      "   [ 995.  864.  636. 2762.]]]\n",
      "\n",
      "\n",
      " [[[1500. 1294. 1002. 2124.]\n",
      "   [1382. 1252. 1000. 1979.]\n",
      "   [1282. 1130.  856. 1775.]\n",
      "   ...\n",
      "   [1428.  937.  675. 1737.]\n",
      "   [1824. 1009.  821. 2168.]\n",
      "   [1732. 1126.  954. 2114.]]\n",
      "\n",
      "  [[1338. 1214.  988. 1850.]\n",
      "   [1344. 1222. 1360. 1989.]\n",
      "   [1264. 1102. 1124. 1892.]\n",
      "   ...\n",
      "   [1462. 1196.  898. 1982.]\n",
      "   [1718. 1342. 1120. 2151.]\n",
      "   [1594. 1236. 1036. 1992.]]\n",
      "\n",
      "  [[1166. 1046.  744. 1753.]\n",
      "   [1146. 1118. 1238. 1744.]\n",
      "   [1248. 1206. 1182. 1835.]\n",
      "   ...\n",
      "   [1316. 1136.  867. 1642.]\n",
      "   [1322. 1104.  866. 1614.]\n",
      "   [1448. 1088.  910. 1642.]]\n",
      "\n",
      "  ...\n",
      "\n",
      "  [[1136.  921.  622. 1842.]\n",
      "   [1400. 1084.  882. 1975.]\n",
      "   [1440. 1188.  929. 1996.]\n",
      "   ...\n",
      "   [1158. 1020.  833. 1464.]\n",
      "   [ 933. 1007.  885. 1438.]\n",
      "   [1028.  955.  904. 1538.]]\n",
      "\n",
      "  [[1174.  946.  721. 1888.]\n",
      "   [1216.  977.  724. 1686.]\n",
      "   [1246.  910.  742. 1692.]\n",
      "   ...\n",
      "   [1096.  828.  682. 1449.]\n",
      "   [ 852.  938.  825. 1217.]\n",
      "   [ 958.  999.  944. 1390.]]\n",
      "\n",
      "  [[1258. 1100.  877. 2031.]\n",
      "   [1216.  959.  791. 1668.]\n",
      "   [1212. 1120.  844. 1726.]\n",
      "   ...\n",
      "   [1218.  933.  703. 1738.]\n",
      "   [1040.  880.  709. 1246.]\n",
      "   [1094. 1008.  841. 1354.]]]\n",
      "\n",
      "\n",
      " ...\n",
      "\n",
      "\n",
      " [[[1162.  935.  758. 1577.]\n",
      "   [1576. 1252.  938. 1815.]\n",
      "   [1864. 1428. 1100. 2223.]\n",
      "   ...\n",
      "   [1106. 1078. 1116. 1620.]\n",
      "   [1200. 1156. 1052. 1725.]\n",
      "   [1528. 1378. 1242. 1960.]]\n",
      "\n",
      "  [[1208.  915.  730. 1426.]\n",
      "   [1662. 1168.  897. 1860.]\n",
      "   [1880. 1410. 1036. 2144.]\n",
      "   ...\n",
      "   [ 950.  843.  814. 1306.]\n",
      "   [1084. 1052. 1021. 1636.]\n",
      "   [1476. 1346. 1262. 2040.]]\n",
      "\n",
      "  [[1280.  962.  750. 1466.]\n",
      "   [1328. 1046.  848. 1490.]\n",
      "   [1604. 1296. 1062. 1692.]\n",
      "   ...\n",
      "   [1528. 1272. 1030. 1708.]\n",
      "   [1192. 1164. 1023. 1590.]\n",
      "   [1264. 1106. 1142. 1922.]]\n",
      "\n",
      "  ...\n",
      "\n",
      "  [[1460. 1130.  904. 1656.]\n",
      "   [1576. 1270. 1052. 1742.]\n",
      "   [1606. 1356. 1172. 1816.]\n",
      "   ...\n",
      "   [1220.  918.  739. 1432.]\n",
      "   [1218.  885.  690. 1520.]\n",
      "   [1296.  993.  843. 1592.]]\n",
      "\n",
      "  [[1634. 1192.  975. 1796.]\n",
      "   [1796. 1512. 1232. 1946.]\n",
      "   [1620. 1324. 1186. 1884.]\n",
      "   ...\n",
      "   [1328. 1112.  899. 1584.]\n",
      "   [1184.  884.  669. 1474.]\n",
      "   [1138.  833.  617. 1504.]]\n",
      "\n",
      "  [[1404. 1086.  894. 1638.]\n",
      "   [1666. 1394. 1158. 1852.]\n",
      "   [1670. 1420. 1162. 1866.]\n",
      "   ...\n",
      "   [1138. 1082.  774. 2006.]\n",
      "   [1246. 1015.  771. 1654.]\n",
      "   [1322. 1066.  808. 1582.]]]\n",
      "\n",
      "\n",
      " [[[1500. 1240. 1042. 1716.]\n",
      "   [1548. 1328.  993. 1960.]\n",
      "   [1402. 1142.  873. 1730.]\n",
      "   ...\n",
      "   [1032.  883.  620. 2018.]\n",
      "   [1208. 1068.  844. 2172.]\n",
      "   [1262. 1116.  921. 2022.]]\n",
      "\n",
      "  [[1526. 1272. 1090. 1788.]\n",
      "   [1596. 1308. 1042. 1810.]\n",
      "   [1192.  905.  787. 1522.]\n",
      "   ...\n",
      "   [1120.  961.  783. 1688.]\n",
      "   [1174.  940.  705. 1966.]\n",
      "   [1238. 1090.  823. 1956.]]\n",
      "\n",
      "  [[1470. 1268. 1066. 1736.]\n",
      "   [1392. 1176.  846. 1678.]\n",
      "   [1206.  835.  672. 1406.]\n",
      "   ...\n",
      "   [1266. 1104.  872. 1653.]\n",
      "   [1290.  927.  730. 1642.]\n",
      "   [1338. 1026.  775. 1722.]]\n",
      "\n",
      "  ...\n",
      "\n",
      "  [[1578. 1326. 1124. 1854.]\n",
      "   [1366. 1152.  852. 1818.]\n",
      "   [1302. 1050.  783. 1631.]\n",
      "   ...\n",
      "   [1266. 1190. 1112. 1644.]\n",
      "   [1220. 1130. 1104. 1623.]\n",
      "   [1250. 1146.  962. 1390.]]\n",
      "\n",
      "  [[1464. 1214.  946. 1887.]\n",
      "   [1572. 1350. 1120. 1914.]\n",
      "   [1406. 1202.  954. 1886.]\n",
      "   ...\n",
      "   [1138. 1022. 1202. 1648.]\n",
      "   [1296. 1198. 1180. 1652.]\n",
      "   [1378. 1228. 1216. 1792.]]\n",
      "\n",
      "  [[1172.  952.  765. 1768.]\n",
      "   [1524. 1260. 1026. 1882.]\n",
      "   [1732. 1448. 1180. 1970.]\n",
      "   ...\n",
      "   [1238. 1192. 1274. 1678.]\n",
      "   [1130. 1052. 1056. 1572.]\n",
      "   [1404. 1248. 1140. 1848.]]]\n",
      "\n",
      "\n",
      " [[[1086.  952.  719. 1776.]\n",
      "   [1412. 1110.  852. 1766.]\n",
      "   [1488. 1230. 1056. 1862.]\n",
      "   ...\n",
      "   [1450. 1194.  971. 2050.]\n",
      "   [1470. 1184.  936. 1948.]\n",
      "   [1842. 1058.  803. 2160.]]\n",
      "\n",
      "  [[1306. 1096.  856. 1776.]\n",
      "   [1492. 1222. 1018. 1854.]\n",
      "   [1462. 1236. 1003. 1848.]\n",
      "   ...\n",
      "   [1368. 1156.  899. 1876.]\n",
      "   [1410. 1152.  959. 1836.]\n",
      "   [1642. 1198.  908. 1926.]]\n",
      "\n",
      "  [[1528. 1306. 1005. 1854.]\n",
      "   [1570. 1322.  990. 1932.]\n",
      "   [1488. 1248. 1076. 1860.]\n",
      "   ...\n",
      "   [1456. 1254.  918. 1734.]\n",
      "   [1498. 1122.  957. 1838.]\n",
      "   [1496. 1218.  837. 1788.]]\n",
      "\n",
      "  ...\n",
      "\n",
      "  [[1692. 1420. 1178. 1982.]\n",
      "   [1672. 1456. 1150. 1902.]\n",
      "   [1640. 1360. 1132. 1826.]\n",
      "   ...\n",
      "   [1212. 1084. 1124. 1689.]\n",
      "   [1642. 1332. 1100. 1808.]\n",
      "   [1884. 1592. 1180. 1942.]]\n",
      "\n",
      "  [[1716. 1512. 1222. 1944.]\n",
      "   [1636. 1360. 1140. 1870.]\n",
      "   [1706. 1416. 1174. 1923.]\n",
      "   ...\n",
      "   [1340. 1128.  996. 1620.]\n",
      "   [1622. 1384. 1190. 1866.]\n",
      "   [1546. 1336. 1136. 1780.]]\n",
      "\n",
      "  [[1616. 1342. 1162. 1864.]\n",
      "   [1638. 1372. 1080. 1934.]\n",
      "   [1556. 1348. 1026. 1960.]\n",
      "   ...\n",
      "   [1432. 1250. 1028. 2056.]\n",
      "   [1484. 1296. 1005. 2069.]\n",
      "   [1566. 1390. 1082. 1874.]]]]\n",
      "(11, 10, 10, 4)\n",
      "float32\n"
     ]
    }
   ],
   "source": [
    "#code inspired from https://github.com/tgrippa/Partimap/blob/cd72ecd2f3e32794eb3e0ee70399de1811b5399e/Notebooks/Data_preprocessing.ipynb\n",
    "stack = []\n",
    "for patch in merge_rbgnir_list :\n",
    "    pat = gdal.Open(patch)\n",
    "    data_rast = pat.ReadAsArray().astype(np.float32)\n",
    "    data_rast = np.transpose(data_rast,(1,2,0))\n",
    "    stack.append(data_rast)\n",
    "\n",
    "stack= np.array(stack)\n",
    "print(stack)\n",
    "print(stack.shape)\n",
    "print(stack.dtype)\n",
    "\n",
    "stack = normalise_01(stack)\n",
    "\n"
   ]
  },
  {
   "cell_type": "code",
   "execution_count": 69,
   "id": "1433f61c-ba35-4040-8258-6f461eb648f0",
   "metadata": {},
   "outputs": [
    {
     "data": {
      "text/plain": [
       "(11, 10, 10, 4)"
      ]
     },
     "execution_count": 69,
     "metadata": {},
     "output_type": "execute_result"
    }
   ],
   "source": [
    "stack.shape"
   ]
  },
  {
   "cell_type": "code",
   "execution_count": 70,
   "id": "b0ab30c1-8e2c-412a-bac1-13c460fb5ae3",
   "metadata": {},
   "outputs": [
    {
     "name": "stdout",
     "output_type": "stream",
     "text": [
      "<class 'numpy.float32'>\n"
     ]
    }
   ],
   "source": [
    "print(type(stack[4,9,9,0]))"
   ]
  },
  {
   "cell_type": "code",
   "execution_count": 77,
   "id": "48ea5003-e398-4759-ae0d-f33019469217",
   "metadata": {},
   "outputs": [
    {
     "name": "stderr",
     "output_type": "stream",
     "text": [
      "Clipping input data to the valid range for imshow with RGB data ([0..1] for floats or [0..255] for integers).\n"
     ]
    },
    {
     "data": {
      "text/plain": [
       "<matplotlib.image.AxesImage at 0x7fdf612bd0a0>"
      ]
     },
     "execution_count": 77,
     "metadata": {},
     "output_type": "execute_result"
    },
    {
     "data": {
      "image/png": "[encoded data removed]",
      "text/plain": [
       "<Figure size 432x288 with 1 Axes>"
      ]
     },
     "metadata": {
      "needs_background": "light"
     },
     "output_type": "display_data"
    }
   ],
   "source": [
    "plt.imshow(Norma_Xpercentile(stack[0,:,:,]))"
   ]
  },
  {
   "cell_type": "code",
   "execution_count": 74,
   "id": "5d456b40-2f18-4005-a694-256e5c847e32",
   "metadata": {},
   "outputs": [
    {
     "data": {
      "text/plain": [
       "<matplotlib.image.AxesImage at 0x7fdf8a4f6c70>"
      ]
     },
     "execution_count": 74,
     "metadata": {},
     "output_type": "execute_result"
    },
    {
     "data": {
      "image/png": "[encoded data removed]",
      "text/plain": [
       "<Figure size 432x288 with 1 Axes>"
      ]
     },
     "metadata": {
      "needs_background": "light"
     },
     "output_type": "display_data"
    }
   ],
   "source": [
    "plt.imshow(Norma_Xpercentile(stack[5,:,:,]))"
   ]
  },
  {
   "cell_type": "code",
   "execution_count": null,
   "id": "9154376a-4dd4-4b14-b2dd-e5883e3027ff",
   "metadata": {},
   "outputs": [],
   "source": []
  },
  {
   "cell_type": "code",
   "execution_count": null,
   "id": "47300aee-f439-4e3d-8f7d-c7156bece865",
   "metadata": {},
   "outputs": [],
   "source": []
  },
  {
   "cell_type": "code",
   "execution_count": 83,
   "id": "23ff8422-6ded-4b1c-81ca-679c7d826bd6",
   "metadata": {},
   "outputs": [],
   "source": [
    "os.removedirs('/home/jgovoort/patch')"
   ]
  },
  {
   "cell_type": "code",
   "execution_count": 84,
   "id": "118e2816-1036-462b-b2b2-e4444ade70a1",
   "metadata": {},
   "outputs": [],
   "source": [
    "os.mkdir('./patch')"
   ]
  },
  {
   "cell_type": "code",
   "execution_count": 85,
   "id": "3e979a65-3eaf-48d1-a279-cbb42ef5daf6",
   "metadata": {},
   "outputs": [
    {
     "data": {
      "text/plain": [
       "'home/jgovoort/patch'"
      ]
     },
     "execution_count": 85,
     "metadata": {},
     "output_type": "execute_result"
    }
   ],
   "source": [
    "os.path.join('home','jgovoort','patch') "
   ]
  },
  {
   "cell_type": "code",
   "execution_count": 99,
   "id": "0f6b66ec-a87b-4f60-9e97-4b424ef3b977",
   "metadata": {},
   "outputs": [
    {
     "ename": "SystemExit",
     "evalue": "NOT ALLOWED",
     "output_type": "error",
     "traceback": [
      "An exception has occurred, use %tb to see the full traceback.\n",
      "\u001b[0;31mSystemExit\u001b[0m\u001b[0;31m:\u001b[0m NOT ALLOWED\n"
     ]
    },
    {
     "name": "stderr",
     "output_type": "stream",
     "text": [
      "/usr/local/lib/python3.8/dist-packages/IPython/core/interactiveshell.py:3405: UserWarning: To exit: use 'exit', 'quit', or Ctrl-D.\n",
      "  warn(\"To exit: use 'exit', 'quit', or Ctrl-D.\", stacklevel=1)\n"
     ]
    }
   ],
   "source": [
    "path = '/home/jgovoort/Images/Sentinel1.jpeg'\n",
    "if os.path.splitext(path)[1] != '.tiff' or os.path.splitext(path)[1] != '.tif':\n",
    "    sys.exit(\"NOT ALLOWED\")"
   ]
  },
  {
   "cell_type": "code",
   "execution_count": 102,
   "id": "353069e2-bc1d-412c-99a5-bfa22dc71351",
   "metadata": {},
   "outputs": [
    {
     "data": {
      "text/plain": [
       "'uygduhd|ddssdds|dsdsdsdsd|sddsszeez|dsdsd'"
      ]
     },
     "execution_count": 102,
     "metadata": {},
     "output_type": "execute_result"
    }
   ],
   "source": [
    "row = 'uygduhd,ddssdds,dsdsdsdsd,sddsszeez,dsdsd'\n",
    "'|'.join(row.split(','))"
   ]
  },
  {
   "cell_type": "code",
   "execution_count": null,
   "id": "6d0f2111-88a6-488d-acf2-a8038c7ef5fe",
   "metadata": {},
   "outputs": [],
   "source": []
  }
 ],
 "metadata": {
  "kernelspec": {
   "display_name": "Python 3",
   "language": "python",
   "name": "python3"
  },
  "language_info": {
   "codemirror_mode": {
    "name": "ipython",
    "version": 3
   },
   "file_extension": ".py",
   "mimetype": "text/x-python",
   "name": "python",
   "nbconvert_exporter": "python",
   "pygments_lexer": "ipython3",
   "version": "3.8.10"
  }
 },
 "nbformat": 4,
 "nbformat_minor": 5
}
