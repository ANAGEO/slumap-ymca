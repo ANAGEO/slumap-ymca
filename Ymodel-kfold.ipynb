{
 "cells": [
  {
   "cell_type": "code",
   "execution_count": 1,
   "id": "fd721ff1-fb00-44a1-ba0a-656e5fe36020",
   "metadata": {},
   "outputs": [],
   "source": [
    "from tensorflow.keras.layers import Dense, Dropout, Input\n",
    "from tensorflow.keras.layers import Conv2D, MaxPooling2D\n",
    "from tensorflow.keras.layers import Flatten, concatenate\n",
    "from tensorflow.keras.layers import RandomFlip, RandomRotation, RandomTranslation\n",
    "from tensorflow.keras.models import Model\n",
    "from tensorflow.keras.datasets import mnist\n",
    "from tensorflow.keras.utils import to_categorical\n",
    "from tensorflow.keras.utils import plot_model\n",
    "from tensorflow.keras.layers import Dot, Add"
   ]
  },
  {
   "cell_type": "code",
   "execution_count": 2,
   "id": "c0d2c052-2e9c-41dd-95c2-f1566e5af613",
   "metadata": {},
   "outputs": [],
   "source": [
    "import pandas as pd"
   ]
  },
  {
   "cell_type": "code",
   "execution_count": 3,
   "id": "bc90a55b-6675-42e8-9fdf-134bb8d898bf",
   "metadata": {},
   "outputs": [],
   "source": [
    "from tensorflow.keras.layers import BatchNormalization"
   ]
  },
  {
   "cell_type": "code",
   "execution_count": 4,
   "id": "77e430a3-15d6-46cf-b625-dde690235e45",
   "metadata": {},
   "outputs": [],
   "source": [
    "from sklearn.model_selection import train_test_split"
   ]
  },
  {
   "cell_type": "code",
   "execution_count": 5,
   "id": "bb571f42-837c-435e-ad75-ef75b57007d3",
   "metadata": {},
   "outputs": [],
   "source": [
    "from tensorflow.keras.optimizers import SGD, Adam"
   ]
  },
  {
   "cell_type": "code",
   "execution_count": 6,
   "id": "c171e2fd-6b40-4f5b-887a-94ceb7c56127",
   "metadata": {},
   "outputs": [],
   "source": [
    "import tensorflow as tf"
   ]
  },
  {
   "cell_type": "code",
   "execution_count": 7,
   "id": "1fc5f56b-fc18-48d8-ad44-323c437cddbd",
   "metadata": {},
   "outputs": [],
   "source": [
    "def import_hf5(data_path, data_name, get_name):\n",
    "    hf = h5py.File(os.path.join(data_path, data_name), mode=\"r\")\n",
    "    data = hf.get(get_name)\n",
    "    stack = np.array(data)\n",
    "    hf.close()\n",
    "    return stack"
   ]
  },
  {
   "cell_type": "code",
   "execution_count": 8,
   "id": "384e63b1-b121-4fa3-b6c2-b692903b700f",
   "metadata": {},
   "outputs": [],
   "source": [
    "#code from https://github.com/tgrippa/Partimap/blob/cd72ecd2f3e32794eb3e0ee70399de1811b5399e/Notebooks/Data_preprocessing.ipynb\n",
    "def normalise_01(image_data):\n",
    "    stack = image_data\n",
    "    image_data -= np.min(stack, axis=0)\n",
    "    image_data /= (np.max(stack, axis=0) - np.min(stack, axis=0))\n",
    "    return image_data"
   ]
  },
  {
   "cell_type": "code",
   "execution_count": 9,
   "id": "b66a8b85-5b7a-4bd3-8087-2490b4b59cd9",
   "metadata": {},
   "outputs": [],
   "source": [
    "def standardise(image_data):\n",
    "    image_data -= np.mean(image_data, axis=0, dtype=np.float32)\n",
    "    image_data /= np.std(image_data, axis=0, dtype=np.float32)\n",
    "    return image_data"
   ]
  },
  {
   "cell_type": "code",
   "execution_count": 10,
   "id": "0bce6b3f-44b8-43c9-9ddc-8d055aa25bc2",
   "metadata": {},
   "outputs": [],
   "source": [
    "def circle(train_lulc,test_lulc,title) :\n",
    "    train_slum = (train_lulc==1).sum()\n",
    "    train_noslum = (train_lulc==0).sum()\n",
    "    test_slum = (test_lulc==1).sum()\n",
    "    test_noslum = (test_lulc==0).sum()\n",
    "    \n",
    "    RESTRAIN = [train_slum,train_noslum]\n",
    "    RESTEST = [test_slum,test_noslum]\n",
    "    RESLABEL1 = ['Training slums', 'Training no slums' ]\n",
    "    RESLABEL2 = ['Test slums', 'Test no slums']\n",
    "    \n",
    "    \n",
    "    fig, (ax1, ax2) = plt.subplots(1, 2)\n",
    "    ax1.pie(RESTRAIN, labels=RESLABEL1, autopct='%1.1f%%',\n",
    "        shadow=True, startangle=90)\n",
    "    ax1.axis('equal')  # Equal aspect ratio ensures that pie is drawn as a circle.\n",
    "    ax2.pie(RESTEST, labels=RESLABEL2, autopct='%1.1f%%',\n",
    "        shadow=True, startangle=90)\n",
    "    ax2.axis('equal')  # Equal aspect ratio ensures that pie is drawn as a circle.\n",
    "    \n",
    "    \n",
    "    plt.title(title)\n",
    "    \n",
    "    plt.show()"
   ]
  },
  {
   "cell_type": "code",
   "execution_count": 11,
   "id": "d640a905-e845-4614-b679-419f45650f16",
   "metadata": {},
   "outputs": [],
   "source": [
    "from osgeo import gdal\n",
    "import numpy as np\n",
    "\n",
    "#code inspired from https://github.com/tgrippa/Partimap/blob/cd72ecd2f3e32794eb3e0ee70399de1811b5399e/Notebooks/Data_preprocessing.ipynb\n",
    "def stackage(list_raster):\n",
    "    stack = []\n",
    "    for patch in list_raster :\n",
    "        pat = gdal.Open(patch.decode('ascii'))\n",
    "        data_rast = pat.ReadAsArray().astype(np.float32)\n",
    "        data_rast = np.transpose(data_rast,(1,2,0))\n",
    "        stack.append(data_rast)\n",
    "\n",
    "    stack= np.array(stack)\n",
    "    \n",
    "    return stack\n"
   ]
  },
  {
   "cell_type": "code",
   "execution_count": 12,
   "id": "ad53a1ba-bf36-4788-8b3e-c40deee6e2ba",
   "metadata": {},
   "outputs": [],
   "source": [
    "def assimilation(patch_id_train, patch_id_test, path_raster):\n",
    "    train_path = [None] * 10\n",
    "    test_path = [None] * 10\n",
    "\n",
    "    patch_id_train_re = patch_id_train.reshape(1,patch_id_train.size)\n",
    "    patch_id_train_list = patch_id_train_re.tolist()[0]\n",
    "    patch_id_test_re = patch_id_test.reshape(1,patch_id_test.size)\n",
    "    patch_id_test_list = patch_id_test_re.tolist()[0]\n",
    "    train_path = [None] * len(patch_id_train)\n",
    "    test_path = [None] * len(patch_id_test)\n",
    "    \n",
    "    \n",
    "    for path in path_raster : #récupération des id des images\n",
    "        depath = path.decode('ascii')\n",
    "        image = depath.split('/')[-1]\n",
    "        image_id = int(image.split('_')[-2])\n",
    "        if image_id in patch_id_train_list :\n",
    "            index = patch_id_train_list.index(image_id)\n",
    "            train_path[index] = path\n",
    "        elif image_id in patch_id_test_list :\n",
    "            index = patch_id_test_list.index(image_id)\n",
    "            test_path[index] = path\n",
    "\n",
    "    #stack = stackage(train_path)\n",
    "\n",
    "    stack_train = stackage(train_path)\n",
    "    #stack = stackage(test_path)\n",
    "    stack_test = stackage(test_path)\n",
    "\n",
    "    \n",
    "    plt.rcParams[\"figure.facecolor\"] = 'w'\n",
    "    plt.figure(figsize=(15, 15))\n",
    "    for i in range(3):\n",
    "        rd_img = np.random.randint(1,500)\n",
    "        ax = plt.subplot(1, 3, i + 1)\n",
    "        plt.imshow(Norma_Xpercentile(stack_test[rd_img,:,:,:]))\n",
    "        plt.axis(\"off\")\n",
    "        plt.title(\"Random indx: %s\\nID: %s\\nlulc: %0.3f\" %(rd_img,patch_id_test[rd_img],patch_lulc_test[rd_img]))\n",
    "        print(stack_test[rd_img,0,0,:])\n",
    "        print(test_path[rd_img])\n",
    "        print(patch_id_test[rd_img])\n",
    "    #plt.subplots_adjust(hspace=0.001)\n",
    "    plt.tight_layout() \n",
    "    \n",
    "    stack_train = normalise_01(stack_train)\n",
    "    stack_test = normalise_01(stack_test)\n",
    "\n",
    "\n",
    "    return stack_train, stack_test"
   ]
  },
  {
   "cell_type": "code",
   "execution_count": 13,
   "id": "d310dac8-458a-4a8c-a353-2ab0e199667f",
   "metadata": {},
   "outputs": [],
   "source": [
    "def make_csv(predict, patch_id_raster, name):\n",
    "    import csv\n",
    "\n",
    "    predict = predict.reshape(1,predict.size).tolist()[0]\n",
    "\n",
    "    header = ['prob_slum','id']\n",
    "    cont = []\n",
    "    cont.append(header)\n",
    "    for x,y in zip(predict,patch_id_raster):\n",
    "        current_row = [x,y[0]]\n",
    "        cont.append(current_row)\n",
    "\n",
    "    cont\n",
    "\n",
    "    with open(str(name)+'.csv','w') as file :\n",
    "        write = csv.writer(file)\n",
    "        write.writerows(cont)"
   ]
  },
  {
   "cell_type": "code",
   "execution_count": 14,
   "id": "6eeb2b25-770b-4816-a03a-f3749b4370d6",
   "metadata": {},
   "outputs": [],
   "source": [
    "def reshape(list_input):\n",
    "    L = np.array(list_input)\n",
    "    L = L.reshape(L.size,-1)\n",
    "    \n",
    "    return L"
   ]
  },
  {
   "cell_type": "code",
   "execution_count": 15,
   "id": "d85b6942-6644-42db-bcde-ec62b3adc6d9",
   "metadata": {},
   "outputs": [],
   "source": [
    "import h5py\n",
    "import os, sys"
   ]
  },
  {
   "cell_type": "code",
   "execution_count": 16,
   "id": "8ecc923d-de05-4607-b342-683a1ed8b8f0",
   "metadata": {},
   "outputs": [],
   "source": [
    "import matplotlib.pyplot as plt\n",
    "import matplotlib.image as mpimg\n",
    "%matplotlib inline"
   ]
  },
  {
   "cell_type": "code",
   "execution_count": 17,
   "id": "21085247-3e10-409c-9303-affe4af533f3",
   "metadata": {},
   "outputs": [],
   "source": [
    "# Add local module to the path\n",
    "src = os.path.abspath('SRC/')\n",
    "if src not in sys.path:\n",
    "    sys.path.append(src)\n"
   ]
  },
  {
   "cell_type": "code",
   "execution_count": 18,
   "id": "3a6c52fb-1048-438e-ab98-16950c7fba32",
   "metadata": {},
   "outputs": [],
   "source": [
    "# Import functions for processing time information\n",
    "from processing_time import start_processing, print_processing_time\n",
    "# Import function that checks and creates folder\n",
    "from mkdir import check_create_dir\n",
    "# Import functions for plots\n",
    "from plots import plot_loss, plot_pred_test, plot_pred_train, plot_loss_multirun\n",
    "# Import functions for metrics to monitoring accuracy\n",
    "from metrics import coeff_determination\n",
    "# Import functions for display\n",
    "from display import Norma_Xpercentile\n",
    "# Import functions for exportation of results\n",
    "from export_results import save_predictions, write_run_metrics_file\n",
    "# Import LRFinder function\n",
    "from LRFinder import LRFinder"
   ]
  },
  {
   "cell_type": "markdown",
   "id": "67a57566-1784-42da-b3cb-0cb18e77add0",
   "metadata": {},
   "source": [
    "## Preprocessing"
   ]
  },
  {
   "cell_type": "code",
   "execution_count": 19,
   "id": "65dfa209-9aa1-4a86-8817-923fb93cb631",
   "metadata": {},
   "outputs": [],
   "source": [
    "f = h5py.File('Images/big_raster/g_BNIR_patch/g_Ymodel_S1BNIR.hdf5', 'r')\n",
    "S1_grid_id = np.array(f[\"id_sar\"])          \n",
    "S2_grid_id = np.array(f[\"id_rgb\"])                     \n",
    "S1_grid_path = f[\"patch_sar_path\"]\n",
    "S2_grid_path = f[\"patch_rgb_path\"]"
   ]
  },
  {
   "cell_type": "code",
   "execution_count": 20,
   "id": "5cbfe081-0534-465c-98b5-26070116044c",
   "metadata": {},
   "outputs": [],
   "source": [
    "S1_grid_id = S1_grid_id.reshape(S1_grid_id.size,1)\n",
    "S2_grid_id = S2_grid_id.reshape(S2_grid_id.size,1)"
   ]
  },
  {
   "cell_type": "code",
   "execution_count": 21,
   "id": "29c18567-d808-4102-9b51-d18b3a3cf48b",
   "metadata": {},
   "outputs": [],
   "source": [
    "f = h5py.File('Images/big_raster/tr_BNIR_patch/tr_Ymodel_S1BNIR.hdf5', 'r')\n",
    "S1_patch_id = list(f[\"id_sar\"])\n",
    "S2_patch_id = np.array(f[\"id_rgb\"])\n",
    "S1_patch_lulc = list(f[\"lulc_sar\"])\n",
    "S2_patch_lulc = np.array(f[\"lulc_rgb\"])\n",
    "S1_patch_path = list(f[\"patch_sar_path\"])\n",
    "S2_patch_path = list(f[\"patch_rgb_path\"])"
   ]
  },
  {
   "cell_type": "code",
   "execution_count": 22,
   "id": "33556ef2-5fd1-4259-86db-fe5740d30cbc",
   "metadata": {},
   "outputs": [],
   "source": [
    "stack = stackage(S1_grid_path)\n",
    "S1_stack_grid = normalise_01(stack)\n",
    "\n",
    "stack = stackage(S2_grid_path)\n",
    "S2_stack_grid = normalise_01(stack)"
   ]
  },
  {
   "cell_type": "code",
   "execution_count": 23,
   "id": "1f33f506-b4dc-412d-b681-75ec77eeede8",
   "metadata": {},
   "outputs": [
    {
     "data": {
      "text/html": [
       "<div>\n",
       "<style scoped>\n",
       "    .dataframe tbody tr th:only-of-type {\n",
       "        vertical-align: middle;\n",
       "    }\n",
       "\n",
       "    .dataframe tbody tr th {\n",
       "        vertical-align: top;\n",
       "    }\n",
       "\n",
       "    .dataframe thead th {\n",
       "        text-align: right;\n",
       "    }\n",
       "</style>\n",
       "<table border=\"1\" class=\"dataframe\">\n",
       "  <thead>\n",
       "    <tr style=\"text-align: right;\">\n",
       "      <th></th>\n",
       "      <th>kfold</th>\n",
       "      <th>ID_train</th>\n",
       "      <th>ID_val</th>\n",
       "    </tr>\n",
       "  </thead>\n",
       "  <tbody>\n",
       "    <tr>\n",
       "      <th>0</th>\n",
       "      <td>1</td>\n",
       "      <td>[10255, 10508, 10509, 10763, 10767, 11016, 110...</td>\n",
       "      <td>[16578, 17596, 18101, 18601, 18603, 19113, 203...</td>\n",
       "    </tr>\n",
       "    <tr>\n",
       "      <th>1</th>\n",
       "      <td>2</td>\n",
       "      <td>[10508, 10509, 10763, 10767, 11016, 11017, 112...</td>\n",
       "      <td>[10255, 17321, 17338, 17850, 18855, 19112, 193...</td>\n",
       "    </tr>\n",
       "    <tr>\n",
       "      <th>2</th>\n",
       "      <td>3</td>\n",
       "      <td>[10255, 10508, 10509, 10763, 10767, 11016, 112...</td>\n",
       "      <td>[11017, 15571, 16579, 16834, 17088, 17574, 183...</td>\n",
       "    </tr>\n",
       "    <tr>\n",
       "      <th>3</th>\n",
       "      <td>4</td>\n",
       "      <td>[10255, 10508, 10509, 10763, 10767, 11016, 110...</td>\n",
       "      <td>[14525, 18349, 18612, 19110, 19365, 19613, 196...</td>\n",
       "    </tr>\n",
       "    <tr>\n",
       "      <th>4</th>\n",
       "      <td>5</td>\n",
       "      <td>[10255, 10508, 10509, 10763, 10767, 11016, 110...</td>\n",
       "      <td>[11523, 16580, 16835, 17087, 18348, 18350, 183...</td>\n",
       "    </tr>\n",
       "    <tr>\n",
       "      <th>5</th>\n",
       "      <td>6</td>\n",
       "      <td>[10255, 10508, 10509, 10763, 11016, 11017, 112...</td>\n",
       "      <td>[10767, 11270, 11776, 16305, 17084, 17322, 180...</td>\n",
       "    </tr>\n",
       "    <tr>\n",
       "      <th>6</th>\n",
       "      <td>7</td>\n",
       "      <td>[10255, 10508, 10509, 10763, 10767, 11016, 110...</td>\n",
       "      <td>[16832, 17576, 17595, 17597, 18079, 19372, 206...</td>\n",
       "    </tr>\n",
       "    <tr>\n",
       "      <th>7</th>\n",
       "      <td>8</td>\n",
       "      <td>[10255, 10508, 10767, 11017, 11270, 11275, 115...</td>\n",
       "      <td>[10509, 10763, 11016, 12533, 14023, 15572, 168...</td>\n",
       "    </tr>\n",
       "    <tr>\n",
       "      <th>8</th>\n",
       "      <td>9</td>\n",
       "      <td>[10255, 10508, 10509, 10763, 10767, 11016, 110...</td>\n",
       "      <td>[11275, 12795, 14021, 14022, 16052, 16831, 170...</td>\n",
       "    </tr>\n",
       "    <tr>\n",
       "      <th>9</th>\n",
       "      <td>10</td>\n",
       "      <td>[10255, 10509, 10763, 10767, 11016, 11017, 112...</td>\n",
       "      <td>[10508, 11781, 14272, 16053, 17341, 17843, 180...</td>\n",
       "    </tr>\n",
       "  </tbody>\n",
       "</table>\n",
       "</div>"
      ],
      "text/plain": [
       "   kfold                                           ID_train  \\\n",
       "0      1  [10255, 10508, 10509, 10763, 10767, 11016, 110...   \n",
       "1      2  [10508, 10509, 10763, 10767, 11016, 11017, 112...   \n",
       "2      3  [10255, 10508, 10509, 10763, 10767, 11016, 112...   \n",
       "3      4  [10255, 10508, 10509, 10763, 10767, 11016, 110...   \n",
       "4      5  [10255, 10508, 10509, 10763, 10767, 11016, 110...   \n",
       "5      6  [10255, 10508, 10509, 10763, 11016, 11017, 112...   \n",
       "6      7  [10255, 10508, 10509, 10763, 10767, 11016, 110...   \n",
       "7      8  [10255, 10508, 10767, 11017, 11270, 11275, 115...   \n",
       "8      9  [10255, 10508, 10509, 10763, 10767, 11016, 110...   \n",
       "9     10  [10255, 10509, 10763, 10767, 11016, 11017, 112...   \n",
       "\n",
       "                                              ID_val  \n",
       "0  [16578, 17596, 18101, 18601, 18603, 19113, 203...  \n",
       "1  [10255, 17321, 17338, 17850, 18855, 19112, 193...  \n",
       "2  [11017, 15571, 16579, 16834, 17088, 17574, 183...  \n",
       "3  [14525, 18349, 18612, 19110, 19365, 19613, 196...  \n",
       "4  [11523, 16580, 16835, 17087, 18348, 18350, 183...  \n",
       "5  [10767, 11270, 11776, 16305, 17084, 17322, 180...  \n",
       "6  [16832, 17576, 17595, 17597, 18079, 19372, 206...  \n",
       "7  [10509, 10763, 11016, 12533, 14023, 15572, 168...  \n",
       "8  [11275, 12795, 14021, 14022, 16052, 16831, 170...  \n",
       "9  [10508, 11781, 14272, 16053, 17341, 17843, 180...  "
      ]
     },
     "execution_count": 23,
     "metadata": {},
     "output_type": "execute_result"
    }
   ],
   "source": [
    "data= pd.read_csv(\"Nairobi_10Fold_Split.csv\")\n",
    "data"
   ]
  },
  {
   "cell_type": "markdown",
   "id": "208b69de-5519-4fd6-9be7-2f4add4f29d4",
   "metadata": {},
   "source": [
    "## Model definition"
   ]
  },
  {
   "cell_type": "code",
   "execution_count": 43,
   "id": "753900e4-fb05-413d-8d97-50949287cab3",
   "metadata": {},
   "outputs": [],
   "source": [
    "def ymodel(left_input_shape,right_input_shape,batch_size,kernel_size,dropout,n_filters,stack_train,stack_test,stack_sar_train,stack_sar_test,fold):\n",
    "    \n",
    "    class myCallback(tf.keras.callbacks.Callback):\n",
    "        def on_epoch_end(self, epoch, logs = {}):\n",
    "            if logs.get('val_accuracy') > 0.98:\n",
    "              print(\"\\n Enough accuracy\")\n",
    "              self.model.stop_training = True\n",
    "\n",
    "    maxcallbacks = myCallback()\n",
    "    callbacks = tf.keras.callbacks.EarlyStopping(monitor='val_loss', patience=20, mode='min')\n",
    "    \n",
    "    myCallbacks = [tf.keras.callbacks.EarlyStopping(monitor='val_loss', patience=50, mode='min'),\n",
    "                   tf.keras.callbacks.ModelCheckpoint(filepath='checkpoint/checkpoint_'+str(fold+1), save_weights_only=True, monitor='val_loss', mode='min', save_best_only=True),\n",
    "                   maxcallbacks, \n",
    "                   tf.keras.callbacks.ReduceLROnPlateau(monitor='val_loss', factor=0.1, patience=10, min_lr=0.001) ]\n",
    "    \n",
    "    #Left branch\n",
    "    \n",
    "    left_inputs = Input(shape=left_input_shape)\n",
    "    x = left_inputs\n",
    "    filters = n_filters\n",
    "\n",
    "    x = RandomFlip(\"horizontal_and_vertical\")(x)\n",
    "    x = RandomRotation(0.2, fill_mode='reflect')(x)\n",
    "    #x = RandomTranslation(height_factor=0.05, width_factor=0.05, fill_mode='reflect')(x) \n",
    "\n",
    "    # 2 layer of Conv2D-Dropout-MaxPooling2D\n",
    "    for i in range(2):\n",
    "        x = Conv2D(filters=filters,\n",
    "                   kernel_size=kernel_size,\n",
    "                   padding='same',\n",
    "                   activation='relu')(x)\n",
    "        x = BatchNormalization(axis=-1)(x)\n",
    "        x = Dropout(dropout)(x)\n",
    "        filters *= 2\n",
    "        \n",
    "    x = MaxPooling2D()(x)\n",
    "    \n",
    "    \n",
    "    right_inputs = Input(shape=right_input_shape)\n",
    "    y = right_inputs\n",
    "    filters = n_filters\n",
    "\n",
    "\n",
    "\n",
    "    #Right branch\n",
    "\n",
    "    \n",
    "    y = RandomFlip(\"horizontal_and_vertical\")(y)\n",
    "    y = RandomRotation(0.2, fill_mode='reflect')(y)\n",
    "    #y = RandomTranslation(height_factor=0.05, width_factor=0.05, fill_mode='reflect')(y) \n",
    "    \n",
    "    # 2 layer of Conv2D-Dropout-MaxPooling2D\n",
    "    \n",
    "    for i in range(2):\n",
    "        y = Conv2D(filters=filters,\n",
    "                   kernel_size=kernel_size,\n",
    "                   padding='same',\n",
    "                   activation='relu',\n",
    "                   dilation_rate=2)(y)\n",
    "        y = BatchNormalization(axis=-1)(y)\n",
    "        y = Dropout(dropout)(y) \n",
    "        filters *= 2\n",
    "\n",
    "    y = MaxPooling2D()(y)\n",
    "       \n",
    "    \n",
    "    # merge left and right branches outputs\n",
    "    z = concatenate([x, y])\n",
    "    \n",
    "    # feature maps to vector before connecting to Dense \n",
    "    #num_labels = (0,1)\n",
    "    z = Flatten()(z)\n",
    "\n",
    "    z = Dense(512,activation='relu')(z)\n",
    "\n",
    "    outputs = Dense(1, activation=\"sigmoid\")(z)\n",
    "    \n",
    "    \n",
    "    model = Model([left_inputs, right_inputs], outputs)\n",
    "    \n",
    "    model.summary()\n",
    "    \n",
    "    model.compile(loss=\"binary_crossentropy\",\n",
    "              optimizer=Adam(learning_rate=5e-4),\n",
    "              metrics=['accuracy'])\n",
    "    \n",
    "    history = model.fit([stack_train, stack_sar_train],\n",
    "          patch_lulc_train, \n",
    "          validation_data=([stack_test, stack_sar_test], patch_lulc_test),\n",
    "          epochs=100,\n",
    "          batch_size=batch_size, callbacks=[myCallbacks])\n",
    "    \n",
    "    score = model.evaluate([stack_test, stack_sar_test],\n",
    "                       patch_lulc_test,\n",
    "                       batch_size=batch_size,\n",
    "                       verbose=0)\n",
    "    \n",
    "    model.load_weights('checkpoint/checkpoint_'+str(fold+1))\n",
    "    evaluation = model.evaluate([stack_test, stack_sar_test], patch_lulc_test, batch_size=batch_size)\n",
    "    predict = model.predict([S2_stack_grid, S1_stack_grid])\n",
    "    \n",
    "    layers = model.layers\n",
    "    \n",
    "    tf.keras.utils.plot_model(\n",
    "                                model,\n",
    "                                to_file=\"Images/model.png\",\n",
    "                                show_shapes=True,\n",
    "                                show_dtype=True,\n",
    "                                show_layer_names=True,\n",
    "                                rankdir=\"TB\",\n",
    "                                expand_nested=False,\n",
    "                                dpi=96,\n",
    "                                layer_range=None,\n",
    "                                show_layer_activations=True,\n",
    "                                )\n",
    "\n",
    "    \n",
    "    print(score)\n",
    "    \n",
    "    return history, predict, layers, model, evaluation"
   ]
  },
  {
   "cell_type": "markdown",
   "id": "1243c85b-39f2-43b7-a83e-7dc299860541",
   "metadata": {},
   "source": [
    "## Running model on multiple fold"
   ]
  },
  {
   "cell_type": "code",
   "execution_count": 44,
   "id": "72df1dc1-3949-4e55-bff8-fb15df0b68ce",
   "metadata": {},
   "outputs": [],
   "source": [
    "HIST = []\n",
    "PRED = []\n",
    "EVAL = []"
   ]
  },
  {
   "cell_type": "code",
   "execution_count": null,
   "id": "f2599e56-01ba-42e8-8c61-c40dbdcd9ccc",
   "metadata": {},
   "outputs": [],
   "source": [
    "for fold in range(10):\n",
    "    patch_id_train = data.ID_train[fold][1:-1].split(\",\")\n",
    "    patch_id_test = data.ID_val[fold][1:-1].split(\",\")\n",
    "    patch_lulc_train = []\n",
    "    \n",
    "    i = 0\n",
    "    for id in patch_id_train :\n",
    "        index = S1_patch_id.index(int(id))\n",
    "        patch_id_train[i] = int(id)\n",
    "        lulc = S1_patch_lulc[index]\n",
    "        patch_lulc_train.append(lulc)\n",
    "        i += 1\n",
    "    patch_lulc_test = []\n",
    "    i = 0\n",
    "    \n",
    "    for id in patch_id_test :\n",
    "        index = S1_patch_id.index(int(id))\n",
    "        patch_id_test[i] = int(id)\n",
    "        lulc = S1_patch_lulc[index]\n",
    "        patch_lulc_test.append(lulc)\n",
    "        i += 1\n",
    "        \n",
    "    patch_id_train = reshape(patch_id_train)\n",
    "    patch_id_test = reshape(patch_id_test)\n",
    "    patch_lulc_train = reshape(patch_lulc_train)\n",
    "    patch_lulc_test = reshape(patch_lulc_test) \n",
    "    \n",
    "    circle(patch_lulc_train,patch_lulc_test,'Repartition des données entrainements et de tests')\n",
    "    \n",
    "    stack_train = assimilation(patch_id_train, patch_id_test, S2_patch_path)[0]\n",
    "    stack_test = assimilation(patch_id_train, patch_id_test, S2_patch_path)[1]\n",
    "    \n",
    "    stack_sar_train = assimilation(patch_id_train, patch_id_test, S1_patch_path)[0]\n",
    "    stack_sar_test = assimilation(patch_id_train, patch_id_test, S1_patch_path)[1]\n",
    "    \n",
    "    from keras import backend as K\n",
    "    K.clear_session()\n",
    "    \n",
    "    left_input_shape = (10,10,4)\n",
    "    right_input_shape = (10,10,3)\n",
    "    batch_size = 32\n",
    "    kernel_size = 3\n",
    "    dropout = 0.5\n",
    "    n_filters = 32\n",
    "    \n",
    "    output = ymodel(left_input_shape,right_input_shape,batch_size,kernel_size,dropout,n_filters,stack_train,stack_test,stack_sar_train,stack_sar_test,fold)\n",
    "    history = output[0]\n",
    "    predict = output[1]\n",
    "    evaluation = output[4]\n",
    "    \n",
    "    HIST.append(history)\n",
    "    PRED.append(predict)\n",
    "    EVAL.append(evaluation)\n",
    "    \n",
    "    make_csv(predict, S1_grid_id,'outputCSV/y_S1S2_BNIR_KFOLD_'+str(fold+1))"
   ]
  },
  {
   "cell_type": "code",
   "execution_count": 175,
   "id": "ae05a4d9-b394-43e7-b837-9f0405bf651a",
   "metadata": {},
   "outputs": [
    {
     "data": {
      "image/png": "[encoded data removed]",
      "text/plain": [
       "<Figure size 432x288 with 1 Axes>"
      ]
     },
     "metadata": {},
     "output_type": "display_data"
    }
   ],
   "source": [
    "plt.plot(history.history[\"loss\"])\n",
    "plt.plot(history.history['val_loss'])\n",
    "plt.xlabel('Epochs')\n",
    "plt.ylabel('Loss')\n",
    "plt.legend(['Training loss','Validation loss'], title = \"Legend\")\n",
    "plt.show()"
   ]
  },
  {
   "cell_type": "code",
   "execution_count": 176,
   "id": "46eca261-6234-4b65-87bc-54268b453f1a",
   "metadata": {},
   "outputs": [
    {
     "data": {
      "image/png": "[encoded data removed]",
      "text/plain": [
       "<Figure size 432x288 with 1 Axes>"
      ]
     },
     "metadata": {},
     "output_type": "display_data"
    }
   ],
   "source": [
    "plt.plot(history.history[\"accuracy\"])\n",
    "plt.plot(history.history['val_accuracy'])\n",
    "plt.xlabel('Epochs')\n",
    "plt.ylabel('Accuracy')\n",
    "plt.legend(['Training accuracy','Validation accuracy'], title = \"Legend\")\n",
    "plt.show()"
   ]
  },
  {
   "cell_type": "code",
   "execution_count": 177,
   "id": "792dcb70-bc47-499e-9b96-c19441242e51",
   "metadata": {},
   "outputs": [
    {
     "data": {
      "image/png": "[encoded data removed]",
      "text/plain": [
       "<Figure size 432x288 with 1 Axes>"
      ]
     },
     "metadata": {},
     "output_type": "display_data"
    }
   ],
   "source": [
    "plt.hist(predict)\n",
    "plt.xlabel('Probability to be a slum')\n",
    "plt.ylabel('Number of entities')\n",
    "plt.show()"
   ]
  },
  {
   "cell_type": "code",
   "execution_count": null,
   "id": "e140894e-2727-4a4d-974b-7213829e8c08",
   "metadata": {
    "tags": []
   },
   "outputs": [],
   "source": [
    "model = output[3]\n",
    "tf.keras.utils.plot_model(\n",
    "                                model,\n",
    "                                to_file=\"Images/Ymodel.png\",\n",
    "                                show_shapes=True,\n",
    "                                show_dtype=True,\n",
    "                                show_layer_names=True,\n",
    "                                rankdir=\"TB\",\n",
    "                                expand_nested=False,\n",
    "                                dpi=96,\n",
    "                                layer_range=None,\n",
    "                                show_layer_activations=True,\n",
    "                                )"
   ]
  },
  {
   "cell_type": "code",
   "execution_count": null,
   "id": "a5b20c98-256c-492f-a29a-b95a39fecb7a",
   "metadata": {},
   "outputs": [],
   "source": []
  },
  {
   "cell_type": "code",
   "execution_count": null,
   "id": "7ede239d-9e13-4158-9cc0-71e7fb63dce8",
   "metadata": {},
   "outputs": [],
   "source": []
  },
  {
   "cell_type": "code",
   "execution_count": null,
   "id": "b79266f1-c33f-4d03-b593-b2ece4e8fc3f",
   "metadata": {},
   "outputs": [],
   "source": []
  },
  {
   "cell_type": "code",
   "execution_count": null,
   "id": "772c2ed2-a9da-4615-b398-7f4ee531174b",
   "metadata": {},
   "outputs": [],
   "source": []
  },
  {
   "cell_type": "markdown",
   "id": "85505729-0b1b-486f-bcbc-e1dacfee2de4",
   "metadata": {
    "jp-MarkdownHeadingCollapsed": true,
    "tags": []
   },
   "source": [
    "## Garbage zone"
   ]
  },
  {
   "cell_type": "code",
   "execution_count": 121,
   "id": "6d89b0ab-65fd-4840-a23a-f04397a26343",
   "metadata": {},
   "outputs": [
    {
     "ename": "AttributeError",
     "evalue": "'numpy.ndarray' object has no attribute 'index'",
     "output_type": "error",
     "traceback": [
      "\u001b[0;31m---------------------------------------------------------------------------\u001b[0m",
      "\u001b[0;31mAttributeError\u001b[0m                            Traceback (most recent call last)",
      "Input \u001b[0;32mIn [121]\u001b[0m, in \u001b[0;36m<cell line: 7>\u001b[0;34m()\u001b[0m\n\u001b[1;32m      8\u001b[0m probstab \u001b[38;5;241m=\u001b[39m mach_patch\u001b[38;5;241m.\u001b[39mGetField(\u001b[38;5;124m'\u001b[39m\u001b[38;5;124mprobstab\u001b[39m\u001b[38;5;124m'\u001b[39m)\n\u001b[1;32m      9\u001b[0m mach_id \u001b[38;5;241m=\u001b[39m mach_patch\u001b[38;5;241m.\u001b[39mGetField(\u001b[38;5;124m'\u001b[39m\u001b[38;5;124mid\u001b[39m\u001b[38;5;124m'\u001b[39m)\n\u001b[0;32m---> 10\u001b[0m index \u001b[38;5;241m=\u001b[39m \u001b[43mS1_grid_id\u001b[49m\u001b[38;5;241;43m.\u001b[39;49m\u001b[43mindex\u001b[49m(mach_id)\n\u001b[1;32m     11\u001b[0m \u001b[38;5;28;01mif\u001b[39;00m probstab \u001b[38;5;241m!=\u001b[39m \u001b[38;5;28;01mNone\u001b[39;00m :\n\u001b[1;32m     12\u001b[0m     line \u001b[38;5;241m=\u001b[39m [\u001b[38;5;28mint\u001b[39m(mach_id),predict[index,\u001b[38;5;241m0\u001b[39m] \u001b[38;5;241m-\u001b[39m probstab]\n",
      "\u001b[0;31mAttributeError\u001b[0m: 'numpy.ndarray' object has no attribute 'index'"
     ]
    }
   ],
   "source": [
    "from osgeo import ogr\n",
    "\n",
    "diff = []\n",
    "diff.append(['id','diff'])\n",
    "mach_res = ogr.Open('CLUSTERS/nairobi_grid100_clust_morpho_10pc_10cl.shp')\n",
    "mach_layer = mach_res.GetLayer()\n",
    "for mach_patch in mach_layer :\n",
    "    probstab = mach_patch.GetField('probstab')\n",
    "    mach_id = mach_patch.GetField('id')\n",
    "    index = S1_grid_id.index(mach_id)\n",
    "    if probstab != None :\n",
    "        line = [int(mach_id),predict[index,0] - probstab]\n",
    "        diff.append(line)\n",
    "    else :\n",
    "        line = [int(mach_id),None]\n",
    "        diff.append(line)"
   ]
  },
  {
   "cell_type": "code",
   "execution_count": null,
   "id": "0615846e-4b88-42d5-ad27-9683efb24e86",
   "metadata": {},
   "outputs": [],
   "source": [
    "import csv\n",
    "\n",
    "name = 'machVSdeep2'\n",
    "\n",
    "with open(str(name)+'.csv','w') as file :\n",
    "    write = csv.writer(file)\n",
    "    write.writerows(diff)"
   ]
  },
  {
   "cell_type": "code",
   "execution_count": null,
   "id": "cd9005fb-7b70-407c-ac8d-2edf80507bff",
   "metadata": {},
   "outputs": [],
   "source": [
    "print(diff)"
   ]
  },
  {
   "cell_type": "code",
   "execution_count": null,
   "id": "64893877-f494-4c38-b8f6-af9e73634adc",
   "metadata": {},
   "outputs": [],
   "source": [
    "import os, signal\n",
    "\n",
    "os.kill(os.getpid() , signal.SIGKILL)"
   ]
  },
  {
   "cell_type": "code",
   "execution_count": null,
   "id": "57da8b29-e2e3-4470-a0a9-d9693a346de9",
   "metadata": {},
   "outputs": [],
   "source": []
  }
 ],
 "metadata": {
  "kernelspec": {
   "display_name": "Python 3",
   "language": "python",
   "name": "python3"
  },
  "language_info": {
   "codemirror_mode": {
    "name": "ipython",
    "version": 3
   },
   "file_extension": ".py",
   "mimetype": "text/x-python",
   "name": "python",
   "nbconvert_exporter": "python",
   "pygments_lexer": "ipython3",
   "version": "3.8.10"
  }
 },
 "nbformat": 4,
 "nbformat_minor": 5
}
