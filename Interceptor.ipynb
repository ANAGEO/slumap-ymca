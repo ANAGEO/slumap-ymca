{
 "cells": [
  {
   "cell_type": "code",
   "execution_count": 24,
   "id": "710106ae-d21e-49ce-aefe-5134c2449fc2",
   "metadata": {},
   "outputs": [],
   "source": [
    "from osgeo import gdal\n",
    "from osgeo import ogr\n",
    "\n",
    "import numpy as np\n"
   ]
  },
  {
   "cell_type": "code",
   "execution_count": 25,
   "id": "9a189d7d-68db-49cb-aa1a-4cbd8547c681",
   "metadata": {},
   "outputs": [],
   "source": [
    "anta = ogr.Open('ogr/anta.gpkg')\n",
    "layer_anta = anta.GetLayer(0)"
   ]
  },
  {
   "cell_type": "code",
   "execution_count": 26,
   "id": "5ee046d2-d0f2-46b5-a548-bae296bdf68a",
   "metadata": {},
   "outputs": [
    {
     "name": "stdout",
     "output_type": "stream",
     "text": [
      "(-2661487.32809009, 2678304.65475705, -3378120.11973354, 2321937.54640961)\n"
     ]
    }
   ],
   "source": [
    "print(layer_anta.GetExtent())"
   ]
  },
  {
   "cell_type": "code",
   "execution_count": 27,
   "id": "df445fb9-a872-4fab-b40a-b7bdd723f032",
   "metadata": {},
   "outputs": [],
   "source": [
    "djf = ogr.Open('ogr/djf.gpkg')\n",
    "layer_djf = djf.GetLayer()"
   ]
  },
  {
   "cell_type": "code",
   "execution_count": 28,
   "id": "7a3afc4d-cbc2-4a33-b3dd-58c0cf8a6d34",
   "metadata": {},
   "outputs": [
    {
     "name": "stdout",
     "output_type": "stream",
     "text": [
      "(-2563322.8791997, 6791154.71620828, -5790380.63212433, 3782806.94995846)\n"
     ]
    }
   ],
   "source": [
    "print(layer_djf.GetExtent())"
   ]
  },
  {
   "cell_type": "code",
   "execution_count": null,
   "id": "df9ff4a9-c030-4262-ae99-b496c49dc646",
   "metadata": {
    "scrolled": true,
    "tags": []
   },
   "outputs": [],
   "source": [
    "res = []\n",
    "for feat in layer_anta :\n",
    "    poly_anta = feat.GetGeometryRef()\n",
    "    for point in layer_djf : \n",
    "        pts = point.GetGeometryRef()\n",
    "        inter = poly_anta.Intersects(pts)\n",
    "        if inter == True :\n",
    "            res.append(1)\n",
    "        elif inter == False :\n",
    "            res.append(0)            "
   ]
  },
  {
   "cell_type": "code",
   "execution_count": null,
   "id": "374b03b7-f13b-4013-b14c-12299bbadb8d",
   "metadata": {},
   "outputs": [],
   "source": [
    "print(res)"
   ]
  }
 ],
 "metadata": {
  "kernelspec": {
   "display_name": "Python 3",
   "language": "python",
   "name": "python3"
  },
  "language_info": {
   "codemirror_mode": {
    "name": "ipython",
    "version": 3
   },
   "file_extension": ".py",
   "mimetype": "text/x-python",
   "name": "python",
   "nbconvert_exporter": "python",
   "pygments_lexer": "ipython3",
   "version": "3.8.10"
  }
 },
 "nbformat": 4,
 "nbformat_minor": 5
}
