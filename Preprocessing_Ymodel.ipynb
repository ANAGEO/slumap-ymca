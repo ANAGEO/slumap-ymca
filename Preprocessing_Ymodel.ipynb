{
 "cells": [
  {
   "cell_type": "markdown",
   "id": "f49889c0-1525-4598-a62a-a07643346538",
   "metadata": {},
   "source": [
    "# **Pre-processing images to be used in the YMCA**\n",
    "**Jupyter notebook développé pour le pre-processing des images Sentinel-2 et Sentinel-1 pour les utiliser plus tard dans un modèle deep learning.** Ce notebook a été réalisé par Julien Govoorts dans le cardre d'un stage au sein de l'ANAGEO (IGEAT-ULB) pour le cours de STAG-F026 au sein du master en sciences et gestion de l'environnement à finalité sciences de l'environnement. Ce notebook utilise des données Sentinel-1 et 2 dans le but, dans un second temps, de cartographier (selon une probabilité) à partir d'un modèle deep learning les bidonvilles dans Nairobi (Kenya). \n",
    "\n",
    "Auteurs : Julien Govoorts\\\n",
    "Superviseur : Taïs Grippa"
   ]
  },
  {
   "cell_type": "code",
   "execution_count": 1,
   "id": "fd721ff1-fb00-44a1-ba0a-656e5fe36020",
   "metadata": {},
   "outputs": [],
   "source": [
    "from tensorflow.keras.layers import Dense, Dropout, Input\n",
    "from tensorflow.keras.layers import Conv2D, MaxPooling2D\n",
    "from tensorflow.keras.layers import Flatten, concatenate\n",
    "from tensorflow.keras.layers import RandomFlip, RandomRotation, RandomTranslation\n",
    "from tensorflow.keras.models import Model\n",
    "from tensorflow.keras.datasets import mnist\n",
    "from tensorflow.keras.utils import to_categorical\n",
    "from tensorflow.keras.utils import plot_model\n",
    "from tensorflow.keras.layers import Dot, Add"
   ]
  },
  {
   "cell_type": "code",
   "execution_count": 2,
   "id": "bc90a55b-6675-42e8-9fdf-134bb8d898bf",
   "metadata": {},
   "outputs": [],
   "source": [
    "from tensorflow.keras.layers import BatchNormalization"
   ]
  },
  {
   "cell_type": "code",
   "execution_count": 3,
   "id": "77e430a3-15d6-46cf-b625-dde690235e45",
   "metadata": {},
   "outputs": [],
   "source": [
    "from sklearn.model_selection import train_test_split"
   ]
  },
  {
   "cell_type": "code",
   "execution_count": 4,
   "id": "bb571f42-837c-435e-ad75-ef75b57007d3",
   "metadata": {},
   "outputs": [],
   "source": [
    "from tensorflow.keras.optimizers import SGD, Adam"
   ]
  },
  {
   "cell_type": "code",
   "execution_count": 5,
   "id": "c171e2fd-6b40-4f5b-887a-94ceb7c56127",
   "metadata": {},
   "outputs": [],
   "source": [
    "import tensorflow as tf"
   ]
  },
  {
   "cell_type": "code",
   "execution_count": 6,
   "id": "1fc5f56b-fc18-48d8-ad44-323c437cddbd",
   "metadata": {},
   "outputs": [],
   "source": [
    "def import_hf5(data_path, data_name, get_name):\n",
    "    hf = h5py.File(os.path.join(data_path, data_name), mode=\"r\")\n",
    "    data = hf.get(get_name)\n",
    "    stack = np.array(data)\n",
    "    hf.close()\n",
    "    return stack"
   ]
  },
  {
   "cell_type": "code",
   "execution_count": 7,
   "id": "384e63b1-b121-4fa3-b6c2-b692903b700f",
   "metadata": {},
   "outputs": [],
   "source": [
    "#code from https://github.com/tgrippa/Partimap/blob/cd72ecd2f3e32794eb3e0ee70399de1811b5399e/Notebooks/Data_preprocessing.ipynb\n",
    "def normalise_01(image_data):\n",
    "    stack = image_data\n",
    "    image_data -= np.min(stack, axis=0)\n",
    "    image_data /= (np.max(stack, axis=0) - np.min(stack, axis=0))\n",
    "    return image_data"
   ]
  },
  {
   "cell_type": "code",
   "execution_count": 8,
   "id": "b66a8b85-5b7a-4bd3-8087-2490b4b59cd9",
   "metadata": {},
   "outputs": [],
   "source": [
    "def standardise(image_data):\n",
    "    image_data -= np.mean(image_data, axis=0, dtype=np.float32)\n",
    "    image_data /= np.std(image_data, axis=0, dtype=np.float32)\n",
    "    return image_data"
   ]
  },
  {
   "cell_type": "code",
   "execution_count": 9,
   "id": "d310dac8-458a-4a8c-a353-2ab0e199667f",
   "metadata": {},
   "outputs": [],
   "source": [
    "def make_csv(predict, patch_id_raster, name):\n",
    "    import csv\n",
    "\n",
    "    predict = predict.reshape(1,predict.size).tolist()[0]\n",
    "\n",
    "    header = ['prob_slum','id']\n",
    "    cont = []\n",
    "    cont.append(header)\n",
    "    for x,y in zip(predict,patch_id_raster):\n",
    "        current_row = [x,y[0]]\n",
    "        cont.append(current_row)\n",
    "\n",
    "    cont\n",
    "\n",
    "    with open(str(name)+'.csv','w') as file :\n",
    "        write = csv.writer(file)\n",
    "        write.writerows(cont)"
   ]
  },
  {
   "cell_type": "code",
   "execution_count": 10,
   "id": "6eeb2b25-770b-4816-a03a-f3749b4370d6",
   "metadata": {},
   "outputs": [],
   "source": [
    "def reshape(list_input):\n",
    "    L = np.array(list_input)\n",
    "    L = L.reshape(L.size,-1)\n",
    "    \n",
    "    return L"
   ]
  },
  {
   "cell_type": "code",
   "execution_count": 11,
   "id": "d85b6942-6644-42db-bcde-ec62b3adc6d9",
   "metadata": {},
   "outputs": [],
   "source": [
    "import h5py\n",
    "import os, sys"
   ]
  },
  {
   "cell_type": "code",
   "execution_count": 12,
   "id": "8ecc923d-de05-4607-b342-683a1ed8b8f0",
   "metadata": {},
   "outputs": [],
   "source": [
    "import matplotlib.pyplot as plt\n",
    "import matplotlib.image as mpimg\n",
    "%matplotlib inline"
   ]
  },
  {
   "cell_type": "markdown",
   "id": "398220aa-8509-41b0-9f81-9d84065da2a9",
   "metadata": {
    "tags": []
   },
   "source": [
    "### Importing modules from SRC"
   ]
  },
  {
   "cell_type": "code",
   "execution_count": 13,
   "id": "f0a59005-2262-4f4d-bb9e-093f6c6cdc37",
   "metadata": {},
   "outputs": [],
   "source": [
    "# Add local module to the path\n",
    "src = os.path.abspath('SRC/')\n",
    "if src not in sys.path:\n",
    "    sys.path.append(src)\n"
   ]
  },
  {
   "cell_type": "markdown",
   "id": "aa859592-c22f-44e1-b326-a05cb57e1ba2",
   "metadata": {},
   "source": [
    "### Importing modules from Modules"
   ]
  },
  {
   "cell_type": "code",
   "execution_count": 14,
   "id": "0201a36b-dcdd-4432-bfe5-7bb56ab81b78",
   "metadata": {},
   "outputs": [],
   "source": [
    "# Add local module to the path\n",
    "src = os.path.abspath('Modules/')\n",
    "if src not in sys.path:\n",
    "    sys.path.append(src)\n"
   ]
  },
  {
   "cell_type": "code",
   "execution_count": 15,
   "id": "5a5676ae-fa98-4ea3-a6c4-7849b765adf2",
   "metadata": {},
   "outputs": [],
   "source": [
    "# Import functions for processing time information\n",
    "from processing_time import start_processing, print_processing_time\n",
    "# Import function that checks and creates folder\n",
    "from mkdir import check_create_dir\n",
    "# Import functions for plots\n",
    "from plots import plot_loss, plot_pred_test, plot_pred_train, plot_loss_multirun\n",
    "# Import functions for metrics to monitoring accuracy\n",
    "from metrics import coeff_determination\n",
    "# Import functions for display\n",
    "from display import Norma_Xpercentile\n",
    "# Import functions for exportation of results\n",
    "from export_results import save_predictions, write_run_metrics_file\n",
    "# Import LRFinder function\n",
    "from LRFinder import LRFinder"
   ]
  },
  {
   "cell_type": "code",
   "execution_count": 16,
   "id": "0d6525c3-79c6-4a62-88d0-f18129012c7f",
   "metadata": {},
   "outputs": [],
   "source": [
    "from chunckage import chunckage\n",
    "\n",
    "from MERGE import merge_RGBNIR\n",
    "\n",
    "from PlotHistories import plotandcsv_history_kfold\n",
    "\n",
    "from stackage import stackage\n",
    "\n",
    "from CircleMaker import circle\n",
    "\n",
    "from assimilation import assimilation"
   ]
  },
  {
   "cell_type": "markdown",
   "id": "edb704e3-2111-4c64-bc44-79135cdc8118",
   "metadata": {},
   "source": [
    "### Function to merge multiple single band raster images to one raster multiplebands "
   ]
  },
  {
   "cell_type": "code",
   "execution_count": 9,
   "id": "ef635ed3-c4bb-4cc3-9777-dc47f8668d45",
   "metadata": {},
   "outputs": [],
   "source": [
    "merge_RGBNIR([\"Images/big_raster/S2/B04_S2_2019Q1.tif\",\"Images/big_raster/S2/B03_S2_2019Q1.tif\",\"Images/big_raster/S2/B02_S2_2019Q1.tif\",'Images/big_raster/S2/B08_S2_2019Q1.tif']\n",
    "             ,\"Images/big_raster/\",'RGBNIR','.tif')"
   ]
  },
  {
   "cell_type": "code",
   "execution_count": 8,
   "id": "b8be591d-d850-4521-8c00-1c6989c9e138",
   "metadata": {},
   "outputs": [],
   "source": [
    "merge_RGBNIR([\"Images/big_raster/S2/B04_S2_2019Q1.tif\",\"Images/big_raster/S2/B03_S2_2019Q1.tif\",\"Images/big_raster/S2/B02_S2_2019Q1.tif\"]\n",
    "             ,\"Images/big_raster/\",'RGB','.tif')"
   ]
  },
  {
   "cell_type": "code",
   "execution_count": 11,
   "id": "6baba961-c685-4367-8ed6-80966435e165",
   "metadata": {},
   "outputs": [],
   "source": [
    "merge_RGBNIR([\"Images/big_raster/S2/B04_S2_2019Q1.tif\",\"Images/big_raster/S2/B03_S2_2019Q1.tif\",\"Images/big_raster/S2/B02_S2_2019Q1.tif\",'Images/big_raster/S2/B05_S2_2019Q1.tif','Images/big_raster/S2/B06_S2_2019Q1.tif',\n",
    "             'Images/big_raster/S2/B07_S2_2019Q1.tif','Images/big_raster/S2/B08_S2_2019Q1.tif','Images/big_raster/S2/B08A_S2_2019Q1.tif','Images/big_raster/S2/B011_S2_2019Q1.tif','Images/big_raster/S2/B012_S2_2019Q1.tif',\n",
    "             'Images/big_raster/S1/s1_vv.tif','Images/big_raster/S1/s1_vh.tif','Images/big_raster/S1/s1_coherence.tif']\n",
    "             ,\"Images/big_raster/\",'ALLS2S1','.tif')"
   ]
  },
  {
   "cell_type": "code",
   "execution_count": 8,
   "id": "9bbb0820-33b1-4b39-8d19-6608ec109921",
   "metadata": {},
   "outputs": [],
   "source": [
    "merge_RGBNIR([\"Images/big_raster/S1/s1_coherence.tif\",\"Images/big_raster/S1/s1_vv.tif\",\"Images/big_raster/S1/s1_vh.tif\"]\n",
    "             ,\"Images/big_raster/\",'ALLS1','.tif')"
   ]
  },
  {
   "cell_type": "code",
   "execution_count": 10,
   "id": "3f9f801d-b9c0-44e8-8be0-c8a86e020b7a",
   "metadata": {},
   "outputs": [],
   "source": [
    "merge_RGBNIR([\"Images/big_raster/S2/B02_S2_2019Q1.tif\",\"Images/big_raster/S2/B08_S2_2019Q1.tif\",\"Images/big_raster/S2/B8A_S2_2019Q1.tif\",'Images/big_raster/S2/B12_S2_2019Q1.tif']\n",
    "             ,\"Images/big_raster/\",'BNIR','.tif')"
   ]
  },
  {
   "cell_type": "code",
   "execution_count": 9,
   "id": "7694f85e-ddaa-44e8-878e-c03733975ca6",
   "metadata": {},
   "outputs": [],
   "source": [
    "merge_RGBNIR([\"Images/big_raster/S1/s1_vv.tif\",\"Images/big_raster/S1/s1_vh.tif\"]\n",
    "             ,\"Images/big_raster/\",'VVVHS1','.tif')"
   ]
  },
  {
   "cell_type": "markdown",
   "id": "78f702ae-a6ee-4aeb-894e-9ef6d0b53e3f",
   "metadata": {
    "tags": []
   },
   "source": [
    "## Importing and pre-processing data"
   ]
  },
  {
   "cell_type": "code",
   "execution_count": 35,
   "id": "0ca9cf54-c28e-46c0-90c5-669dbdff018a",
   "metadata": {},
   "outputs": [
    {
     "name": "stdout",
     "output_type": "stream",
     "text": [
      "(238890.0, 288890.0, 9846380.0, 9871680.0)\n",
      "(238890.0, 288890.0, 9846380.0, 9871680.0)\n"
     ]
    }
   ],
   "source": [
    "S1_patch_path, S1_patch_id, S1_patch_lulc = chunckage(\"Images/big_raster/\",\"VVVHS1\",\".tif\",'Images/big_sample/nairobi_samples_binary/','nairobi_samples_binary.gpkg','tr_VVVHS1','cat','label',1)\n",
    "S2_patch_path, S2_patch_id, S2_patch_lulc = chunckage(\"Images/big_raster/\",\"RGBNIR\",\".tif\",'Images/big_sample/nairobi_samples_binary/','nairobi_samples_binary.gpkg','tr_VVVHRGBNIR','cat','label',1)"
   ]
  },
  {
   "cell_type": "code",
   "execution_count": 36,
   "id": "f9829b79-9fea-44ec-a992-f610b73a6a39",
   "metadata": {},
   "outputs": [
    {
     "name": "stdout",
     "output_type": "stream",
     "text": [
      "(238890.0, 289090.0, 9846380.0, 9871680.0)\n",
      "(238890.0, 289090.0, 9846380.0, 9871680.0)\n"
     ]
    }
   ],
   "source": [
    "S1_grid_path, S1_grid_id = chunckage(\"Images/big_raster/\",\"VVVHS1\",\".tif\",'Images/big_grid/','grid.gpkg','g_VVVHS1','id','lulc',0)\n",
    "S2_grid_path, S2_grid_id = chunckage(\"Images/big_raster/\",\"RGBNIR\",\".tif\",'Images/big_grid/','grid.gpkg','g_VVVHRGBNIR','id','lulc',0)\n"
   ]
  },
  {
   "cell_type": "code",
   "execution_count": 37,
   "id": "955f131d-1d75-43c6-9002-64a5d31c4be8",
   "metadata": {},
   "outputs": [
    {
     "name": "stdout",
     "output_type": "stream",
     "text": [
      "Data exported in Images/big_raster/tr_VVVHRGBNIR_patch/\n"
     ]
    }
   ],
   "source": [
    "data_path = 'Images/big_raster/tr_VVVHRGBNIR_patch/'\n",
    "with h5py.File(os.path.join(data_path,\"tr_Ymodel_VVVHRGBNIR.hdf5\"), mode=\"a\") as f:\n",
    "    f[\"id_sar\"] = S1_patch_id               \n",
    "    f[\"id_rgb\"] = S2_patch_id                 \n",
    "    f[\"lulc_sar\"] = S1_patch_lulc          \n",
    "    f[\"lulc_rgb\"] = S2_patch_lulc       \n",
    "    f[\"patch_sar_path\"] = S1_patch_path  \n",
    "    f[\"patch_rgb_path\"] = S2_patch_path\n",
    "\n",
    "print(\"Data exported in %s\"%(data_path))"
   ]
  },
  {
   "cell_type": "code",
   "execution_count": 38,
   "id": "2c46fa68-894d-4da2-890a-559c0fa9bd78",
   "metadata": {},
   "outputs": [
    {
     "name": "stdout",
     "output_type": "stream",
     "text": [
      "Data exported in Images/big_raster/g_VVVHRGBNIR_patch/\n"
     ]
    }
   ],
   "source": [
    "data_path = 'Images/big_raster/g_VVVHRGBNIR_patch/'\n",
    "with h5py.File(os.path.join(data_path,\"g_Ymodel_VVVHRGBNIR.hdf5\"), mode=\"a\") as f:\n",
    "    f[\"id_sar\"] = S1_grid_id               \n",
    "    f[\"id_rgb\"] = S2_grid_id                       \n",
    "    f[\"patch_sar_path\"] = S1_grid_path  \n",
    "    f[\"patch_rgb_path\"] = S2_grid_path\n",
    "\n",
    "print(\"Data exported in %s\"%(data_path))"
   ]
  },
  {
   "cell_type": "code",
   "execution_count": 39,
   "id": "c5c1f8b6-5dba-40d2-b927-e89c3b9783fd",
   "metadata": {},
   "outputs": [
    {
     "name": "stdout",
     "output_type": "stream",
     "text": [
      "(238890.0, 288890.0, 9846380.0, 9871680.0)\n",
      "(238890.0, 288890.0, 9846380.0, 9871680.0)\n"
     ]
    }
   ],
   "source": [
    "S1_patch_path, S1_patch_id, S1_patch_lulc = chunckage(\"Images/big_raster/\",\"VVVHS1\",\".tif\",'Images/big_sample/nairobi_samples_binary/','nairobi_samples_binary.gpkg','tr_VVVHS1','cat','label',1)\n",
    "S2_patch_path, S2_patch_id, S2_patch_lulc = chunckage(\"Images/big_raster/\",\"BNIR\",\".tif\",'Images/big_sample/nairobi_samples_binary/','nairobi_samples_binary.gpkg','tr_VVVHBNIR','cat','label',1)"
   ]
  },
  {
   "cell_type": "code",
   "execution_count": 40,
   "id": "8ae38b15-b5be-4269-98c4-fac1b3259ed3",
   "metadata": {},
   "outputs": [
    {
     "name": "stdout",
     "output_type": "stream",
     "text": [
      "(238890.0, 289090.0, 9846380.0, 9871680.0)\n",
      "(238890.0, 289090.0, 9846380.0, 9871680.0)\n"
     ]
    }
   ],
   "source": [
    "S1_grid_path, S1_grid_id = chunckage(\"Images/big_raster/\",\"VVVHS1\",\".tif\",'Images/big_grid/','grid.gpkg','g_VVVHS1','id','lulc',0)\n",
    "S2_grid_path, S2_grid_id = chunckage(\"Images/big_raster/\",\"BNIR\",\".tif\",'Images/big_grid/','grid.gpkg','g_VVVHBNIR','id','lulc',0)\n"
   ]
  },
  {
   "cell_type": "code",
   "execution_count": 41,
   "id": "cd80a867-0062-404e-8421-823d67d9c015",
   "metadata": {},
   "outputs": [
    {
     "name": "stdout",
     "output_type": "stream",
     "text": [
      "Data exported in Images/big_raster/tr_VVVHBNIR_patch/\n"
     ]
    }
   ],
   "source": [
    "data_path = 'Images/big_raster/tr_VVVHBNIR_patch/'\n",
    "with h5py.File(os.path.join(data_path,\"tr_Ymodel_VVVHBNIR.hdf5\"), mode=\"a\") as f:\n",
    "    f[\"id_sar\"] = S1_patch_id               \n",
    "    f[\"id_rgb\"] = S2_patch_id                 \n",
    "    f[\"lulc_sar\"] = S1_patch_lulc          \n",
    "    f[\"lulc_rgb\"] = S2_patch_lulc       \n",
    "    f[\"patch_sar_path\"] = S1_patch_path  \n",
    "    f[\"patch_rgb_path\"] = S2_patch_path\n",
    "\n",
    "print(\"Data exported in %s\"%(data_path))"
   ]
  },
  {
   "cell_type": "code",
   "execution_count": 42,
   "id": "2647b258-ae73-45ae-9134-18b8809b036c",
   "metadata": {},
   "outputs": [
    {
     "name": "stdout",
     "output_type": "stream",
     "text": [
      "Data exported in Images/big_raster/g_VVVHBNIR_patch/\n"
     ]
    }
   ],
   "source": [
    "data_path = 'Images/big_raster/g_VVVHBNIR_patch/'\n",
    "with h5py.File(os.path.join(data_path,\"g_Ymodel_VVVHBNIR.hdf5\"), mode=\"a\") as f:\n",
    "    f[\"id_sar\"] = S1_grid_id               \n",
    "    f[\"id_rgb\"] = S2_grid_id                       \n",
    "    f[\"patch_sar_path\"] = S1_grid_path  \n",
    "    f[\"patch_rgb_path\"] = S2_grid_path\n",
    "\n",
    "print(\"Data exported in %s\"%(data_path))"
   ]
  },
  {
   "cell_type": "code",
   "execution_count": 43,
   "id": "14aad41a-6c53-4a68-b4f8-75213da8a1c3",
   "metadata": {},
   "outputs": [
    {
     "name": "stdout",
     "output_type": "stream",
     "text": [
      "(238890.0, 288890.0, 9846380.0, 9871680.0)\n",
      "(238890.0, 288890.0, 9846380.0, 9871680.0)\n"
     ]
    }
   ],
   "source": [
    "S1_patch_path, S1_patch_id, S1_patch_lulc = chunckage(\"Images/big_raster/\",\"VVVHS1\",\".tif\",'Images/big_sample/nairobi_samples_binary/','nairobi_samples_binary.gpkg','tr_VVVHS1','cat','label',1)\n",
    "S2_patch_path, S2_patch_id, S2_patch_lulc = chunckage(\"Images/big_raster/\",\"RNIR\",\".tif\",'Images/big_sample/nairobi_samples_binary/','nairobi_samples_binary.gpkg','tr_VVVHRNIR','cat','label',1)"
   ]
  },
  {
   "cell_type": "code",
   "execution_count": 44,
   "id": "012deaec-2619-4130-81be-940c4c9391b1",
   "metadata": {},
   "outputs": [
    {
     "name": "stdout",
     "output_type": "stream",
     "text": [
      "(238890.0, 289090.0, 9846380.0, 9871680.0)\n",
      "(238890.0, 289090.0, 9846380.0, 9871680.0)\n"
     ]
    }
   ],
   "source": [
    "S1_grid_path, S1_grid_id = chunckage(\"Images/big_raster/\",\"VVVHS1\",\".tif\",'Images/big_grid/','grid.gpkg','g_VVVHS1','id','lulc',0)\n",
    "S2_grid_path, S2_grid_id = chunckage(\"Images/big_raster/\",\"RNIR\",\".tif\",'Images/big_grid/','grid.gpkg','g_VVVHRNIR','id','lulc',0)\n"
   ]
  },
  {
   "cell_type": "code",
   "execution_count": 45,
   "id": "e6fbdbea-2409-4d8a-a96c-c03d670a2aca",
   "metadata": {},
   "outputs": [
    {
     "name": "stdout",
     "output_type": "stream",
     "text": [
      "Data exported in Images/big_raster/tr_VVVHRNIR_patch/\n"
     ]
    }
   ],
   "source": [
    "data_path = 'Images/big_raster/tr_VVVHRNIR_patch/'\n",
    "with h5py.File(os.path.join(data_path,\"tr_Ymodel_VVVHRNIR.hdf5\"), mode=\"a\") as f:\n",
    "    f[\"id_sar\"] = S1_patch_id               \n",
    "    f[\"id_rgb\"] = S2_patch_id                 \n",
    "    f[\"lulc_sar\"] = S1_patch_lulc          \n",
    "    f[\"lulc_rgb\"] = S2_patch_lulc       \n",
    "    f[\"patch_sar_path\"] = S1_patch_path  \n",
    "    f[\"patch_rgb_path\"] = S2_patch_path\n",
    "\n",
    "print(\"Data exported in %s\"%(data_path))"
   ]
  },
  {
   "cell_type": "code",
   "execution_count": 46,
   "id": "a9733167-b31b-4324-9f03-3af6ed324f26",
   "metadata": {},
   "outputs": [
    {
     "name": "stdout",
     "output_type": "stream",
     "text": [
      "Data exported in Images/big_raster/g_VVVHRNIR_patch/\n"
     ]
    }
   ],
   "source": [
    "data_path = 'Images/big_raster/g_VVVHRNIR_patch/'\n",
    "with h5py.File(os.path.join(data_path,\"g_Ymodel_VVVHRNIR.hdf5\"), mode=\"a\") as f:\n",
    "    f[\"id_sar\"] = S1_grid_id               \n",
    "    f[\"id_rgb\"] = S2_grid_id                       \n",
    "    f[\"patch_sar_path\"] = S1_grid_path  \n",
    "    f[\"patch_rgb_path\"] = S2_grid_path\n",
    "\n",
    "print(\"Data exported in %s\"%(data_path))"
   ]
  }
 ],
 "metadata": {
  "kernelspec": {
   "display_name": "Python 3",
   "language": "python",
   "name": "python3"
  },
  "language_info": {
   "codemirror_mode": {
    "name": "ipython",
    "version": 3
   },
   "file_extension": ".py",
   "mimetype": "text/x-python",
   "name": "python",
   "nbconvert_exporter": "python",
   "pygments_lexer": "ipython3",
   "version": "3.8.10"
  }
 },
 "nbformat": 4,
 "nbformat_minor": 5
}
