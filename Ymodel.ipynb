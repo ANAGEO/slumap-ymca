{
 "cells": [
  {
   "cell_type": "code",
   "execution_count": 4,
   "id": "fd721ff1-fb00-44a1-ba0a-656e5fe36020",
   "metadata": {},
   "outputs": [],
   "source": [
    "from tensorflow.keras.layers import Dense, Dropout, Input\n",
    "from tensorflow.keras.layers import Conv2D, MaxPooling2D\n",
    "from tensorflow.keras.layers import Flatten, concatenate\n",
    "from tensorflow.keras.layers import RandomFlip, RandomRotation, RandomTranslation\n",
    "from tensorflow.keras.models import Model\n",
    "from tensorflow.keras.datasets import mnist\n",
    "from tensorflow.keras.utils import to_categorical\n",
    "from tensorflow.keras.utils import plot_model"
   ]
  },
  {
   "cell_type": "code",
   "execution_count": 5,
   "id": "bc90a55b-6675-42e8-9fdf-134bb8d898bf",
   "metadata": {},
   "outputs": [],
   "source": [
    "from tensorflow.keras.layers import BatchNormalization"
   ]
  },
  {
   "cell_type": "code",
   "execution_count": 6,
   "id": "77e430a3-15d6-46cf-b625-dde690235e45",
   "metadata": {},
   "outputs": [],
   "source": [
    "from sklearn.model_selection import train_test_split"
   ]
  },
  {
   "cell_type": "code",
   "execution_count": 7,
   "id": "bb571f42-837c-435e-ad75-ef75b57007d3",
   "metadata": {},
   "outputs": [],
   "source": [
    "from tensorflow.keras.optimizers import SGD, Adam"
   ]
  },
  {
   "cell_type": "code",
   "execution_count": 8,
   "id": "c171e2fd-6b40-4f5b-887a-94ceb7c56127",
   "metadata": {},
   "outputs": [],
   "source": [
    "import tensorflow as tf"
   ]
  },
  {
   "cell_type": "code",
   "execution_count": 9,
   "id": "1fc5f56b-fc18-48d8-ad44-323c437cddbd",
   "metadata": {},
   "outputs": [],
   "source": [
    "def import_hf5(data_path, data_name, get_name):\n",
    "    hf = h5py.File(os.path.join(data_path, data_name), mode=\"r\")\n",
    "    data = hf.get(get_name)\n",
    "    stack = np.array(data)\n",
    "    hf.close()\n",
    "    return stack"
   ]
  },
  {
   "cell_type": "code",
   "execution_count": 10,
   "id": "384e63b1-b121-4fa3-b6c2-b692903b700f",
   "metadata": {},
   "outputs": [],
   "source": [
    "#code from https://github.com/tgrippa/Partimap/blob/cd72ecd2f3e32794eb3e0ee70399de1811b5399e/Notebooks/Data_preprocessing.ipynb\n",
    "def normalise_01(image_data):\n",
    "    stack = image_data\n",
    "    image_data -= np.min(stack, axis=0)\n",
    "    image_data /= (np.max(stack, axis=0) - np.min(stack, axis=0))\n",
    "    return image_data"
   ]
  },
  {
   "cell_type": "code",
   "execution_count": 11,
   "id": "b66a8b85-5b7a-4bd3-8087-2490b4b59cd9",
   "metadata": {},
   "outputs": [],
   "source": [
    "def standardise(image_data):\n",
    "    image_data -= np.mean(image_data, axis=0, dtype=np.float32)\n",
    "    image_data /= np.std(image_data, axis=0, dtype=np.float32)\n",
    "    return image_data"
   ]
  },
  {
   "cell_type": "code",
   "execution_count": 12,
   "id": "0bce6b3f-44b8-43c9-9ddc-8d055aa25bc2",
   "metadata": {},
   "outputs": [],
   "source": [
    "def circle(train_lulc,test_lulc,title) :\n",
    "    train_slum = (train_lulc==1).sum()\n",
    "    train_noslum = (train_lulc==0).sum()\n",
    "    test_slum = (test_lulc==1).sum()\n",
    "    test_noslum = (test_lulc==0).sum()\n",
    "    \n",
    "    RESTRAIN = [train_slum,train_noslum]\n",
    "    RESTEST = [test_slum,test_noslum]\n",
    "    RESLABEL1 = ['Training slums', 'Training no slums' ]\n",
    "    RESLABEL2 = ['Test slums', 'Test no slums']\n",
    "    \n",
    "    \n",
    "    fig, (ax1, ax2) = plt.subplots(1, 2)\n",
    "    ax1.pie(RESTRAIN, labels=RESLABEL1, autopct='%1.1f%%',\n",
    "        shadow=True, startangle=90)\n",
    "    ax1.axis('equal')  # Equal aspect ratio ensures that pie is drawn as a circle.\n",
    "    ax2.pie(RESTEST, labels=RESLABEL2, autopct='%1.1f%%',\n",
    "        shadow=True, startangle=90)\n",
    "    ax2.axis('equal')  # Equal aspect ratio ensures that pie is drawn as a circle.\n",
    "    \n",
    "    \n",
    "    plt.title(title)\n",
    "    \n",
    "    plt.show()"
   ]
  },
  {
   "cell_type": "code",
   "execution_count": 52,
   "id": "d640a905-e845-4614-b679-419f45650f16",
   "metadata": {},
   "outputs": [],
   "source": [
    "from osgeo import gdal\n",
    "import numpy as np\n",
    "\n",
    "#code inspired from https://github.com/tgrippa/Partimap/blob/cd72ecd2f3e32794eb3e0ee70399de1811b5399e/Notebooks/Data_preprocessing.ipynb\n",
    "def stackage(list_raster):\n",
    "    stack = []\n",
    "    for patch in list_raster :\n",
    "        pat = gdal.Open(patch)#.decode('ascii')\n",
    "        data_rast = pat.ReadAsArray().astype(np.float32)\n",
    "        data_rast = np.transpose(data_rast,(1,2,0))\n",
    "        stack.append(data_rast)\n",
    "\n",
    "    stack= np.array(stack)\n",
    "    \n",
    "    return stack\n"
   ]
  },
  {
   "cell_type": "code",
   "execution_count": 80,
   "id": "ad53a1ba-bf36-4788-8b3e-c40deee6e2ba",
   "metadata": {},
   "outputs": [],
   "source": [
    "def assimilation(patch_id_train, patch_id_test, path_raster):\n",
    "    train_path = [None] * 10\n",
    "    test_path = [None] * 10\n",
    "\n",
    "    patch_id_train_re = patch_id_train.reshape(1,patch_id_train.size)\n",
    "    patch_id_train_list = patch_id_train_re.tolist()[0]\n",
    "    patch_id_test_re = patch_id_test.reshape(1,patch_id_test.size)\n",
    "    patch_id_test_list = patch_id_test_re.tolist()[0]\n",
    "    \n",
    "    train_path = [None] * len(patch_id_train)\n",
    "    test_path = [None] * len(patch_id_test)\n",
    "    \n",
    "    for path in path_raster : #récupération des id des images\n",
    "        image = path.split(b'/')[-1]\n",
    "        image_id = int(image.split(b'_')[-2])\n",
    "        if image_id in patch_id_train_list :\n",
    "            index = patch_id_train_list.index(image_id)\n",
    "            train_path[index] = path\n",
    "        elif image_id in patch_id_test_list :\n",
    "            index = patch_id_test_list.index(image_id)\n",
    "            test_path[index] = path\n",
    "\n",
    "    #stack = stackage(train_path)\n",
    "\n",
    "    stack_train = stackage(train_path)\n",
    "    #stack = stackage(test_path)\n",
    "    stack_test = stackage(test_path)\n",
    "\n",
    "    \n",
    "    plt.rcParams[\"figure.facecolor\"] = 'w'\n",
    "    plt.figure(figsize=(15, 15))\n",
    "    for i in range(3):\n",
    "        rd_img = np.random.randint(1,500)\n",
    "        ax = plt.subplot(1, 3, i + 1)\n",
    "        plt.imshow(Norma_Xpercentile(stack_test[rd_img,:,:,:]))\n",
    "        plt.axis(\"off\")\n",
    "        plt.title(\"Random indx: %s\\nID: %s\\nlulc: %0.3f\" %(rd_img,patch_id_test[rd_img],patch_lulc_test[rd_img]))\n",
    "        print(stack_test[rd_img,0,0,:])\n",
    "        print(test_path[rd_img])\n",
    "        print(patch_id_test[rd_img])\n",
    "    #plt.subplots_adjust(hspace=0.001)\n",
    "    plt.tight_layout() \n",
    "    \n",
    "    stack_train = normalise_01(stack_train)\n",
    "    stack_test = normalise_01(stack_test)\n",
    "\n",
    "\n",
    "    return stack_train, stack_test"
   ]
  },
  {
   "cell_type": "code",
   "execution_count": 124,
   "id": "d310dac8-458a-4a8c-a353-2ab0e199667f",
   "metadata": {},
   "outputs": [],
   "source": [
    "def make_csv(predict, patch_id_raster, name):\n",
    "    import csv\n",
    "\n",
    "    predict = predict.reshape(1,predict.size).tolist()[0]\n",
    "\n",
    "    header = ['prob_slum','id']\n",
    "    cont = []\n",
    "    cont.append(header)\n",
    "    for x,y in zip(predict,patch_id_raster):\n",
    "        current_row = [x,y[0]]\n",
    "        cont.append(current_row)\n",
    "\n",
    "    cont\n",
    "\n",
    "    with open(str(name)+'.csv','w') as file :\n",
    "        write = csv.writer(file)\n",
    "        write.writerows(cont)"
   ]
  },
  {
   "cell_type": "code",
   "execution_count": 55,
   "id": "6eeb2b25-770b-4816-a03a-f3749b4370d6",
   "metadata": {},
   "outputs": [],
   "source": [
    "def reshape(list_input):\n",
    "    L = np.array(list_input)\n",
    "    L = L.reshape(L.size,-1)\n",
    "    \n",
    "    return L"
   ]
  },
  {
   "cell_type": "code",
   "execution_count": 56,
   "id": "d85b6942-6644-42db-bcde-ec62b3adc6d9",
   "metadata": {},
   "outputs": [],
   "source": [
    "import h5py\n",
    "import os, sys"
   ]
  },
  {
   "cell_type": "code",
   "execution_count": 57,
   "id": "8ecc923d-de05-4607-b342-683a1ed8b8f0",
   "metadata": {},
   "outputs": [],
   "source": [
    "import matplotlib.pyplot as plt\n",
    "import matplotlib.image as mpimg\n",
    "%matplotlib inline"
   ]
  },
  {
   "cell_type": "code",
   "execution_count": 58,
   "id": "21085247-3e10-409c-9303-affe4af533f3",
   "metadata": {},
   "outputs": [],
   "source": [
    "# Add local module to the path\n",
    "src = os.path.abspath('SRC/')\n",
    "if src not in sys.path:\n",
    "    sys.path.append(src)\n"
   ]
  },
  {
   "cell_type": "code",
   "execution_count": 59,
   "id": "3a6c52fb-1048-438e-ab98-16950c7fba32",
   "metadata": {},
   "outputs": [],
   "source": [
    "# Import functions for processing time information\n",
    "from processing_time import start_processing, print_processing_time\n",
    "# Import function that checks and creates folder\n",
    "from mkdir import check_create_dir\n",
    "# Import functions for plots\n",
    "from plots import plot_loss, plot_pred_test, plot_pred_train, plot_loss_multirun\n",
    "# Import functions for metrics to monitoring accuracy\n",
    "from metrics import coeff_determination\n",
    "# Import functions for display\n",
    "from display import Norma_Xpercentile\n",
    "# Import functions for exportation of results\n",
    "from export_results import save_predictions, write_run_metrics_file\n",
    "# Import LRFinder function\n",
    "from LRFinder import LRFinder"
   ]
  },
  {
   "cell_type": "markdown",
   "id": "78f702ae-a6ee-4aeb-894e-9ef6d0b53e3f",
   "metadata": {
    "tags": []
   },
   "source": [
    "## Importing and pre-processing data"
   ]
  },
  {
   "cell_type": "code",
   "execution_count": 83,
   "id": "0ca9cf54-c28e-46c0-90c5-669dbdff018a",
   "metadata": {},
   "outputs": [
    {
     "name": "stdout",
     "output_type": "stream",
     "text": [
      "(238890.0, 288990.0, 9846480.0, 9871580.0)\n",
      "(238890.0, 288990.0, 9846480.0, 9871580.0)\n"
     ]
    }
   ],
   "source": [
    "from chunckage import chunckage\n",
    "\n",
    "S1_patch_path, S1_patch_id, S1_patch_lulc = chunckage(\"Images/big_raster/\",\"ALLS1\",\".tif\",'Images/big_sample/','sample.gpkg','tr_ALLS1',1)\n",
    "S2_patch_path, S2_patch_id, S2_patch_lulc = chunckage(\"Images/big_raster/\",\"RGBNIR\",\".tif\",'Images/big_sample/','sample.gpkg','tr_RBGNIR',1)"
   ]
  },
  {
   "cell_type": "code",
   "execution_count": 84,
   "id": "f9829b79-9fea-44ec-a992-f610b73a6a39",
   "metadata": {},
   "outputs": [
    {
     "name": "stdout",
     "output_type": "stream",
     "text": [
      "(238890.0, 289090.0, 9846380.0, 9871680.0)\n",
      "(238890.0, 289090.0, 9846380.0, 9871680.0)\n"
     ]
    }
   ],
   "source": [
    "S1_grid_path, S1_grid_id = chunckage(\"Images/big_raster/\",\"ALLS1\",\".tif\",'Images/big_grid/','grid.gpkg','g_ALLS1',0)\n",
    "S2_grid_path, S2_grid_id = chunckage(\"Images/big_raster/\",\"RGBNIR\",\".tif\",'Images/big_grid/','grid.gpkg','g_RBGNIR',0)\n"
   ]
  },
  {
   "cell_type": "code",
   "execution_count": 86,
   "id": "955f131d-1d75-43c6-9002-64a5d31c4be8",
   "metadata": {},
   "outputs": [
    {
     "name": "stdout",
     "output_type": "stream",
     "text": [
      "Data exported in Images/big_raster/tr_ALLS1_patch/\n"
     ]
    }
   ],
   "source": [
    "data_path = 'Images/big_raster/tr_ALLS1_patch/'\n",
    "with h5py.File(os.path.join(data_path,\"tr_Ymodel.hdf5\"), mode=\"a\") as f:\n",
    "    f[\"id_sar\"] = S1_patch_id               \n",
    "    f[\"id_rgb\"] = S2_patch_id                 \n",
    "    f[\"lulc_sar\"] = S1_patch_lulc          \n",
    "    f[\"lulc_rgb\"] = S2_patch_lulc       \n",
    "    f[\"patch_sar_path\"] = S1_patch_path  \n",
    "    f[\"patch_rgb_path\"] = S2_patch_path\n",
    "\n",
    "print(\"Data exported in %s\"%(data_path))"
   ]
  },
  {
   "cell_type": "code",
   "execution_count": 87,
   "id": "2c46fa68-894d-4da2-890a-559c0fa9bd78",
   "metadata": {},
   "outputs": [
    {
     "name": "stdout",
     "output_type": "stream",
     "text": [
      "Data exported in Images/big_raster/g_ALLS1_patch/\n"
     ]
    }
   ],
   "source": [
    "data_path = 'Images/big_raster/g_ALLS1_patch/'\n",
    "with h5py.File(os.path.join(data_path,\"g_Ymodel.hdf5\"), mode=\"a\") as f:\n",
    "    f[\"id_sar\"] = S1_grid_id               \n",
    "    f[\"id_rgb\"] = S2_grid_id                       \n",
    "    f[\"patch_sar_path\"] = S1_grid_path  \n",
    "    f[\"patch_rgb_path\"] = S2_grid_path\n",
    "\n",
    "print(\"Data exported in %s\"%(data_path))"
   ]
  },
  {
   "cell_type": "markdown",
   "id": "67a57566-1784-42da-b3cb-0cb18e77add0",
   "metadata": {},
   "source": [
    "## Preprocessing"
   ]
  },
  {
   "cell_type": "code",
   "execution_count": 88,
   "id": "65dfa209-9aa1-4a86-8817-923fb93cb631",
   "metadata": {},
   "outputs": [],
   "source": [
    "import h5py\n",
    "\n",
    "f = h5py.File('Images/big_raster/tr_ALLS1_patch/tr_Ymodel.hdf5', 'r')\n",
    "S1_patch_id = np.array(f[\"id_sar\"])\n",
    "S2_patch_id = np.array(f[\"id_rgb\"])\n",
    "S1_patch_lulc = np.array(f[\"lulc_sar\"])\n",
    "S2_patch_lulc = np.array(f[\"lulc_rgb\"])\n",
    "S1_patch_path = f[\"patch_sar_path\"]\n",
    "S2_patch_path = f[\"patch_rgb_path\"]\n",
    "                         \n",
    "f = h5py.File('Images/big_raster/g_ALLS1_patch/g_Ymodel.hdf5', 'r')\n",
    "S1_grid_id = np.array(f[\"id_sar\"])          \n",
    "S2_grid_id = np.array(f[\"id_rgb\"])                     \n",
    "S1_grid_path = f[\"patch_sar_path\"]\n",
    "S2_grid_path = f[\"patch_rgb_path\"]"
   ]
  },
  {
   "cell_type": "code",
   "execution_count": 89,
   "id": "33556ef2-5fd1-4259-86db-fe5740d30cbc",
   "metadata": {},
   "outputs": [],
   "source": [
    "stack = stackage(S1_grid_path)\n",
    "S1_stack_grid = normalise_01(stack)\n",
    "\n",
    "stack = stackage(S2_grid_path)\n",
    "S2_stack_grid = normalise_01(stack)"
   ]
  },
  {
   "cell_type": "code",
   "execution_count": 90,
   "id": "13eff9a0-c230-4e81-9320-4d5582c90b84",
   "metadata": {},
   "outputs": [],
   "source": [
    "S1_patch_id = S1_patch_id.reshape(S1_patch_id.size,1)\n",
    "S2_patch_id = S2_patch_id.reshape(S2_patch_id.size,1)\n",
    "S1_patch_lulc = S1_patch_lulc.reshape(S1_patch_lulc.size,1)\n",
    "S2_patch_lulc = S2_patch_lulc.reshape(S2_patch_lulc.size,1)\n",
    "S1_grid_id = S1_grid_id.reshape(S1_grid_id.size,1)\n",
    "S2_grid_id = S2_grid_id.reshape(S2_grid_id.size,1)"
   ]
  },
  {
   "cell_type": "code",
   "execution_count": 91,
   "id": "0f96a6d5-c4b0-4d84-a9b2-80276644d13c",
   "metadata": {},
   "outputs": [],
   "source": [
    "patch_id_train, patch_id_test, patch_lulc_train, patch_lulc_test = train_test_split(S1_patch_id,S1_patch_lulc, test_size=0.2, random_state=100)\n",
    "patch_id_train = reshape(patch_id_train)\n",
    "patch_id_test = reshape(patch_id_test)\n",
    "patch_lulc_train = reshape(patch_lulc_train)\n",
    "patch_lulc_test = reshape(patch_lulc_test)   "
   ]
  },
  {
   "cell_type": "code",
   "execution_count": 92,
   "id": "9121b3b5-db00-44e4-974a-d6f1f592ef9a",
   "metadata": {
    "scrolled": true,
    "tags": []
   },
   "outputs": [
    {
     "name": "stderr",
     "output_type": "stream",
     "text": [
      "Clipping input data to the valid range for imshow with RGB data ([0..1] for floats or [0..255] for integers).\n",
      "Clipping input data to the valid range for imshow with RGB data ([0..1] for floats or [0..255] for integers).\n",
      "Clipping input data to the valid range for imshow with RGB data ([0..1] for floats or [0..255] for integers).\n"
     ]
    },
    {
     "name": "stdout",
     "output_type": "stream",
     "text": [
      "[1232.  788.  542. 2034.]\n",
      "b'Images/big_raster/tr_RBGNIR_patch/tr_RBGNIR_15838_0.tif'\n",
      "[15838]\n",
      "[1248. 1136.  972. 1484.]\n",
      "b'Images/big_raster/tr_RBGNIR_patch/tr_RBGNIR_66709_1.tif'\n",
      "[66709]\n",
      "[1292. 1066.  978. 1292.]\n",
      "b'Images/big_raster/tr_RBGNIR_patch/tr_RBGNIR_62910_1.tif'\n",
      "[62910]\n"
     ]
    },
    {
     "name": "stderr",
     "output_type": "stream",
     "text": [
      "Clipping input data to the valid range for imshow with RGB data ([0..1] for floats or [0..255] for integers).\n",
      "Clipping input data to the valid range for imshow with RGB data ([0..1] for floats or [0..255] for integers).\n",
      "Clipping input data to the valid range for imshow with RGB data ([0..1] for floats or [0..255] for integers).\n"
     ]
    },
    {
     "name": "stdout",
     "output_type": "stream",
     "text": [
      "[1582. 1364. 1180. 2076.]\n",
      "b'Images/big_raster/tr_RBGNIR_patch/tr_RBGNIR_72968_1.tif'\n",
      "[72968]\n",
      "[1598. 1320. 1017. 2085.]\n",
      "b'Images/big_raster/tr_RBGNIR_patch/tr_RBGNIR_75481_1.tif'\n",
      "[75481]\n",
      "[1262.  919.  636. 2106.]\n",
      "b'Images/big_raster/tr_RBGNIR_patch/tr_RBGNIR_7017_0.tif'\n",
      "[7017]\n"
     ]
    },
    {
     "data": {
      "image/png": "[encoded data removed]",
      "text/plain": [
       "<Figure size 1080x1080 with 3 Axes>"
      ]
     },
     "metadata": {},
     "output_type": "display_data"
    },
    {
     "data": {
      "image/png": "[encoded data removed]",
      "text/plain": [
       "<Figure size 1080x1080 with 3 Axes>"
      ]
     },
     "metadata": {},
     "output_type": "display_data"
    }
   ],
   "source": [
    "stack_train = assimilation(patch_id_train, patch_id_test, S2_patch_path)[0]\n",
    "stack_test = assimilation(patch_id_train, patch_id_test, S2_patch_path)[1]"
   ]
  },
  {
   "cell_type": "code",
   "execution_count": 93,
   "id": "dd20f822-9c6f-407e-a49c-b5b682882814",
   "metadata": {
    "scrolled": true,
    "tags": []
   },
   "outputs": [
    {
     "name": "stderr",
     "output_type": "stream",
     "text": [
      "Clipping input data to the valid range for imshow with RGB data ([0..1] for floats or [0..255] for integers).\n",
      "Clipping input data to the valid range for imshow with RGB data ([0..1] for floats or [0..255] for integers).\n",
      "Clipping input data to the valid range for imshow with RGB data ([0..1] for floats or [0..255] for integers).\n"
     ]
    },
    {
     "name": "stdout",
     "output_type": "stream",
     "text": [
      "[  0.328826   -6.9042487 -12.448343 ]\n",
      "b'Images/big_raster/tr_ALLS1_patch/tr_ALLS1_64360_1.tif'\n",
      "[64360]\n",
      "[  0.649471   -1.8897724 -11.680624 ]\n",
      "b'Images/big_raster/tr_ALLS1_patch/tr_ALLS1_54565_1.tif'\n",
      "[54565]\n",
      "[  0.34103557  -8.143668   -14.903576  ]\n",
      "b'Images/big_raster/tr_ALLS1_patch/tr_ALLS1_19055_0.tif'\n",
      "[19055]\n"
     ]
    },
    {
     "name": "stderr",
     "output_type": "stream",
     "text": [
      "Clipping input data to the valid range for imshow with RGB data ([0..1] for floats or [0..255] for integers).\n",
      "Clipping input data to the valid range for imshow with RGB data ([0..1] for floats or [0..255] for integers).\n",
      "Clipping input data to the valid range for imshow with RGB data ([0..1] for floats or [0..255] for integers).\n"
     ]
    },
    {
     "name": "stdout",
     "output_type": "stream",
     "text": [
      "[  0.24462925  -8.856425   -14.174917  ]\n",
      "b'Images/big_raster/tr_ALLS1_patch/tr_ALLS1_73145_0.tif'\n",
      "[73145]\n",
      "[  0.60381335  -5.1876335  -12.870231  ]\n",
      "b'Images/big_raster/tr_ALLS1_patch/tr_ALLS1_16553_0.tif'\n",
      "[16553]\n",
      "[  0.38063583 -10.422349   -18.372583  ]\n",
      "b'Images/big_raster/tr_ALLS1_patch/tr_ALLS1_76993_1.tif'\n",
      "[76993]\n"
     ]
    },
    {
     "data": {
      "image/png": "[encoded data removed]",
      "text/plain": [
       "<Figure size 1080x1080 with 3 Axes>"
      ]
     },
     "metadata": {},
     "output_type": "display_data"
    },
    {
     "data": {
      "image/png": "[encoded data removed]",
      "text/plain": [
       "<Figure size 1080x1080 with 3 Axes>"
      ]
     },
     "metadata": {},
     "output_type": "display_data"
    }
   ],
   "source": [
    "stack_sar_train = assimilation(patch_id_train, patch_id_test, S1_patch_path)[0]\n",
    "stack_sar_test = assimilation(patch_id_train, patch_id_test, S1_patch_path)[1]"
   ]
  },
  {
   "cell_type": "markdown",
   "id": "208b69de-5519-4fd6-9be7-2f4add4f29d4",
   "metadata": {},
   "source": [
    "## Model definition"
   ]
  },
  {
   "cell_type": "code",
   "execution_count": 126,
   "id": "753900e4-fb05-413d-8d97-50949287cab3",
   "metadata": {},
   "outputs": [],
   "source": [
    "def ymodel(left_input_shape,right_input_shape,batch_size,kernel_size,dropout,n_filters,stack_train,stack_test,stack_sar_train,stack_sar_test):\n",
    "    \n",
    "    class myCallback(tf.keras.callbacks.Callback):\n",
    "        def on_epoch_end(self, epoch, logs = {}):\n",
    "            if logs.get('val_accuracy') > 0.98:\n",
    "              print(\"\\n Enough accuracy\")\n",
    "              self.model.stop_training = True\n",
    "\n",
    "    #callbacks = myCallback()\n",
    "    callbacks = tf.keras.callbacks.EarlyStopping(monitor='val_loss', patience=50, mode='min')\n",
    "\n",
    "    \n",
    "    left_inputs = Input(shape=left_input_shape)\n",
    "    x = left_inputs\n",
    "    filters = n_filters\n",
    "\n",
    "    #Left branch\n",
    "\n",
    "    # 2 layer of Conv2D-Dropout-MaxPooling2D\n",
    "    for i in range(2):\n",
    "        x = RandomFlip(\"horizontal_and_vertical\")(x)\n",
    "        x = RandomRotation(0.2, fill_mode='reflect')(x)\n",
    "        #x = RandomTranslation(height_factor=0.05, width_factor=0.05, fill_mode='reflect')(x)\n",
    "        x = Conv2D(filters=filters,\n",
    "                   kernel_size=kernel_size,\n",
    "                   padding='same',\n",
    "                   activation='relu')(x)\n",
    "        x = BatchNormalization(axis=-1)(x)\n",
    "        x = MaxPooling2D()(x)\n",
    "        filters *= 2\n",
    "\n",
    "    x = Dropout(dropout)(x)\n",
    "    \n",
    "    right_inputs = Input(shape=right_input_shape)\n",
    "    y = right_inputs\n",
    "    filters = n_filters\n",
    "\n",
    "\n",
    "\n",
    "    #Right branch\n",
    "\n",
    "    # 2 layer of Conv2D-Dropout-MaxPooling2D\n",
    "\n",
    "    for i in range(2):\n",
    "        y = RandomFlip(\"horizontal_and_vertical\")(y)\n",
    "        y = RandomRotation(0.2, fill_mode='reflect')(y)\n",
    "        #y = RandomTranslation(height_factor=0.05, width_factor=0.05, fill_mode='reflect')(y)     \n",
    "        y = Conv2D(filters=filters,\n",
    "                   kernel_size=kernel_size,\n",
    "                   padding='same',\n",
    "                   activation='relu',\n",
    "                   dilation_rate=2)(y)\n",
    "        y = BatchNormalization(axis=-1)(y)\n",
    "        y = MaxPooling2D()(y)\n",
    "        filters *= 2\n",
    "\n",
    "\n",
    "    y = Dropout(dropout)(y)    \n",
    "    \n",
    "    # merge left and right branches outputs\n",
    "    z = concatenate([x, y])\n",
    "    \n",
    "    # feature maps to vector before connecting to Dense \n",
    "    #num_labels = (0,1)\n",
    "    z = Flatten()(y)\n",
    "    #y = Dropout(dropout)(y)\n",
    "    z = Dense(256,activation='relu')(z)\n",
    "    z = Dropout(dropout)(z)\n",
    "    outputs = Dense(1, activation='sigmoid')(z)\n",
    "    \n",
    "    \n",
    "    model = Model([left_inputs, right_inputs], outputs)\n",
    "    \n",
    "    model.summary()\n",
    "    \n",
    "    model.compile(loss=\"mean_squared_error\",\n",
    "              optimizer=Adam(learning_rate=1e-4),\n",
    "              metrics=['accuracy'])\n",
    "    \n",
    "    history = model.fit([stack_train, stack_sar_train],\n",
    "          patch_lulc_train, \n",
    "          validation_data=([stack_test, stack_sar_test], patch_lulc_test),\n",
    "          epochs=100,\n",
    "          batch_size=batch_size, callbacks=[callbacks])\n",
    "    \n",
    "    score = model.evaluate([stack_test, stack_sar_test],\n",
    "                       patch_lulc_test,\n",
    "                       batch_size=batch_size,\n",
    "                       verbose=0)\n",
    "    \n",
    "    predict = model.predict([S2_stack_grid, S1_stack_grid])\n",
    "    \n",
    "    print(score)\n",
    "    \n",
    "    return history, predict"
   ]
  },
  {
   "cell_type": "code",
   "execution_count": 127,
   "id": "9c4ed473-27ac-4203-be11-7551201baf46",
   "metadata": {},
   "outputs": [],
   "source": [
    "left_input_shape = (10,10,4)\n",
    "right_input_shape = (10,10,3)\n",
    "batch_size = 32\n",
    "kernel_size = 3\n",
    "dropout = 0.4\n",
    "n_filters = 32"
   ]
  },
  {
   "cell_type": "code",
   "execution_count": 128,
   "id": "837020b4-5b75-46f1-8367-e809b87d0f38",
   "metadata": {
    "scrolled": true,
    "tags": []
   },
   "outputs": [
    {
     "name": "stdout",
     "output_type": "stream",
     "text": [
      "Model: \"model_4\"\n",
      "__________________________________________________________________________________________________\n",
      " Layer (type)                   Output Shape         Param #     Connected to                     \n",
      "==================================================================================================\n",
      " input_10 (InputLayer)          [(None, 10, 10, 3)]  0           []                               \n",
      "                                                                                                  \n",
      " random_flip_18 (RandomFlip)    (None, 10, 10, 3)    0           ['input_10[0][0]']               \n",
      "                                                                                                  \n",
      " random_rotation_18 (RandomRota  (None, 10, 10, 3)   0           ['random_flip_18[0][0]']         \n",
      " tion)                                                                                            \n",
      "                                                                                                  \n",
      " conv2d_18 (Conv2D)             (None, 10, 10, 32)   896         ['random_rotation_18[0][0]']     \n",
      "                                                                                                  \n",
      " batch_normalization_18 (BatchN  (None, 10, 10, 32)  128         ['conv2d_18[0][0]']              \n",
      " ormalization)                                                                                    \n",
      "                                                                                                  \n",
      " max_pooling2d_18 (MaxPooling2D  (None, 5, 5, 32)    0           ['batch_normalization_18[0][0]'] \n",
      " )                                                                                                \n",
      "                                                                                                  \n",
      " random_flip_19 (RandomFlip)    (None, 5, 5, 32)     0           ['max_pooling2d_18[0][0]']       \n",
      "                                                                                                  \n",
      " random_rotation_19 (RandomRota  (None, 5, 5, 32)    0           ['random_flip_19[0][0]']         \n",
      " tion)                                                                                            \n",
      "                                                                                                  \n",
      " conv2d_19 (Conv2D)             (None, 5, 5, 64)     18496       ['random_rotation_19[0][0]']     \n",
      "                                                                                                  \n",
      " batch_normalization_19 (BatchN  (None, 5, 5, 64)    256         ['conv2d_19[0][0]']              \n",
      " ormalization)                                                                                    \n",
      "                                                                                                  \n",
      " max_pooling2d_19 (MaxPooling2D  (None, 2, 2, 64)    0           ['batch_normalization_19[0][0]'] \n",
      " )                                                                                                \n",
      "                                                                                                  \n",
      " dropout_13 (Dropout)           (None, 2, 2, 64)     0           ['max_pooling2d_19[0][0]']       \n",
      "                                                                                                  \n",
      " flatten_4 (Flatten)            (None, 256)          0           ['dropout_13[0][0]']             \n",
      "                                                                                                  \n",
      " dense_8 (Dense)                (None, 256)          65792       ['flatten_4[0][0]']              \n",
      "                                                                                                  \n",
      " dropout_14 (Dropout)           (None, 256)          0           ['dense_8[0][0]']                \n",
      "                                                                                                  \n",
      " input_9 (InputLayer)           [(None, 10, 10, 4)]  0           []                               \n",
      "                                                                                                  \n",
      " dense_9 (Dense)                (None, 1)            257         ['dropout_14[0][0]']             \n",
      "                                                                                                  \n",
      "==================================================================================================\n",
      "Total params: 85,825\n",
      "Trainable params: 85,633\n",
      "Non-trainable params: 192\n",
      "__________________________________________________________________________________________________\n",
      "Epoch 1/100\n",
      "172/172 [==============================] - 6s 26ms/step - loss: 0.1578 - accuracy: 0.7944 - val_loss: 0.1799 - val_accuracy: 0.7799\n",
      "Epoch 2/100\n",
      "172/172 [==============================] - 4s 26ms/step - loss: 0.1283 - accuracy: 0.8422 - val_loss: 0.1645 - val_accuracy: 0.8039\n",
      "Epoch 3/100\n",
      "172/172 [==============================] - 5s 26ms/step - loss: 0.1267 - accuracy: 0.8464 - val_loss: 0.1567 - val_accuracy: 0.8273\n",
      "Epoch 4/100\n",
      "172/172 [==============================] - 4s 25ms/step - loss: 0.1191 - accuracy: 0.8544 - val_loss: 0.1506 - val_accuracy: 0.8338\n",
      "Epoch 5/100\n",
      "172/172 [==============================] - 4s 25ms/step - loss: 0.1189 - accuracy: 0.8546 - val_loss: 0.1460 - val_accuracy: 0.8345\n",
      "Epoch 6/100\n",
      "172/172 [==============================] - 4s 26ms/step - loss: 0.1159 - accuracy: 0.8562 - val_loss: 0.1414 - val_accuracy: 0.8426\n",
      "Epoch 7/100\n",
      "172/172 [==============================] - 4s 25ms/step - loss: 0.1102 - accuracy: 0.8626 - val_loss: 0.1452 - val_accuracy: 0.8375\n",
      "Epoch 8/100\n",
      "172/172 [==============================] - 4s 25ms/step - loss: 0.1112 - accuracy: 0.8620 - val_loss: 0.1303 - val_accuracy: 0.8528\n",
      "Epoch 9/100\n",
      "172/172 [==============================] - 4s 26ms/step - loss: 0.1099 - accuracy: 0.8637 - val_loss: 0.1541 - val_accuracy: 0.8324\n",
      "Epoch 10/100\n",
      "172/172 [==============================] - 4s 25ms/step - loss: 0.1049 - accuracy: 0.8677 - val_loss: 0.1451 - val_accuracy: 0.8389\n",
      "Epoch 11/100\n",
      "172/172 [==============================] - 4s 24ms/step - loss: 0.1029 - accuracy: 0.8722 - val_loss: 0.1559 - val_accuracy: 0.8265\n",
      "Epoch 12/100\n",
      "172/172 [==============================] - 4s 25ms/step - loss: 0.1062 - accuracy: 0.8660 - val_loss: 0.1291 - val_accuracy: 0.8499\n",
      "Epoch 13/100\n",
      "172/172 [==============================] - 4s 25ms/step - loss: 0.1010 - accuracy: 0.8753 - val_loss: 0.1333 - val_accuracy: 0.8433\n",
      "Epoch 14/100\n",
      "172/172 [==============================] - 4s 26ms/step - loss: 0.1029 - accuracy: 0.8701 - val_loss: 0.1232 - val_accuracy: 0.8513\n",
      "Epoch 15/100\n",
      "172/172 [==============================] - 4s 26ms/step - loss: 0.1005 - accuracy: 0.8697 - val_loss: 0.1201 - val_accuracy: 0.8506\n",
      "Epoch 16/100\n",
      "172/172 [==============================] - 5s 26ms/step - loss: 0.0999 - accuracy: 0.8713 - val_loss: 0.1138 - val_accuracy: 0.8564\n",
      "Epoch 17/100\n",
      "172/172 [==============================] - 4s 25ms/step - loss: 0.0975 - accuracy: 0.8742 - val_loss: 0.1009 - val_accuracy: 0.8659\n",
      "Epoch 18/100\n",
      "172/172 [==============================] - 4s 26ms/step - loss: 0.0953 - accuracy: 0.8755 - val_loss: 0.1064 - val_accuracy: 0.8615\n",
      "Epoch 19/100\n",
      "172/172 [==============================] - 5s 27ms/step - loss: 0.0970 - accuracy: 0.8779 - val_loss: 0.1029 - val_accuracy: 0.8601\n",
      "Epoch 20/100\n",
      "172/172 [==============================] - 5s 26ms/step - loss: 0.0963 - accuracy: 0.8742 - val_loss: 0.1039 - val_accuracy: 0.8622\n",
      "Epoch 21/100\n",
      "172/172 [==============================] - 5s 26ms/step - loss: 0.0946 - accuracy: 0.8722 - val_loss: 0.0988 - val_accuracy: 0.8644\n",
      "Epoch 22/100\n",
      "172/172 [==============================] - 4s 26ms/step - loss: 0.0932 - accuracy: 0.8801 - val_loss: 0.1076 - val_accuracy: 0.8557\n",
      "Epoch 23/100\n",
      "172/172 [==============================] - 5s 27ms/step - loss: 0.0971 - accuracy: 0.8742 - val_loss: 0.1027 - val_accuracy: 0.8564\n",
      "Epoch 24/100\n",
      "172/172 [==============================] - 5s 27ms/step - loss: 0.0918 - accuracy: 0.8806 - val_loss: 0.0911 - val_accuracy: 0.8681\n",
      "Epoch 25/100\n",
      "172/172 [==============================] - 4s 25ms/step - loss: 0.0923 - accuracy: 0.8799 - val_loss: 0.0930 - val_accuracy: 0.8644\n",
      "Epoch 26/100\n",
      "172/172 [==============================] - 5s 26ms/step - loss: 0.0904 - accuracy: 0.8826 - val_loss: 0.0949 - val_accuracy: 0.8615\n",
      "Epoch 27/100\n",
      "172/172 [==============================] - 4s 26ms/step - loss: 0.0916 - accuracy: 0.8788 - val_loss: 0.0902 - val_accuracy: 0.8681\n",
      "Epoch 28/100\n",
      "172/172 [==============================] - 5s 27ms/step - loss: 0.0900 - accuracy: 0.8821 - val_loss: 0.0918 - val_accuracy: 0.8644\n",
      "Epoch 29/100\n",
      "172/172 [==============================] - 4s 26ms/step - loss: 0.0876 - accuracy: 0.8852 - val_loss: 0.0873 - val_accuracy: 0.8797\n",
      "Epoch 30/100\n",
      "172/172 [==============================] - 4s 26ms/step - loss: 0.0913 - accuracy: 0.8834 - val_loss: 0.0852 - val_accuracy: 0.8812\n",
      "Epoch 31/100\n",
      "172/172 [==============================] - 4s 25ms/step - loss: 0.0903 - accuracy: 0.8806 - val_loss: 0.0931 - val_accuracy: 0.8630\n",
      "Epoch 32/100\n",
      "172/172 [==============================] - 4s 25ms/step - loss: 0.0876 - accuracy: 0.8837 - val_loss: 0.0861 - val_accuracy: 0.8768\n",
      "Epoch 33/100\n",
      "172/172 [==============================] - 5s 26ms/step - loss: 0.0876 - accuracy: 0.8854 - val_loss: 0.0866 - val_accuracy: 0.8805\n",
      "Epoch 34/100\n",
      "172/172 [==============================] - 4s 25ms/step - loss: 0.0871 - accuracy: 0.8863 - val_loss: 0.0890 - val_accuracy: 0.8717\n",
      "Epoch 35/100\n",
      "172/172 [==============================] - 5s 26ms/step - loss: 0.0884 - accuracy: 0.8799 - val_loss: 0.0850 - val_accuracy: 0.8834\n",
      "Epoch 36/100\n",
      "172/172 [==============================] - 4s 24ms/step - loss: 0.0880 - accuracy: 0.8857 - val_loss: 0.0860 - val_accuracy: 0.8819\n",
      "Epoch 37/100\n",
      "172/172 [==============================] - 4s 26ms/step - loss: 0.0884 - accuracy: 0.8839 - val_loss: 0.0887 - val_accuracy: 0.8724\n",
      "Epoch 38/100\n",
      "172/172 [==============================] - 4s 25ms/step - loss: 0.0865 - accuracy: 0.8845 - val_loss: 0.0881 - val_accuracy: 0.8776\n",
      "Epoch 39/100\n",
      "172/172 [==============================] - 4s 25ms/step - loss: 0.0887 - accuracy: 0.8806 - val_loss: 0.0859 - val_accuracy: 0.8783\n",
      "Epoch 40/100\n",
      "172/172 [==============================] - 4s 26ms/step - loss: 0.0858 - accuracy: 0.8903 - val_loss: 0.0899 - val_accuracy: 0.8710\n",
      "Epoch 41/100\n",
      "172/172 [==============================] - 4s 26ms/step - loss: 0.0856 - accuracy: 0.8876 - val_loss: 0.0861 - val_accuracy: 0.8805\n",
      "Epoch 42/100\n",
      "172/172 [==============================] - 5s 27ms/step - loss: 0.0844 - accuracy: 0.8870 - val_loss: 0.0877 - val_accuracy: 0.8776\n",
      "Epoch 43/100\n",
      "172/172 [==============================] - 4s 25ms/step - loss: 0.0850 - accuracy: 0.8866 - val_loss: 0.0855 - val_accuracy: 0.8856\n",
      "Epoch 44/100\n",
      "172/172 [==============================] - 4s 25ms/step - loss: 0.0869 - accuracy: 0.8866 - val_loss: 0.0843 - val_accuracy: 0.8878\n",
      "Epoch 45/100\n",
      "172/172 [==============================] - 4s 26ms/step - loss: 0.0851 - accuracy: 0.8876 - val_loss: 0.0867 - val_accuracy: 0.8812\n",
      "Epoch 46/100\n",
      "172/172 [==============================] - 4s 25ms/step - loss: 0.0865 - accuracy: 0.8859 - val_loss: 0.0870 - val_accuracy: 0.8783\n",
      "Epoch 47/100\n",
      "172/172 [==============================] - 5s 26ms/step - loss: 0.0863 - accuracy: 0.8845 - val_loss: 0.0859 - val_accuracy: 0.8819\n",
      "Epoch 48/100\n",
      "172/172 [==============================] - 5s 27ms/step - loss: 0.0860 - accuracy: 0.8841 - val_loss: 0.0855 - val_accuracy: 0.8790\n",
      "Epoch 49/100\n",
      "172/172 [==============================] - 4s 25ms/step - loss: 0.0824 - accuracy: 0.8901 - val_loss: 0.0969 - val_accuracy: 0.8630\n",
      "Epoch 50/100\n",
      "172/172 [==============================] - 4s 26ms/step - loss: 0.0858 - accuracy: 0.8857 - val_loss: 0.0863 - val_accuracy: 0.8790\n",
      "Epoch 51/100\n",
      "172/172 [==============================] - 4s 26ms/step - loss: 0.0842 - accuracy: 0.8901 - val_loss: 0.0843 - val_accuracy: 0.8812\n",
      "Epoch 52/100\n",
      "172/172 [==============================] - 4s 25ms/step - loss: 0.0843 - accuracy: 0.8872 - val_loss: 0.0846 - val_accuracy: 0.8776\n",
      "Epoch 53/100\n",
      "172/172 [==============================] - 5s 26ms/step - loss: 0.0847 - accuracy: 0.8866 - val_loss: 0.0873 - val_accuracy: 0.8819\n",
      "Epoch 54/100\n",
      "172/172 [==============================] - 4s 26ms/step - loss: 0.0838 - accuracy: 0.8886 - val_loss: 0.0866 - val_accuracy: 0.8805\n",
      "Epoch 55/100\n",
      "172/172 [==============================] - 4s 26ms/step - loss: 0.0843 - accuracy: 0.8901 - val_loss: 0.0868 - val_accuracy: 0.8812\n",
      "Epoch 56/100\n",
      "172/172 [==============================] - 5s 26ms/step - loss: 0.0846 - accuracy: 0.8885 - val_loss: 0.0863 - val_accuracy: 0.8819\n",
      "Epoch 57/100\n",
      "172/172 [==============================] - 5s 28ms/step - loss: 0.0851 - accuracy: 0.8846 - val_loss: 0.0861 - val_accuracy: 0.8827\n",
      "Epoch 58/100\n",
      "172/172 [==============================] - 4s 25ms/step - loss: 0.0824 - accuracy: 0.8879 - val_loss: 0.0906 - val_accuracy: 0.8834\n",
      "Epoch 59/100\n",
      "172/172 [==============================] - 4s 26ms/step - loss: 0.0843 - accuracy: 0.8896 - val_loss: 0.0877 - val_accuracy: 0.8878\n",
      "Epoch 60/100\n",
      "172/172 [==============================] - 5s 28ms/step - loss: 0.0844 - accuracy: 0.8877 - val_loss: 0.0855 - val_accuracy: 0.8841\n",
      "Epoch 61/100\n",
      "172/172 [==============================] - 5s 28ms/step - loss: 0.0839 - accuracy: 0.8907 - val_loss: 0.0880 - val_accuracy: 0.8899\n",
      "Epoch 62/100\n",
      "172/172 [==============================] - 5s 27ms/step - loss: 0.0831 - accuracy: 0.8907 - val_loss: 0.0877 - val_accuracy: 0.8848\n",
      "Epoch 63/100\n",
      "172/172 [==============================] - 4s 26ms/step - loss: 0.0853 - accuracy: 0.8870 - val_loss: 0.0884 - val_accuracy: 0.8929\n",
      "Epoch 64/100\n",
      "172/172 [==============================] - 4s 26ms/step - loss: 0.0826 - accuracy: 0.8905 - val_loss: 0.0867 - val_accuracy: 0.8914\n",
      "Epoch 65/100\n",
      "172/172 [==============================] - 4s 25ms/step - loss: 0.0843 - accuracy: 0.8890 - val_loss: 0.0853 - val_accuracy: 0.8885\n",
      "Epoch 66/100\n",
      "172/172 [==============================] - 5s 26ms/step - loss: 0.0855 - accuracy: 0.8845 - val_loss: 0.0879 - val_accuracy: 0.8936\n",
      "Epoch 67/100\n",
      "172/172 [==============================] - 4s 26ms/step - loss: 0.0824 - accuracy: 0.8923 - val_loss: 0.0881 - val_accuracy: 0.8856\n",
      "Epoch 68/100\n",
      "172/172 [==============================] - 5s 27ms/step - loss: 0.0854 - accuracy: 0.8876 - val_loss: 0.0888 - val_accuracy: 0.8863\n",
      "Epoch 69/100\n",
      "172/172 [==============================] - 4s 26ms/step - loss: 0.0800 - accuracy: 0.8928 - val_loss: 0.0876 - val_accuracy: 0.8841\n",
      "Epoch 70/100\n",
      "172/172 [==============================] - 4s 26ms/step - loss: 0.0827 - accuracy: 0.8917 - val_loss: 0.0863 - val_accuracy: 0.8878\n",
      "Epoch 71/100\n",
      "172/172 [==============================] - 5s 26ms/step - loss: 0.0831 - accuracy: 0.8905 - val_loss: 0.0911 - val_accuracy: 0.8856\n",
      "Epoch 72/100\n",
      "172/172 [==============================] - 5s 26ms/step - loss: 0.0831 - accuracy: 0.8888 - val_loss: 0.0980 - val_accuracy: 0.8790\n",
      "Epoch 73/100\n",
      "172/172 [==============================] - 4s 26ms/step - loss: 0.0824 - accuracy: 0.8890 - val_loss: 0.0975 - val_accuracy: 0.8848\n",
      "Epoch 74/100\n",
      "172/172 [==============================] - 5s 27ms/step - loss: 0.0825 - accuracy: 0.8886 - val_loss: 0.0905 - val_accuracy: 0.8848\n",
      "Epoch 75/100\n",
      "172/172 [==============================] - 4s 26ms/step - loss: 0.0837 - accuracy: 0.8888 - val_loss: 0.0917 - val_accuracy: 0.8848\n",
      "Epoch 76/100\n",
      "172/172 [==============================] - 4s 26ms/step - loss: 0.0825 - accuracy: 0.8916 - val_loss: 0.0971 - val_accuracy: 0.8783\n",
      "Epoch 77/100\n",
      "172/172 [==============================] - 4s 25ms/step - loss: 0.0822 - accuracy: 0.8923 - val_loss: 0.0932 - val_accuracy: 0.8848\n",
      "Epoch 78/100\n",
      "172/172 [==============================] - 4s 24ms/step - loss: 0.0829 - accuracy: 0.8892 - val_loss: 0.0947 - val_accuracy: 0.8812\n",
      "Epoch 79/100\n",
      "172/172 [==============================] - 4s 26ms/step - loss: 0.0822 - accuracy: 0.8899 - val_loss: 0.0982 - val_accuracy: 0.8688\n",
      "Epoch 80/100\n",
      "172/172 [==============================] - 5s 27ms/step - loss: 0.0834 - accuracy: 0.8899 - val_loss: 0.0920 - val_accuracy: 0.8797\n",
      "Epoch 81/100\n",
      "172/172 [==============================] - 4s 25ms/step - loss: 0.0839 - accuracy: 0.8876 - val_loss: 0.0958 - val_accuracy: 0.8717\n",
      "Epoch 82/100\n",
      "172/172 [==============================] - 4s 26ms/step - loss: 0.0806 - accuracy: 0.8907 - val_loss: 0.0849 - val_accuracy: 0.8863\n",
      "Epoch 83/100\n",
      "172/172 [==============================] - 4s 25ms/step - loss: 0.0801 - accuracy: 0.8945 - val_loss: 0.0935 - val_accuracy: 0.8768\n",
      "Epoch 84/100\n",
      "172/172 [==============================] - 4s 25ms/step - loss: 0.0810 - accuracy: 0.8919 - val_loss: 0.0926 - val_accuracy: 0.8776\n",
      "Epoch 85/100\n",
      "172/172 [==============================] - 4s 26ms/step - loss: 0.0790 - accuracy: 0.8950 - val_loss: 0.0986 - val_accuracy: 0.8717\n",
      "Epoch 86/100\n",
      "172/172 [==============================] - 4s 25ms/step - loss: 0.0833 - accuracy: 0.8881 - val_loss: 0.0936 - val_accuracy: 0.8841\n",
      "Epoch 87/100\n",
      "172/172 [==============================] - 4s 25ms/step - loss: 0.0806 - accuracy: 0.8939 - val_loss: 0.1162 - val_accuracy: 0.8382\n",
      "Epoch 88/100\n",
      "172/172 [==============================] - 4s 26ms/step - loss: 0.0811 - accuracy: 0.8937 - val_loss: 0.0853 - val_accuracy: 0.8856\n",
      "Epoch 89/100\n",
      "172/172 [==============================] - 4s 26ms/step - loss: 0.0822 - accuracy: 0.8901 - val_loss: 0.0973 - val_accuracy: 0.8761\n",
      "Epoch 90/100\n",
      "172/172 [==============================] - 4s 26ms/step - loss: 0.0832 - accuracy: 0.8883 - val_loss: 0.0901 - val_accuracy: 0.8907\n",
      "Epoch 91/100\n",
      "172/172 [==============================] - 4s 25ms/step - loss: 0.0812 - accuracy: 0.8927 - val_loss: 0.0906 - val_accuracy: 0.8841\n",
      "Epoch 92/100\n",
      "172/172 [==============================] - 4s 25ms/step - loss: 0.0821 - accuracy: 0.8916 - val_loss: 0.0855 - val_accuracy: 0.8856\n",
      "Epoch 93/100\n",
      "172/172 [==============================] - 4s 26ms/step - loss: 0.0799 - accuracy: 0.8928 - val_loss: 0.0877 - val_accuracy: 0.8856\n",
      "Epoch 94/100\n",
      "172/172 [==============================] - 4s 25ms/step - loss: 0.0814 - accuracy: 0.8907 - val_loss: 0.1036 - val_accuracy: 0.8652\n",
      "2075/2075 [==============================] - 7s 3ms/step\n",
      "[0.1035502478480339, 0.865160346031189]\n"
     ]
    }
   ],
   "source": [
    "output = ymodel(left_input_shape,right_input_shape,batch_size,kernel_size,dropout,n_filters,stack_train,stack_test,stack_sar_train,stack_sar_test)\n",
    "history = output[0]\n",
    "predict = output[1]"
   ]
  },
  {
   "cell_type": "code",
   "execution_count": 129,
   "id": "ae05a4d9-b394-43e7-b837-9f0405bf651a",
   "metadata": {},
   "outputs": [
    {
     "data": {
      "image/png": "[encoded data removed]",
      "text/plain": [
       "<Figure size 432x288 with 1 Axes>"
      ]
     },
     "metadata": {},
     "output_type": "display_data"
    }
   ],
   "source": [
    "plt.plot(history.history[\"loss\"])\n",
    "plt.plot(history.history['val_loss'])\n",
    "plt.show()"
   ]
  },
  {
   "cell_type": "code",
   "execution_count": 130,
   "id": "46eca261-6234-4b65-87bc-54268b453f1a",
   "metadata": {},
   "outputs": [
    {
     "data": {
      "image/png": "[encoded data removed]",
      "text/plain": [
       "<Figure size 432x288 with 1 Axes>"
      ]
     },
     "metadata": {},
     "output_type": "display_data"
    }
   ],
   "source": [
    "plt.plot(history.history[\"accuracy\"])\n",
    "plt.plot(history.history['val_accuracy'])\n",
    "plt.show()"
   ]
  },
  {
   "cell_type": "code",
   "execution_count": 131,
   "id": "792dcb70-bc47-499e-9b96-c19441242e51",
   "metadata": {},
   "outputs": [
    {
     "data": {
      "image/png": "[encoded data removed]",
      "text/plain": [
       "<Figure size 432x288 with 1 Axes>"
      ]
     },
     "metadata": {},
     "output_type": "display_data"
    }
   ],
   "source": [
    "plt.hist(predict)\n",
    "plt.show()"
   ]
  },
  {
   "cell_type": "code",
   "execution_count": 132,
   "id": "2242fedd-5286-46d3-98e9-116459adf6d0",
   "metadata": {},
   "outputs": [
    {
     "name": "stdout",
     "output_type": "stream",
     "text": [
      "[[7.1918403e-05]\n",
      " [3.9870386e-08]\n",
      " [1.1628538e-07]\n",
      " ...\n",
      " [1.8462406e-06]\n",
      " [1.0799960e-04]\n",
      " [2.2534648e-06]]\n"
     ]
    }
   ],
   "source": [
    "print(predict)"
   ]
  },
  {
   "cell_type": "code",
   "execution_count": 123,
   "id": "654ec84d-bca1-407e-8068-924f3246f5c9",
   "metadata": {},
   "outputs": [
    {
     "name": "stdout",
     "output_type": "stream",
     "text": [
      "[[    86]\n",
      " [    87]\n",
      " [    88]\n",
      " ...\n",
      " [126871]\n",
      " [126872]\n",
      " [126873]]\n"
     ]
    }
   ],
   "source": [
    "print(S1_grid_id)"
   ]
  },
  {
   "cell_type": "code",
   "execution_count": 133,
   "id": "c82d5acd-b9bd-425f-89e0-f6ab88ff3459",
   "metadata": {},
   "outputs": [],
   "source": [
    "make_csv(predict, S1_grid_id,'y_S1S2_2')"
   ]
  },
  {
   "cell_type": "code",
   "execution_count": 121,
   "id": "6d89b0ab-65fd-4840-a23a-f04397a26343",
   "metadata": {},
   "outputs": [
    {
     "ename": "AttributeError",
     "evalue": "'numpy.ndarray' object has no attribute 'index'",
     "output_type": "error",
     "traceback": [
      "\u001b[0;31m---------------------------------------------------------------------------\u001b[0m",
      "\u001b[0;31mAttributeError\u001b[0m                            Traceback (most recent call last)",
      "Input \u001b[0;32mIn [121]\u001b[0m, in \u001b[0;36m<cell line: 7>\u001b[0;34m()\u001b[0m\n\u001b[1;32m      8\u001b[0m probstab \u001b[38;5;241m=\u001b[39m mach_patch\u001b[38;5;241m.\u001b[39mGetField(\u001b[38;5;124m'\u001b[39m\u001b[38;5;124mprobstab\u001b[39m\u001b[38;5;124m'\u001b[39m)\n\u001b[1;32m      9\u001b[0m mach_id \u001b[38;5;241m=\u001b[39m mach_patch\u001b[38;5;241m.\u001b[39mGetField(\u001b[38;5;124m'\u001b[39m\u001b[38;5;124mid\u001b[39m\u001b[38;5;124m'\u001b[39m)\n\u001b[0;32m---> 10\u001b[0m index \u001b[38;5;241m=\u001b[39m \u001b[43mS1_grid_id\u001b[49m\u001b[38;5;241;43m.\u001b[39;49m\u001b[43mindex\u001b[49m(mach_id)\n\u001b[1;32m     11\u001b[0m \u001b[38;5;28;01mif\u001b[39;00m probstab \u001b[38;5;241m!=\u001b[39m \u001b[38;5;28;01mNone\u001b[39;00m :\n\u001b[1;32m     12\u001b[0m     line \u001b[38;5;241m=\u001b[39m [\u001b[38;5;28mint\u001b[39m(mach_id),predict[index,\u001b[38;5;241m0\u001b[39m] \u001b[38;5;241m-\u001b[39m probstab]\n",
      "\u001b[0;31mAttributeError\u001b[0m: 'numpy.ndarray' object has no attribute 'index'"
     ]
    }
   ],
   "source": [
    "from osgeo import ogr\n",
    "\n",
    "diff = []\n",
    "diff.append(['id','diff'])\n",
    "mach_res = ogr.Open('CLUSTERS/nairobi_grid100_clust_morpho_10pc_10cl.shp')\n",
    "mach_layer = mach_res.GetLayer()\n",
    "for mach_patch in mach_layer :\n",
    "    probstab = mach_patch.GetField('probstab')\n",
    "    mach_id = mach_patch.GetField('id')\n",
    "    index = S1_grid_id.index(mach_id)\n",
    "    if probstab != None :\n",
    "        line = [int(mach_id),predict[index,0] - probstab]\n",
    "        diff.append(line)\n",
    "    else :\n",
    "        line = [int(mach_id),None]\n",
    "        diff.append(line)"
   ]
  },
  {
   "cell_type": "code",
   "execution_count": null,
   "id": "0615846e-4b88-42d5-ad27-9683efb24e86",
   "metadata": {},
   "outputs": [],
   "source": [
    "import csv\n",
    "\n",
    "name = 'machVSdeep2'\n",
    "\n",
    "with open(str(name)+'.csv','w') as file :\n",
    "    write = csv.writer(file)\n",
    "    write.writerows(diff)"
   ]
  },
  {
   "cell_type": "code",
   "execution_count": null,
   "id": "cd9005fb-7b70-407c-ac8d-2edf80507bff",
   "metadata": {},
   "outputs": [],
   "source": [
    "print(diff)"
   ]
  },
  {
   "cell_type": "code",
   "execution_count": null,
   "id": "64893877-f494-4c38-b8f6-af9e73634adc",
   "metadata": {},
   "outputs": [],
   "source": []
  }
 ],
 "metadata": {
  "kernelspec": {
   "display_name": "Python 3",
   "language": "python",
   "name": "python3"
  },
  "language_info": {
   "codemirror_mode": {
    "name": "ipython",
    "version": 3
   },
   "file_extension": ".py",
   "mimetype": "text/x-python",
   "name": "python",
   "nbconvert_exporter": "python",
   "pygments_lexer": "ipython3",
   "version": "3.8.10"
  }
 },
 "nbformat": 4,
 "nbformat_minor": 5
}
